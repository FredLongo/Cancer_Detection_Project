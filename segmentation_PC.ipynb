{
  "cells": [
    {
      "cell_type": "markdown",
      "metadata": {
        "id": "view-in-github",
        "colab_type": "text"
      },
      "source": [
        "<a href=\"https://colab.research.google.com/github/FredLongo/Cancer_Detection_Project/blob/main/segmentation_PC.ipynb\" target=\"_parent\"><img src=\"https://colab.research.google.com/assets/colab-badge.svg\" alt=\"Open In Colab\"/></a>"
      ]
    },
    {
      "cell_type": "markdown",
      "id": "e0256c70",
      "metadata": {
        "id": "e0256c70"
      },
      "source": [
        "---\n",
        "# **Segmentation Performs the following**\n",
        "   The purpose of the segmentation  is to find regions of intrest (ROI) in the MRI scans.  By doing this we get lists of nodules areas to be evaluated.\n",
        "\n",
        "*   Preps Environment\n",
        "*   Preprocess Data\n",
        "*   Preps the data for training\n",
        "*   Builds the Model\n",
        "*   Train the model\n",
        "*   Save the best model off to be used later\n",
        "\n",
        "---"
      ]
    },
    {
      "cell_type": "markdown",
      "source": [
        "---\n",
        "Prep Environment\n",
        "\n",
        "---\n",
        "\n",
        "\n"
      ],
      "metadata": {
        "id": "-B0A75Dmou7n"
      },
      "id": "-B0A75Dmou7n"
    },
    {
      "cell_type": "code",
      "source": [
        "!pip install SimpleITK"
      ],
      "metadata": {
        "colab": {
          "base_uri": "https://localhost:8080/"
        },
        "id": "78cEvJ1AxV0i",
        "outputId": "d8df941a-76e6-41e7-fc57-385cd2f8f48c"
      },
      "id": "78cEvJ1AxV0i",
      "execution_count": null,
      "outputs": [
        {
          "output_type": "stream",
          "name": "stdout",
          "text": [
            "Collecting SimpleITK\n",
            "  Downloading SimpleITK-2.2.1-cp310-cp310-manylinux_2_17_x86_64.manylinux2014_x86_64.whl (52.7 MB)\n",
            "\u001b[2K     \u001b[90m━━━━━━━━━━━━━━━━━━━━━━━━━━━━━━━━━━━━━━━━\u001b[0m \u001b[32m52.7/52.7 MB\u001b[0m \u001b[31m7.3 MB/s\u001b[0m eta \u001b[36m0:00:00\u001b[0m\n",
            "\u001b[?25hInstalling collected packages: SimpleITK\n",
            "Successfully installed SimpleITK-2.2.1\n"
          ]
        }
      ]
    },
    {
      "cell_type": "code",
      "execution_count": null,
      "id": "6b34e0d3",
      "metadata": {
        "id": "6b34e0d3"
      },
      "outputs": [],
      "source": [
        "import os\n",
        "import cv2\n",
        "import copy\n",
        "import numpy as np\n",
        "import pandas as pd\n",
        "from glob import glob\n",
        "from tqdm import tqdm\n",
        "import SimpleITK as stk\n",
        "import matplotlib.pyplot as plt\n",
        "\n",
        "from sklearn.cluster import KMeans\n",
        "from skimage import measure\n",
        "\n",
        "import numpy as np\n",
        "import cv2\n",
        "import tensorflow as tf\n",
        "from tensorflow.keras.layers import Input, Conv2D, MaxPooling2D, Conv2DTranspose, concatenate\n",
        "from tensorflow.keras.callbacks import ModelCheckpoint, LearningRateScheduler, EarlyStopping, ReduceLROnPlateau\n",
        "from tensorflow.keras.optimizers import Adam\n",
        "from tensorflow.keras.models import Model\n",
        "from tensorflow.keras import backend as K\n",
        "import matplotlib.pyplot as plt\n",
        "#import torch\n",
        "\n",
        "import random\n",
        "# import cell_magic_wand as cmw\n",
        "\n"
      ]
    },
    {
      "cell_type": "markdown",
      "source": [
        "My data is stored on my Good Drive so it needs to be Connected"
      ],
      "metadata": {
        "id": "ta2n6WZ8qK9G"
      },
      "id": "ta2n6WZ8qK9G"
    },
    {
      "cell_type": "code",
      "source": [
        "from google.colab import drive\n",
        "drive.mount('/content/drive')"
      ],
      "metadata": {
        "colab": {
          "base_uri": "https://localhost:8080/"
        },
        "id": "naLPsqrFxIvq",
        "outputId": "e4742835-8825-4260-a31e-ab0f769ba2a2"
      },
      "id": "naLPsqrFxIvq",
      "execution_count": null,
      "outputs": [
        {
          "output_type": "stream",
          "name": "stdout",
          "text": [
            "Mounted at /content/drive\n"
          ]
        }
      ]
    },
    {
      "cell_type": "code",
      "source": [
        "cd drive/MyDrive/PCAI_Project"
      ],
      "metadata": {
        "colab": {
          "base_uri": "https://localhost:8080/"
        },
        "id": "vRW_0chxVdCR",
        "outputId": "a88618b1-157a-48fa-e4f2-434ec2f0d9d6"
      },
      "id": "vRW_0chxVdCR",
      "execution_count": null,
      "outputs": [
        {
          "output_type": "stream",
          "name": "stdout",
          "text": [
            "/content/drive/MyDrive/PCAI_Project\n"
          ]
        }
      ]
    },
    {
      "cell_type": "code",
      "source": [],
      "metadata": {
        "id": "UfqJ9SB_qZ7L"
      },
      "id": "UfqJ9SB_qZ7L",
      "execution_count": null,
      "outputs": []
    },
    {
      "cell_type": "code",
      "source": [],
      "metadata": {
        "id": "tT-3dnitqZzs"
      },
      "id": "tT-3dnitqZzs",
      "execution_count": null,
      "outputs": []
    },
    {
      "cell_type": "code",
      "source": [],
      "metadata": {
        "id": "wDmkafHVqZr0"
      },
      "id": "wDmkafHVqZr0",
      "execution_count": null,
      "outputs": []
    },
    {
      "cell_type": "markdown",
      "source": [
        "---\n",
        "Preprocess Data\n",
        "\n",
        "---\n",
        "This Section Creates the lungs_roi and nodule_masks for trainng.\n",
        "This only needs to be done once and then can be skipped when training models latter."
      ],
      "metadata": {
        "id": "xJCasTqcqwdE"
      },
      "id": "xJCasTqcqwdE"
    },
    {
      "cell_type": "markdown",
      "source": [
        "If I want to redo the building of the lung_roi and nuldule_mask used for training I can delet them.  Of if I want to zip it all up"
      ],
      "metadata": {
        "id": "XbomN60Mqa3J"
      },
      "id": "XbomN60Mqa3J"
    },
    {
      "cell_type": "code",
      "source": [
        "#Clean up mess from last run\n",
        "#!rm -r ProcessedData/lungs_roi/*\n",
        "#!rm -r ProcessedData/nodule_mask/*"
      ],
      "metadata": {
        "id": "q1AJK1HzxJPR",
        "colab": {
          "base_uri": "https://localhost:8080/"
        },
        "outputId": "64f4b3bb-1321-422c-f792-568d659d660b"
      },
      "id": "q1AJK1HzxJPR",
      "execution_count": null,
      "outputs": [
        {
          "output_type": "stream",
          "name": "stdout",
          "text": [
            "rm: cannot remove 'ProcessedData/lungs_roi/*': No such file or directory\n",
            "rm: cannot remove 'ProcessedData/nodule_mask/*': No such file or directory\n"
          ]
        }
      ]
    },
    {
      "cell_type": "code",
      "execution_count": null,
      "id": "48cfdb6b",
      "metadata": {
        "id": "48cfdb6b"
      },
      "outputs": [],
      "source": [
        "root = \"subset0/\"\n",
        "target_root = \"ProcessedData/\""
      ]
    },
    {
      "cell_type": "code",
      "execution_count": null,
      "id": "ca54a359",
      "metadata": {
        "id": "ca54a359"
      },
      "outputs": [],
      "source": [
        "def load_mhd(file):\n",
        "    mhdimage = stk.ReadImage(file)\n",
        "    ct_scan = stk.GetArrayFromImage(mhdimage)                 # indexes are z,y,x\n",
        "    origin = np.array(list(mhdimage.GetOrigin()))   # x,y,z  Origin in world coordinates (mm)\n",
        "    space = np.array(list(mhdimage.GetSpacing()))   # spacing of voxels in world coor. (mm)\n",
        "    return ct_scan, origin, space"
      ]
    },
    {
      "cell_type": "code",
      "source": [
        "ls"
      ],
      "metadata": {
        "colab": {
          "base_uri": "https://localhost:8080/"
        },
        "id": "-DiqbLlKaNBv",
        "outputId": "7d055bd3-f3c5-4de6-e8b5-a513ac31e5bd"
      },
      "id": "-DiqbLlKaNBv",
      "execution_count": null,
      "outputs": [
        {
          "output_type": "stream",
          "name": "stdout",
          "text": [
            " annotations.csv             \u001b[0m\u001b[01;34mFPRDataset\u001b[0m/\n",
            " candidates_1Non.txt         \u001b[01;34mFPRProcessedData\u001b[0m/\n",
            " candidates_1.txt           'lung cancer detection_old.ipynb'\n",
            " candidates.csv              model.h5\n",
            " checkpoint-001-0.000.hdf5   \u001b[01;34mProcessedData\u001b[0m/\n",
            " checkpoint-001-0.217.hdf5   segmentation_old.ipynb\n",
            " checkpoint-002-0.202.hdf5   \u001b[01;34msubset0\u001b[0m/\n",
            " checkpoint-003-0.189.hdf5   testX.npy\n",
            " checkpoint_model.h5         testY.npy\n",
            "'classifier CNN_old.ipynb'   trainX.npy\n",
            " \u001b[01;34mdrive\u001b[0m/                      trainY.npy\n",
            " FPR_classifier_model.h5     UNet_model.h5\n"
          ]
        }
      ]
    },
    {
      "cell_type": "code",
      "execution_count": null,
      "id": "8a69e8fd",
      "metadata": {
        "colab": {
          "base_uri": "https://localhost:8080/",
          "height": 241
        },
        "id": "8a69e8fd",
        "outputId": "8af276ca-15e3-45c6-ab35-05b659bc32e7"
      },
      "outputs": [
        {
          "output_type": "stream",
          "name": "stdout",
          "text": [
            "Files Count: 89\n",
            "DF Count: 1186\n"
          ]
        },
        {
          "output_type": "execute_result",
          "data": {
            "text/plain": [
              "                                           seriesuid      coordX      coordY  \\\n",
              "0  1.3.6.1.4.1.14519.5.2.1.6279.6001.100225287222... -128.699421 -175.319272   \n",
              "1  1.3.6.1.4.1.14519.5.2.1.6279.6001.100225287222...  103.783651 -211.925149   \n",
              "2  1.3.6.1.4.1.14519.5.2.1.6279.6001.100398138793...   69.639017 -140.944586   \n",
              "3  1.3.6.1.4.1.14519.5.2.1.6279.6001.100621383016...  -24.013824  192.102405   \n",
              "4  1.3.6.1.4.1.14519.5.2.1.6279.6001.100621383016...    2.441547  172.464881   \n",
              "\n",
              "       coordZ  diameter_mm  \n",
              "0 -298.387506     5.651471  \n",
              "1 -227.121250     4.224708  \n",
              "2  876.374496     5.786348  \n",
              "3 -391.081276     8.143262  \n",
              "4 -405.493732    18.545150  "
            ],
            "text/html": [
              "\n",
              "\n",
              "  <div id=\"df-f8106414-da7a-4ca0-9bbc-68117c80998f\">\n",
              "    <div class=\"colab-df-container\">\n",
              "      <div>\n",
              "<style scoped>\n",
              "    .dataframe tbody tr th:only-of-type {\n",
              "        vertical-align: middle;\n",
              "    }\n",
              "\n",
              "    .dataframe tbody tr th {\n",
              "        vertical-align: top;\n",
              "    }\n",
              "\n",
              "    .dataframe thead th {\n",
              "        text-align: right;\n",
              "    }\n",
              "</style>\n",
              "<table border=\"1\" class=\"dataframe\">\n",
              "  <thead>\n",
              "    <tr style=\"text-align: right;\">\n",
              "      <th></th>\n",
              "      <th>seriesuid</th>\n",
              "      <th>coordX</th>\n",
              "      <th>coordY</th>\n",
              "      <th>coordZ</th>\n",
              "      <th>diameter_mm</th>\n",
              "    </tr>\n",
              "  </thead>\n",
              "  <tbody>\n",
              "    <tr>\n",
              "      <th>0</th>\n",
              "      <td>1.3.6.1.4.1.14519.5.2.1.6279.6001.100225287222...</td>\n",
              "      <td>-128.699421</td>\n",
              "      <td>-175.319272</td>\n",
              "      <td>-298.387506</td>\n",
              "      <td>5.651471</td>\n",
              "    </tr>\n",
              "    <tr>\n",
              "      <th>1</th>\n",
              "      <td>1.3.6.1.4.1.14519.5.2.1.6279.6001.100225287222...</td>\n",
              "      <td>103.783651</td>\n",
              "      <td>-211.925149</td>\n",
              "      <td>-227.121250</td>\n",
              "      <td>4.224708</td>\n",
              "    </tr>\n",
              "    <tr>\n",
              "      <th>2</th>\n",
              "      <td>1.3.6.1.4.1.14519.5.2.1.6279.6001.100398138793...</td>\n",
              "      <td>69.639017</td>\n",
              "      <td>-140.944586</td>\n",
              "      <td>876.374496</td>\n",
              "      <td>5.786348</td>\n",
              "    </tr>\n",
              "    <tr>\n",
              "      <th>3</th>\n",
              "      <td>1.3.6.1.4.1.14519.5.2.1.6279.6001.100621383016...</td>\n",
              "      <td>-24.013824</td>\n",
              "      <td>192.102405</td>\n",
              "      <td>-391.081276</td>\n",
              "      <td>8.143262</td>\n",
              "    </tr>\n",
              "    <tr>\n",
              "      <th>4</th>\n",
              "      <td>1.3.6.1.4.1.14519.5.2.1.6279.6001.100621383016...</td>\n",
              "      <td>2.441547</td>\n",
              "      <td>172.464881</td>\n",
              "      <td>-405.493732</td>\n",
              "      <td>18.545150</td>\n",
              "    </tr>\n",
              "  </tbody>\n",
              "</table>\n",
              "</div>\n",
              "      <button class=\"colab-df-convert\" onclick=\"convertToInteractive('df-f8106414-da7a-4ca0-9bbc-68117c80998f')\"\n",
              "              title=\"Convert this dataframe to an interactive table.\"\n",
              "              style=\"display:none;\">\n",
              "\n",
              "  <svg xmlns=\"http://www.w3.org/2000/svg\" height=\"24px\"viewBox=\"0 0 24 24\"\n",
              "       width=\"24px\">\n",
              "    <path d=\"M0 0h24v24H0V0z\" fill=\"none\"/>\n",
              "    <path d=\"M18.56 5.44l.94 2.06.94-2.06 2.06-.94-2.06-.94-.94-2.06-.94 2.06-2.06.94zm-11 1L8.5 8.5l.94-2.06 2.06-.94-2.06-.94L8.5 2.5l-.94 2.06-2.06.94zm10 10l.94 2.06.94-2.06 2.06-.94-2.06-.94-.94-2.06-.94 2.06-2.06.94z\"/><path d=\"M17.41 7.96l-1.37-1.37c-.4-.4-.92-.59-1.43-.59-.52 0-1.04.2-1.43.59L10.3 9.45l-7.72 7.72c-.78.78-.78 2.05 0 2.83L4 21.41c.39.39.9.59 1.41.59.51 0 1.02-.2 1.41-.59l7.78-7.78 2.81-2.81c.8-.78.8-2.07 0-2.86zM5.41 20L4 18.59l7.72-7.72 1.47 1.35L5.41 20z\"/>\n",
              "  </svg>\n",
              "      </button>\n",
              "\n",
              "\n",
              "\n",
              "    <div id=\"df-480ad943-269d-4c25-85f6-a2ec0aeeab6d\">\n",
              "      <button class=\"colab-df-quickchart\" onclick=\"quickchart('df-480ad943-269d-4c25-85f6-a2ec0aeeab6d')\"\n",
              "              title=\"Suggest charts.\"\n",
              "              style=\"display:none;\">\n",
              "\n",
              "<svg xmlns=\"http://www.w3.org/2000/svg\" height=\"24px\"viewBox=\"0 0 24 24\"\n",
              "     width=\"24px\">\n",
              "    <g>\n",
              "        <path d=\"M19 3H5c-1.1 0-2 .9-2 2v14c0 1.1.9 2 2 2h14c1.1 0 2-.9 2-2V5c0-1.1-.9-2-2-2zM9 17H7v-7h2v7zm4 0h-2V7h2v10zm4 0h-2v-4h2v4z\"/>\n",
              "    </g>\n",
              "</svg>\n",
              "      </button>\n",
              "    </div>\n",
              "\n",
              "<style>\n",
              "  .colab-df-quickchart {\n",
              "    background-color: #E8F0FE;\n",
              "    border: none;\n",
              "    border-radius: 50%;\n",
              "    cursor: pointer;\n",
              "    display: none;\n",
              "    fill: #1967D2;\n",
              "    height: 32px;\n",
              "    padding: 0 0 0 0;\n",
              "    width: 32px;\n",
              "  }\n",
              "\n",
              "  .colab-df-quickchart:hover {\n",
              "    background-color: #E2EBFA;\n",
              "    box-shadow: 0px 1px 2px rgba(60, 64, 67, 0.3), 0px 1px 3px 1px rgba(60, 64, 67, 0.15);\n",
              "    fill: #174EA6;\n",
              "  }\n",
              "\n",
              "  [theme=dark] .colab-df-quickchart {\n",
              "    background-color: #3B4455;\n",
              "    fill: #D2E3FC;\n",
              "  }\n",
              "\n",
              "  [theme=dark] .colab-df-quickchart:hover {\n",
              "    background-color: #434B5C;\n",
              "    box-shadow: 0px 1px 3px 1px rgba(0, 0, 0, 0.15);\n",
              "    filter: drop-shadow(0px 1px 2px rgba(0, 0, 0, 0.3));\n",
              "    fill: #FFFFFF;\n",
              "  }\n",
              "</style>\n",
              "\n",
              "    <script>\n",
              "      async function quickchart(key) {\n",
              "        const containerElement = document.querySelector('#' + key);\n",
              "        const charts = await google.colab.kernel.invokeFunction(\n",
              "            'suggestCharts', [key], {});\n",
              "      }\n",
              "    </script>\n",
              "\n",
              "      <script>\n",
              "\n",
              "function displayQuickchartButton(domScope) {\n",
              "  let quickchartButtonEl =\n",
              "    domScope.querySelector('#df-480ad943-269d-4c25-85f6-a2ec0aeeab6d button.colab-df-quickchart');\n",
              "  quickchartButtonEl.style.display =\n",
              "    google.colab.kernel.accessAllowed ? 'block' : 'none';\n",
              "}\n",
              "\n",
              "        displayQuickchartButton(document);\n",
              "      </script>\n",
              "      <style>\n",
              "    .colab-df-container {\n",
              "      display:flex;\n",
              "      flex-wrap:wrap;\n",
              "      gap: 12px;\n",
              "    }\n",
              "\n",
              "    .colab-df-convert {\n",
              "      background-color: #E8F0FE;\n",
              "      border: none;\n",
              "      border-radius: 50%;\n",
              "      cursor: pointer;\n",
              "      display: none;\n",
              "      fill: #1967D2;\n",
              "      height: 32px;\n",
              "      padding: 0 0 0 0;\n",
              "      width: 32px;\n",
              "    }\n",
              "\n",
              "    .colab-df-convert:hover {\n",
              "      background-color: #E2EBFA;\n",
              "      box-shadow: 0px 1px 2px rgba(60, 64, 67, 0.3), 0px 1px 3px 1px rgba(60, 64, 67, 0.15);\n",
              "      fill: #174EA6;\n",
              "    }\n",
              "\n",
              "    [theme=dark] .colab-df-convert {\n",
              "      background-color: #3B4455;\n",
              "      fill: #D2E3FC;\n",
              "    }\n",
              "\n",
              "    [theme=dark] .colab-df-convert:hover {\n",
              "      background-color: #434B5C;\n",
              "      box-shadow: 0px 1px 3px 1px rgba(0, 0, 0, 0.15);\n",
              "      filter: drop-shadow(0px 1px 2px rgba(0, 0, 0, 0.3));\n",
              "      fill: #FFFFFF;\n",
              "    }\n",
              "  </style>\n",
              "\n",
              "      <script>\n",
              "        const buttonEl =\n",
              "          document.querySelector('#df-f8106414-da7a-4ca0-9bbc-68117c80998f button.colab-df-convert');\n",
              "        buttonEl.style.display =\n",
              "          google.colab.kernel.accessAllowed ? 'block' : 'none';\n",
              "\n",
              "        async function convertToInteractive(key) {\n",
              "          const element = document.querySelector('#df-f8106414-da7a-4ca0-9bbc-68117c80998f');\n",
              "          const dataTable =\n",
              "            await google.colab.kernel.invokeFunction('convertToInteractive',\n",
              "                                                     [key], {});\n",
              "          if (!dataTable) return;\n",
              "\n",
              "          const docLinkHtml = 'Like what you see? Visit the ' +\n",
              "            '<a target=\"_blank\" href=https://colab.research.google.com/notebooks/data_table.ipynb>data table notebook</a>'\n",
              "            + ' to learn more about interactive tables.';\n",
              "          element.innerHTML = '';\n",
              "          dataTable['output_type'] = 'display_data';\n",
              "          await google.colab.output.renderOutput(dataTable, element);\n",
              "          const docLink = document.createElement('div');\n",
              "          docLink.innerHTML = docLinkHtml;\n",
              "          element.appendChild(docLink);\n",
              "        }\n",
              "      </script>\n",
              "    </div>\n",
              "  </div>\n"
            ]
          },
          "metadata": {},
          "execution_count": 7
        }
      ],
      "source": [
        "\n",
        "file_list = glob(root+\"*.mhd\")\n",
        "annotations_df = pd.read_csv(\"annotations.csv\")\n",
        "print(\"Files Count:\",len(file_list))\n",
        "print(\"DF Count:\",len(annotations_df))\n",
        "annotations_df.head()"
      ]
    },
    {
      "cell_type": "code",
      "execution_count": null,
      "id": "180e6580",
      "metadata": {
        "colab": {
          "base_uri": "https://localhost:8080/",
          "height": 864
        },
        "id": "180e6580",
        "outputId": "29a23067-633f-4629-c920-fc5085a74f20"
      },
      "outputs": [
        {
          "output_type": "execute_result",
          "data": {
            "text/plain": [
              "(array([15., 32., 55., 87., 94., 90., 79., 79., 75., 50., 51., 26., 41.,\n",
              "        29., 24., 27., 18., 25., 16., 15., 10., 18., 10.,  9., 14., 11.,\n",
              "        13.,  9.,  9.,  7., 10.,  7.,  6.,  8.,  3.,  8.,  5.,  7., 10.,\n",
              "         9.,  2.,  6.,  6.,  4.,  2.,  5.,  3.,  4.,  2.,  5.,  5.,  3.,\n",
              "         6.,  2.,  2.,  2.,  3.,  2.,  0.,  3.,  1.,  1.,  1.,  0.,  0.,\n",
              "         2.,  1.,  0.,  0.,  0.,  0.,  0.,  0.,  0.,  0.,  1.,  0.,  0.,\n",
              "         0.,  1.]),\n",
              " array([ 3.2534432 ,  3.61615053,  3.97885787,  4.34156521,  4.70427255,\n",
              "         5.06697989,  5.42968723,  5.79239456,  6.1551019 ,  6.51780924,\n",
              "         6.88051658,  7.24322392,  7.60593125,  7.96863859,  8.33134593,\n",
              "         8.69405327,  9.05676061,  9.41946794,  9.78217528, 10.14488262,\n",
              "        10.50758996, 10.8702973 , 11.23300464, 11.59571197, 11.95841931,\n",
              "        12.32112665, 12.68383399, 13.04654133, 13.40924866, 13.771956  ,\n",
              "        14.13466334, 14.49737068, 14.86007802, 15.22278536, 15.58549269,\n",
              "        15.94820003, 16.31090737, 16.67361471, 17.03632205, 17.39902938,\n",
              "        17.76173672, 18.12444406, 18.4871514 , 18.84985874, 19.21256608,\n",
              "        19.57527341, 19.93798075, 20.30068809, 20.66339543, 21.02610277,\n",
              "        21.3888101 , 21.75151744, 22.11422478, 22.47693212, 22.83963946,\n",
              "        23.2023468 , 23.56505413, 23.92776147, 24.29046881, 24.65317615,\n",
              "        25.01588349, 25.37859082, 25.74129816, 26.1040055 , 26.46671284,\n",
              "        26.82942018, 27.19212752, 27.55483485, 27.91754219, 28.28024953,\n",
              "        28.64295687, 29.00566421, 29.36837154, 29.73107888, 30.09378622,\n",
              "        30.45649356, 30.8192009 , 31.18190824, 31.54461557, 31.90732291,\n",
              "        32.27003025]),\n",
              " <BarContainer object of 80 artists>)"
            ]
          },
          "metadata": {},
          "execution_count": 8
        },
        {
          "output_type": "display_data",
          "data": {
            "text/plain": [
              "<Figure size 640x480 with 1 Axes>"
            ],
            "image/png": "[encoded data removed]"
          },
          "metadata": {}
        }
      ],
      "source": [
        "# displaying annotation size distribution for nodul diameter\n",
        "d = annotations_df['diameter_mm'].values\n",
        "plt.hist(d, bins=80)"
      ]
    },
    {
      "cell_type": "code",
      "execution_count": null,
      "id": "f8f9ce3b",
      "metadata": {
        "id": "f8f9ce3b"
      },
      "outputs": [],
      "source": [
        "def get_filename(file_list, file):\n",
        "    for f in file_list:\n",
        "        if file in f:\n",
        "            return f"
      ]
    },
    {
      "cell_type": "code",
      "execution_count": null,
      "id": "d4884afd",
      "metadata": {
        "colab": {
          "base_uri": "https://localhost:8080/"
        },
        "id": "d4884afd",
        "outputId": "3e9ab215-a0cf-4e0b-a6e0-98f318ce3c4b"
      },
      "outputs": [
        {
          "output_type": "stream",
          "name": "stdout",
          "text": [
            "108\n"
          ]
        }
      ],
      "source": [
        "# This maps the annotation to the file names, pulling all the data into a single data frame.\n",
        "\n",
        "annotations_df[\"filename\"] = annotations_df[\"seriesuid\"].map(lambda file: get_filename(file_list, file))\n",
        "annotations_df = annotations_df.dropna()\n",
        "annotations_df = annotations_df[annotations_df['diameter_mm']>=4]  # Excluding nodules with diameter less than 4mm\n",
        "print(len(annotations_df))"
      ]
    },
    {
      "cell_type": "code",
      "execution_count": null,
      "id": "4a4ff9a3",
      "metadata": {
        "colab": {
          "base_uri": "https://localhost:8080/",
          "height": 250
        },
        "id": "4a4ff9a3",
        "outputId": "eca8a2eb-201b-40e1-dc82-d2ea48ff6c2f"
      },
      "outputs": [
        {
          "output_type": "execute_result",
          "data": {
            "text/plain": [
              "                                            seriesuid      coordX      coordY  \\\n",
              "23  1.3.6.1.4.1.14519.5.2.1.6279.6001.108197895896... -100.567944   67.260517   \n",
              "25  1.3.6.1.4.1.14519.5.2.1.6279.6001.109002525524...   46.188539   48.402806   \n",
              "26  1.3.6.1.4.1.14519.5.2.1.6279.6001.109002525524...   36.392044   76.771663   \n",
              "28  1.3.6.1.4.1.14519.5.2.1.6279.6001.111172165674...  136.434059  117.765579   \n",
              "86  1.3.6.1.4.1.14519.5.2.1.6279.6001.124154461048...  145.967465 -161.197634   \n",
              "\n",
              "        coordZ  diameter_mm                                           filename  \n",
              "23 -231.816619     6.440879  subset0/1.3.6.1.4.1.14519.5.2.1.6279.6001.1081...  \n",
              "25 -108.578632    13.596471  subset0/1.3.6.1.4.1.14519.5.2.1.6279.6001.1090...  \n",
              "26 -123.321911     4.343200  subset0/1.3.6.1.4.1.14519.5.2.1.6279.6001.1090...  \n",
              "28 -181.947817     4.681382  subset0/1.3.6.1.4.1.14519.5.2.1.6279.6001.1111...  \n",
              "86 -312.071347     6.378436  subset0/1.3.6.1.4.1.14519.5.2.1.6279.6001.1241...  "
            ],
            "text/html": [
              "\n",
              "\n",
              "  <div id=\"df-c3d00cb8-3d19-423a-9a8c-91a3e24422ba\">\n",
              "    <div class=\"colab-df-container\">\n",
              "      <div>\n",
              "<style scoped>\n",
              "    .dataframe tbody tr th:only-of-type {\n",
              "        vertical-align: middle;\n",
              "    }\n",
              "\n",
              "    .dataframe tbody tr th {\n",
              "        vertical-align: top;\n",
              "    }\n",
              "\n",
              "    .dataframe thead th {\n",
              "        text-align: right;\n",
              "    }\n",
              "</style>\n",
              "<table border=\"1\" class=\"dataframe\">\n",
              "  <thead>\n",
              "    <tr style=\"text-align: right;\">\n",
              "      <th></th>\n",
              "      <th>seriesuid</th>\n",
              "      <th>coordX</th>\n",
              "      <th>coordY</th>\n",
              "      <th>coordZ</th>\n",
              "      <th>diameter_mm</th>\n",
              "      <th>filename</th>\n",
              "    </tr>\n",
              "  </thead>\n",
              "  <tbody>\n",
              "    <tr>\n",
              "      <th>23</th>\n",
              "      <td>1.3.6.1.4.1.14519.5.2.1.6279.6001.108197895896...</td>\n",
              "      <td>-100.567944</td>\n",
              "      <td>67.260517</td>\n",
              "      <td>-231.816619</td>\n",
              "      <td>6.440879</td>\n",
              "      <td>subset0/1.3.6.1.4.1.14519.5.2.1.6279.6001.1081...</td>\n",
              "    </tr>\n",
              "    <tr>\n",
              "      <th>25</th>\n",
              "      <td>1.3.6.1.4.1.14519.5.2.1.6279.6001.109002525524...</td>\n",
              "      <td>46.188539</td>\n",
              "      <td>48.402806</td>\n",
              "      <td>-108.578632</td>\n",
              "      <td>13.596471</td>\n",
              "      <td>subset0/1.3.6.1.4.1.14519.5.2.1.6279.6001.1090...</td>\n",
              "    </tr>\n",
              "    <tr>\n",
              "      <th>26</th>\n",
              "      <td>1.3.6.1.4.1.14519.5.2.1.6279.6001.109002525524...</td>\n",
              "      <td>36.392044</td>\n",
              "      <td>76.771663</td>\n",
              "      <td>-123.321911</td>\n",
              "      <td>4.343200</td>\n",
              "      <td>subset0/1.3.6.1.4.1.14519.5.2.1.6279.6001.1090...</td>\n",
              "    </tr>\n",
              "    <tr>\n",
              "      <th>28</th>\n",
              "      <td>1.3.6.1.4.1.14519.5.2.1.6279.6001.111172165674...</td>\n",
              "      <td>136.434059</td>\n",
              "      <td>117.765579</td>\n",
              "      <td>-181.947817</td>\n",
              "      <td>4.681382</td>\n",
              "      <td>subset0/1.3.6.1.4.1.14519.5.2.1.6279.6001.1111...</td>\n",
              "    </tr>\n",
              "    <tr>\n",
              "      <th>86</th>\n",
              "      <td>1.3.6.1.4.1.14519.5.2.1.6279.6001.124154461048...</td>\n",
              "      <td>145.967465</td>\n",
              "      <td>-161.197634</td>\n",
              "      <td>-312.071347</td>\n",
              "      <td>6.378436</td>\n",
              "      <td>subset0/1.3.6.1.4.1.14519.5.2.1.6279.6001.1241...</td>\n",
              "    </tr>\n",
              "  </tbody>\n",
              "</table>\n",
              "</div>\n",
              "      <button class=\"colab-df-convert\" onclick=\"convertToInteractive('df-c3d00cb8-3d19-423a-9a8c-91a3e24422ba')\"\n",
              "              title=\"Convert this dataframe to an interactive table.\"\n",
              "              style=\"display:none;\">\n",
              "\n",
              "  <svg xmlns=\"http://www.w3.org/2000/svg\" height=\"24px\"viewBox=\"0 0 24 24\"\n",
              "       width=\"24px\">\n",
              "    <path d=\"M0 0h24v24H0V0z\" fill=\"none\"/>\n",
              "    <path d=\"M18.56 5.44l.94 2.06.94-2.06 2.06-.94-2.06-.94-.94-2.06-.94 2.06-2.06.94zm-11 1L8.5 8.5l.94-2.06 2.06-.94-2.06-.94L8.5 2.5l-.94 2.06-2.06.94zm10 10l.94 2.06.94-2.06 2.06-.94-2.06-.94-.94-2.06-.94 2.06-2.06.94z\"/><path d=\"M17.41 7.96l-1.37-1.37c-.4-.4-.92-.59-1.43-.59-.52 0-1.04.2-1.43.59L10.3 9.45l-7.72 7.72c-.78.78-.78 2.05 0 2.83L4 21.41c.39.39.9.59 1.41.59.51 0 1.02-.2 1.41-.59l7.78-7.78 2.81-2.81c.8-.78.8-2.07 0-2.86zM5.41 20L4 18.59l7.72-7.72 1.47 1.35L5.41 20z\"/>\n",
              "  </svg>\n",
              "      </button>\n",
              "\n",
              "\n",
              "\n",
              "    <div id=\"df-cbdd39f6-5f39-43be-8d09-12baccd691ac\">\n",
              "      <button class=\"colab-df-quickchart\" onclick=\"quickchart('df-cbdd39f6-5f39-43be-8d09-12baccd691ac')\"\n",
              "              title=\"Suggest charts.\"\n",
              "              style=\"display:none;\">\n",
              "\n",
              "<svg xmlns=\"http://www.w3.org/2000/svg\" height=\"24px\"viewBox=\"0 0 24 24\"\n",
              "     width=\"24px\">\n",
              "    <g>\n",
              "        <path d=\"M19 3H5c-1.1 0-2 .9-2 2v14c0 1.1.9 2 2 2h14c1.1 0 2-.9 2-2V5c0-1.1-.9-2-2-2zM9 17H7v-7h2v7zm4 0h-2V7h2v10zm4 0h-2v-4h2v4z\"/>\n",
              "    </g>\n",
              "</svg>\n",
              "      </button>\n",
              "    </div>\n",
              "\n",
              "<style>\n",
              "  .colab-df-quickchart {\n",
              "    background-color: #E8F0FE;\n",
              "    border: none;\n",
              "    border-radius: 50%;\n",
              "    cursor: pointer;\n",
              "    display: none;\n",
              "    fill: #1967D2;\n",
              "    height: 32px;\n",
              "    padding: 0 0 0 0;\n",
              "    width: 32px;\n",
              "  }\n",
              "\n",
              "  .colab-df-quickchart:hover {\n",
              "    background-color: #E2EBFA;\n",
              "    box-shadow: 0px 1px 2px rgba(60, 64, 67, 0.3), 0px 1px 3px 1px rgba(60, 64, 67, 0.15);\n",
              "    fill: #174EA6;\n",
              "  }\n",
              "\n",
              "  [theme=dark] .colab-df-quickchart {\n",
              "    background-color: #3B4455;\n",
              "    fill: #D2E3FC;\n",
              "  }\n",
              "\n",
              "  [theme=dark] .colab-df-quickchart:hover {\n",
              "    background-color: #434B5C;\n",
              "    box-shadow: 0px 1px 3px 1px rgba(0, 0, 0, 0.15);\n",
              "    filter: drop-shadow(0px 1px 2px rgba(0, 0, 0, 0.3));\n",
              "    fill: #FFFFFF;\n",
              "  }\n",
              "</style>\n",
              "\n",
              "    <script>\n",
              "      async function quickchart(key) {\n",
              "        const containerElement = document.querySelector('#' + key);\n",
              "        const charts = await google.colab.kernel.invokeFunction(\n",
              "            'suggestCharts', [key], {});\n",
              "      }\n",
              "    </script>\n",
              "\n",
              "      <script>\n",
              "\n",
              "function displayQuickchartButton(domScope) {\n",
              "  let quickchartButtonEl =\n",
              "    domScope.querySelector('#df-cbdd39f6-5f39-43be-8d09-12baccd691ac button.colab-df-quickchart');\n",
              "  quickchartButtonEl.style.display =\n",
              "    google.colab.kernel.accessAllowed ? 'block' : 'none';\n",
              "}\n",
              "\n",
              "        displayQuickchartButton(document);\n",
              "      </script>\n",
              "      <style>\n",
              "    .colab-df-container {\n",
              "      display:flex;\n",
              "      flex-wrap:wrap;\n",
              "      gap: 12px;\n",
              "    }\n",
              "\n",
              "    .colab-df-convert {\n",
              "      background-color: #E8F0FE;\n",
              "      border: none;\n",
              "      border-radius: 50%;\n",
              "      cursor: pointer;\n",
              "      display: none;\n",
              "      fill: #1967D2;\n",
              "      height: 32px;\n",
              "      padding: 0 0 0 0;\n",
              "      width: 32px;\n",
              "    }\n",
              "\n",
              "    .colab-df-convert:hover {\n",
              "      background-color: #E2EBFA;\n",
              "      box-shadow: 0px 1px 2px rgba(60, 64, 67, 0.3), 0px 1px 3px 1px rgba(60, 64, 67, 0.15);\n",
              "      fill: #174EA6;\n",
              "    }\n",
              "\n",
              "    [theme=dark] .colab-df-convert {\n",
              "      background-color: #3B4455;\n",
              "      fill: #D2E3FC;\n",
              "    }\n",
              "\n",
              "    [theme=dark] .colab-df-convert:hover {\n",
              "      background-color: #434B5C;\n",
              "      box-shadow: 0px 1px 3px 1px rgba(0, 0, 0, 0.15);\n",
              "      filter: drop-shadow(0px 1px 2px rgba(0, 0, 0, 0.3));\n",
              "      fill: #FFFFFF;\n",
              "    }\n",
              "  </style>\n",
              "\n",
              "      <script>\n",
              "        const buttonEl =\n",
              "          document.querySelector('#df-c3d00cb8-3d19-423a-9a8c-91a3e24422ba button.colab-df-convert');\n",
              "        buttonEl.style.display =\n",
              "          google.colab.kernel.accessAllowed ? 'block' : 'none';\n",
              "\n",
              "        async function convertToInteractive(key) {\n",
              "          const element = document.querySelector('#df-c3d00cb8-3d19-423a-9a8c-91a3e24422ba');\n",
              "          const dataTable =\n",
              "            await google.colab.kernel.invokeFunction('convertToInteractive',\n",
              "                                                     [key], {});\n",
              "          if (!dataTable) return;\n",
              "\n",
              "          const docLinkHtml = 'Like what you see? Visit the ' +\n",
              "            '<a target=\"_blank\" href=https://colab.research.google.com/notebooks/data_table.ipynb>data table notebook</a>'\n",
              "            + ' to learn more about interactive tables.';\n",
              "          element.innerHTML = '';\n",
              "          dataTable['output_type'] = 'display_data';\n",
              "          await google.colab.output.renderOutput(dataTable, element);\n",
              "          const docLink = document.createElement('div');\n",
              "          docLink.innerHTML = docLinkHtml;\n",
              "          element.appendChild(docLink);\n",
              "        }\n",
              "      </script>\n",
              "    </div>\n",
              "  </div>\n"
            ]
          },
          "metadata": {},
          "execution_count": 11
        }
      ],
      "source": [
        "annotations_df.head()"
      ]
    },
    {
      "cell_type": "code",
      "execution_count": null,
      "id": "10432106",
      "metadata": {
        "id": "10432106"
      },
      "outputs": [],
      "source": [
        "# Help Draw shape of lung images\n",
        "def make_mask(img, center, diam):\n",
        "    mask = np.zeros_like(img, dtype=np.uint8)\n",
        "    mask = cv2.circle(mask, (int(center[0]),int(center[1])), diam//2, 255, -1)\n",
        "    return mask"
      ]
    },
    {
      "cell_type": "code",
      "source": [
        "def mark_done(path):\n",
        "    with open(path[:-3]+'done2', 'a'):\n",
        "        pass\n"
      ],
      "metadata": {
        "id": "hX--h1Z4xtKz"
      },
      "id": "hX--h1Z4xtKz",
      "execution_count": null,
      "outputs": []
    },
    {
      "cell_type": "code",
      "source": [
        "def is_done(path):\n",
        "    return os.path.exists(path[:-3]+'done2')"
      ],
      "metadata": {
        "id": "EcuCa7HzxsqD"
      },
      "id": "EcuCa7HzxsqD",
      "execution_count": null,
      "outputs": []
    },
    {
      "cell_type": "code",
      "source": [],
      "metadata": {
        "id": "qn2Mq0KvxsLO"
      },
      "id": "qn2Mq0KvxsLO",
      "execution_count": null,
      "outputs": []
    },
    {
      "cell_type": "code",
      "source": [
        "#i,file in tqdm(enumerate(np.unique(annotations_df['filename'].values)))\n",
        "\n",
        "#np.unique(annotations_df['filename'].values)\n",
        "\n",
        "#annotations_df = annotations_df[annotations_df['filename'] != 'subset0/1.3.6.1.4.1.14519.5.2.1.6279.6001.525937963993475482158828421281.mhd']\n",
        "#annotations_df = annotations_df[annotations_df['filename'] != 'subset0/1.3.6.1.4.1.14519.5.2.1.6279.6001.566816709786169715745131047975.mhd']\n",
        "#annotations_df = annotations_df[annotations_df['filename'] != 'subset0/1.3.6.1.4.1.14519.5.2.1.6279.6001.108197895896446896160048741492.mhd']\n",
        "#annotations_df = annotations_df[annotations_df['filename'] != 'subset0/1.3.6.1.4.1.14519.5.2.1.6279.6001.525937963993475482158828421281.mhd']"
      ],
      "metadata": {
        "id": "agLgzMhQMmo1"
      },
      "id": "agLgzMhQMmo1",
      "execution_count": null,
      "outputs": []
    },
    {
      "cell_type": "code",
      "source": [
        "annotations_df.shape[0]"
      ],
      "metadata": {
        "colab": {
          "base_uri": "https://localhost:8080/"
        },
        "id": "-pnmIeXMchyP",
        "outputId": "6b9a7340-84bb-4145-af16-ea76d21d976a"
      },
      "id": "-pnmIeXMchyP",
      "execution_count": null,
      "outputs": [
        {
          "output_type": "execute_result",
          "data": {
            "text/plain": [
              "108"
            ]
          },
          "metadata": {},
          "execution_count": 17
        }
      ]
    },
    {
      "cell_type": "code",
      "execution_count": null,
      "id": "bd6e94fe",
      "metadata": {
        "colab": {
          "base_uri": "https://localhost:8080/"
        },
        "id": "bd6e94fe",
        "outputId": "8f383de6-7bf7-465c-cd7b-7a529e7a09b0"
      },
      "outputs": [
        {
          "output_type": "stream",
          "name": "stderr",
          "text": [
            "\r0it [00:00, ?it/s]"
          ]
        },
        {
          "output_type": "stream",
          "name": "stdout",
          "text": [
            "Is Done Flag = False    file: subset0/1.3.6.1.4.1.14519.5.2.1.6279.6001.108197895896446896160048741492.mhd\n"
          ]
        },
        {
          "output_type": "stream",
          "name": "stderr",
          "text": [
            "/usr/local/lib/python3.10/dist-packages/sklearn/cluster/_kmeans.py:870: FutureWarning: The default value of `n_init` will change from 10 to 'auto' in 1.4. Set the value of `n_init` explicitly to suppress the warning\n",
            "  warnings.warn(\n"
          ]
        },
        {
          "output_type": "stream",
          "name": "stdout",
          "text": [
            "Saved     : ProcessedData/nodule_mask/ masks_5_23.npy\n"
          ]
        },
        {
          "output_type": "stream",
          "name": "stderr",
          "text": [
            "\r1it [00:07,  7.93s/it]"
          ]
        },
        {
          "output_type": "stream",
          "name": "stdout",
          "text": [
            "Saved     : ProcessedData/lungs_roi/ lungs_5_23.npy\n",
            "Is Done Flag = False    file: subset0/1.3.6.1.4.1.14519.5.2.1.6279.6001.109002525524522225658609808059.mhd\n"
          ]
        },
        {
          "output_type": "stream",
          "name": "stderr",
          "text": [
            "/usr/local/lib/python3.10/dist-packages/sklearn/cluster/_kmeans.py:870: FutureWarning: The default value of `n_init` will change from 10 to 'auto' in 1.4. Set the value of `n_init` explicitly to suppress the warning\n",
            "  warnings.warn(\n"
          ]
        },
        {
          "output_type": "stream",
          "name": "stdout",
          "text": [
            "Saved > 18: ProcessedData/nodule_mask/ masks_13_25_3.npy\n",
            "Saved > 18: ProcessedData/lungs_roi/ lungs_13_25_3.npy\n",
            "Saved     : ProcessedData/nodule_mask/ masks_13_25.npy\n",
            "Saved     : ProcessedData/lungs_roi/ lungs_13_25.npy\n"
          ]
        },
        {
          "output_type": "stream",
          "name": "stderr",
          "text": [
            "/usr/local/lib/python3.10/dist-packages/sklearn/cluster/_kmeans.py:870: FutureWarning: The default value of `n_init` will change from 10 to 'auto' in 1.4. Set the value of `n_init` explicitly to suppress the warning\n",
            "  warnings.warn(\n"
          ]
        },
        {
          "output_type": "stream",
          "name": "stdout",
          "text": [
            "Saved     : ProcessedData/nodule_mask/ masks_11_26.npy\n"
          ]
        },
        {
          "output_type": "stream",
          "name": "stderr",
          "text": [
            "\r2it [00:18,  9.34s/it]"
          ]
        },
        {
          "output_type": "stream",
          "name": "stdout",
          "text": [
            "Saved     : ProcessedData/lungs_roi/ lungs_11_26.npy\n",
            "Is Done Flag = False    file: subset0/1.3.6.1.4.1.14519.5.2.1.6279.6001.111172165674661221381920536987.mhd\n"
          ]
        },
        {
          "output_type": "stream",
          "name": "stderr",
          "text": [
            "/usr/local/lib/python3.10/dist-packages/sklearn/cluster/_kmeans.py:870: FutureWarning: The default value of `n_init` will change from 10 to 'auto' in 1.4. Set the value of `n_init` explicitly to suppress the warning\n",
            "  warnings.warn(\n"
          ]
        },
        {
          "output_type": "stream",
          "name": "stdout",
          "text": [
            "Saved     : ProcessedData/nodule_mask/ masks_3_28.npy\n"
          ]
        },
        {
          "output_type": "stream",
          "name": "stderr",
          "text": [
            "\r3it [00:26,  9.05s/it]"
          ]
        },
        {
          "output_type": "stream",
          "name": "stdout",
          "text": [
            "Saved     : ProcessedData/lungs_roi/ lungs_3_28.npy\n",
            "Is Done Flag = False    file: subset0/1.3.6.1.4.1.14519.5.2.1.6279.6001.124154461048929153767743874565.mhd\n"
          ]
        },
        {
          "output_type": "stream",
          "name": "stderr",
          "text": [
            "/usr/local/lib/python3.10/dist-packages/sklearn/cluster/_kmeans.py:870: FutureWarning: The default value of `n_init` will change from 10 to 'auto' in 1.4. Set the value of `n_init` explicitly to suppress the warning\n",
            "  warnings.warn(\n"
          ]
        },
        {
          "output_type": "stream",
          "name": "stdout",
          "text": [
            "Saved     : ProcessedData/nodule_mask/ masks_7_86.npy\n"
          ]
        },
        {
          "output_type": "stream",
          "name": "stderr",
          "text": [
            "\r4it [00:32,  7.83s/it]"
          ]
        },
        {
          "output_type": "stream",
          "name": "stdout",
          "text": [
            "Saved     : ProcessedData/lungs_roi/ lungs_7_86.npy\n",
            "Is Done Flag = False    file: subset0/1.3.6.1.4.1.14519.5.2.1.6279.6001.126264578931778258890371755354.mhd\n"
          ]
        },
        {
          "output_type": "stream",
          "name": "stderr",
          "text": [
            "/usr/local/lib/python3.10/dist-packages/sklearn/cluster/_kmeans.py:870: FutureWarning: The default value of `n_init` will change from 10 to 'auto' in 1.4. Set the value of `n_init` explicitly to suppress the warning\n",
            "  warnings.warn(\n"
          ]
        },
        {
          "output_type": "stream",
          "name": "stdout",
          "text": [
            "Saved     : ProcessedData/nodule_mask/ masks_3_98.npy\n"
          ]
        },
        {
          "output_type": "stream",
          "name": "stderr",
          "text": [
            "\r5it [00:42,  8.40s/it]"
          ]
        },
        {
          "output_type": "stream",
          "name": "stdout",
          "text": [
            "Saved     : ProcessedData/lungs_roi/ lungs_3_98.npy\n",
            "Is Done Flag = False    file: subset0/1.3.6.1.4.1.14519.5.2.1.6279.6001.128023902651233986592378348912.mhd\n"
          ]
        },
        {
          "output_type": "stream",
          "name": "stderr",
          "text": [
            "/usr/local/lib/python3.10/dist-packages/sklearn/cluster/_kmeans.py:870: FutureWarning: The default value of `n_init` will change from 10 to 'auto' in 1.4. Set the value of `n_init` explicitly to suppress the warning\n",
            "  warnings.warn(\n"
          ]
        },
        {
          "output_type": "stream",
          "name": "stdout",
          "text": [
            "Saved > 18: ProcessedData/nodule_mask/ masks_3_103_3.npy\n",
            "Saved > 18: ProcessedData/lungs_roi/ lungs_3_103_3.npy\n",
            "Saved     : ProcessedData/nodule_mask/ masks_3_103.npy\n"
          ]
        },
        {
          "output_type": "stream",
          "name": "stderr",
          "text": [
            "\r6it [00:49,  7.98s/it]"
          ]
        },
        {
          "output_type": "stream",
          "name": "stdout",
          "text": [
            "Saved     : ProcessedData/lungs_roi/ lungs_3_103.npy\n",
            "Is Done Flag = False    file: subset0/1.3.6.1.4.1.14519.5.2.1.6279.6001.129055977637338639741695800950.mhd\n"
          ]
        },
        {
          "output_type": "stream",
          "name": "stderr",
          "text": [
            "/usr/local/lib/python3.10/dist-packages/sklearn/cluster/_kmeans.py:870: FutureWarning: The default value of `n_init` will change from 10 to 'auto' in 1.4. Set the value of `n_init` explicitly to suppress the warning\n",
            "  warnings.warn(\n"
          ]
        },
        {
          "output_type": "stream",
          "name": "stdout",
          "text": [
            "Saved     : ProcessedData/nodule_mask/ masks_3_110.npy\n"
          ]
        },
        {
          "output_type": "stream",
          "name": "stderr",
          "text": [
            "\r7it [00:56,  7.82s/it]"
          ]
        },
        {
          "output_type": "stream",
          "name": "stdout",
          "text": [
            "Saved     : ProcessedData/lungs_roi/ lungs_3_110.npy\n",
            "Is Done Flag = False    file: subset0/1.3.6.1.4.1.14519.5.2.1.6279.6001.130438550890816550994739120843.mhd\n"
          ]
        },
        {
          "output_type": "stream",
          "name": "stderr",
          "text": [
            "/usr/local/lib/python3.10/dist-packages/sklearn/cluster/_kmeans.py:870: FutureWarning: The default value of `n_init` will change from 10 to 'auto' in 1.4. Set the value of `n_init` explicitly to suppress the warning\n",
            "  warnings.warn(\n"
          ]
        },
        {
          "output_type": "stream",
          "name": "stdout",
          "text": [
            "Saved     : ProcessedData/nodule_mask/ masks_11_117.npy\n"
          ]
        },
        {
          "output_type": "stream",
          "name": "stderr",
          "text": [
            "\r8it [01:02,  7.07s/it]"
          ]
        },
        {
          "output_type": "stream",
          "name": "stdout",
          "text": [
            "Saved     : ProcessedData/lungs_roi/ lungs_11_117.npy\n",
            "Is Done Flag = False    file: subset0/1.3.6.1.4.1.14519.5.2.1.6279.6001.134996872583497382954024478441.mhd\n"
          ]
        },
        {
          "output_type": "stream",
          "name": "stderr",
          "text": [
            "/usr/local/lib/python3.10/dist-packages/sklearn/cluster/_kmeans.py:870: FutureWarning: The default value of `n_init` will change from 10 to 'auto' in 1.4. Set the value of `n_init` explicitly to suppress the warning\n",
            "  warnings.warn(\n"
          ]
        },
        {
          "output_type": "stream",
          "name": "stdout",
          "text": [
            "Saved     : ProcessedData/nodule_mask/ masks_5_129.npy\n",
            "Saved     : ProcessedData/lungs_roi/ lungs_5_129.npy\n"
          ]
        },
        {
          "output_type": "stream",
          "name": "stderr",
          "text": [
            "/usr/local/lib/python3.10/dist-packages/sklearn/cluster/_kmeans.py:870: FutureWarning: The default value of `n_init` will change from 10 to 'auto' in 1.4. Set the value of `n_init` explicitly to suppress the warning\n",
            "  warnings.warn(\n"
          ]
        },
        {
          "output_type": "stream",
          "name": "stdout",
          "text": [
            "Saved     : ProcessedData/nodule_mask/ masks_3_130.npy\n",
            "Saved     : ProcessedData/lungs_roi/ lungs_3_130.npy\n"
          ]
        },
        {
          "output_type": "stream",
          "name": "stderr",
          "text": [
            "/usr/local/lib/python3.10/dist-packages/sklearn/cluster/_kmeans.py:870: FutureWarning: The default value of `n_init` will change from 10 to 'auto' in 1.4. Set the value of `n_init` explicitly to suppress the warning\n",
            "  warnings.warn(\n"
          ]
        },
        {
          "output_type": "stream",
          "name": "stdout",
          "text": [
            "Saved     : ProcessedData/nodule_mask/ masks_3_131.npy\n",
            "Saved     : ProcessedData/lungs_roi/ lungs_3_131.npy\n"
          ]
        },
        {
          "output_type": "stream",
          "name": "stderr",
          "text": [
            "/usr/local/lib/python3.10/dist-packages/sklearn/cluster/_kmeans.py:870: FutureWarning: The default value of `n_init` will change from 10 to 'auto' in 1.4. Set the value of `n_init` explicitly to suppress the warning\n",
            "  warnings.warn(\n"
          ]
        },
        {
          "output_type": "stream",
          "name": "stdout",
          "text": [
            "Saved     : ProcessedData/nodule_mask/ masks_3_132.npy\n"
          ]
        },
        {
          "output_type": "stream",
          "name": "stderr",
          "text": [
            "\r9it [01:12,  7.92s/it]"
          ]
        },
        {
          "output_type": "stream",
          "name": "stdout",
          "text": [
            "Saved     : ProcessedData/lungs_roi/ lungs_3_132.npy\n",
            "Is Done Flag = False    file: subset0/1.3.6.1.4.1.14519.5.2.1.6279.6001.137763212752154081977261297097.mhd\n"
          ]
        },
        {
          "output_type": "stream",
          "name": "stderr",
          "text": [
            "/usr/local/lib/python3.10/dist-packages/sklearn/cluster/_kmeans.py:870: FutureWarning: The default value of `n_init` will change from 10 to 'auto' in 1.4. Set the value of `n_init` explicitly to suppress the warning\n",
            "  warnings.warn(\n"
          ]
        },
        {
          "output_type": "stream",
          "name": "stdout",
          "text": [
            "Saved > 18: ProcessedData/nodule_mask/ masks_5_135_3.npy\n",
            "Saved > 18: ProcessedData/lungs_roi/ lungs_5_135_3.npy\n",
            "Saved     : ProcessedData/nodule_mask/ masks_5_135.npy\n",
            "Saved     : ProcessedData/lungs_roi/ lungs_5_135.npy\n"
          ]
        },
        {
          "output_type": "stream",
          "name": "stderr",
          "text": [
            "/usr/local/lib/python3.10/dist-packages/sklearn/cluster/_kmeans.py:870: FutureWarning: The default value of `n_init` will change from 10 to 'auto' in 1.4. Set the value of `n_init` explicitly to suppress the warning\n",
            "  warnings.warn(\n"
          ]
        },
        {
          "output_type": "stream",
          "name": "stdout",
          "text": [
            "Saved > 18: ProcessedData/nodule_mask/ masks_5_136_3.npy\n",
            "Saved > 18: ProcessedData/lungs_roi/ lungs_5_136_3.npy\n",
            "Saved     : ProcessedData/nodule_mask/ masks_5_136.npy\n"
          ]
        },
        {
          "output_type": "stream",
          "name": "stderr",
          "text": [
            "\r10it [01:26,  9.79s/it]"
          ]
        },
        {
          "output_type": "stream",
          "name": "stdout",
          "text": [
            "Saved     : ProcessedData/lungs_roi/ lungs_5_136.npy\n",
            "Is Done Flag = False    file: subset0/1.3.6.1.4.1.14519.5.2.1.6279.6001.138080888843357047811238713686.mhd\n"
          ]
        },
        {
          "output_type": "stream",
          "name": "stderr",
          "text": [
            "/usr/local/lib/python3.10/dist-packages/sklearn/cluster/_kmeans.py:870: FutureWarning: The default value of `n_init` will change from 10 to 'auto' in 1.4. Set the value of `n_init` explicitly to suppress the warning\n",
            "  warnings.warn(\n"
          ]
        },
        {
          "output_type": "stream",
          "name": "stdout",
          "text": [
            "Saved     : ProcessedData/nodule_mask/ masks_6_139.npy\n"
          ]
        },
        {
          "output_type": "stream",
          "name": "stderr",
          "text": [
            "\r11it [01:32,  8.81s/it]"
          ]
        },
        {
          "output_type": "stream",
          "name": "stdout",
          "text": [
            "Saved     : ProcessedData/lungs_roi/ lungs_6_139.npy\n",
            "Is Done Flag = False    file: subset0/1.3.6.1.4.1.14519.5.2.1.6279.6001.139258777898746693365877042411.mhd\n"
          ]
        },
        {
          "output_type": "stream",
          "name": "stderr",
          "text": [
            "/usr/local/lib/python3.10/dist-packages/sklearn/cluster/_kmeans.py:870: FutureWarning: The default value of `n_init` will change from 10 to 'auto' in 1.4. Set the value of `n_init` explicitly to suppress the warning\n",
            "  warnings.warn(\n"
          ]
        },
        {
          "output_type": "stream",
          "name": "stdout",
          "text": [
            "Saved > 18: ProcessedData/nodule_mask/ masks_9_144_3.npy\n",
            "Saved > 18: ProcessedData/lungs_roi/ lungs_9_144_3.npy\n",
            "Saved     : ProcessedData/nodule_mask/ masks_9_144.npy\n"
          ]
        },
        {
          "output_type": "stream",
          "name": "stderr",
          "text": [
            "\r12it [01:44,  9.73s/it]"
          ]
        },
        {
          "output_type": "stream",
          "name": "stdout",
          "text": [
            "Saved     : ProcessedData/lungs_roi/ lungs_9_144.npy\n",
            "Is Done Flag = False    file: subset0/1.3.6.1.4.1.14519.5.2.1.6279.6001.141069661700670042960678408762.mhd\n"
          ]
        },
        {
          "output_type": "stream",
          "name": "stderr",
          "text": [
            "/usr/local/lib/python3.10/dist-packages/sklearn/cluster/_kmeans.py:870: FutureWarning: The default value of `n_init` will change from 10 to 'auto' in 1.4. Set the value of `n_init` explicitly to suppress the warning\n",
            "  warnings.warn(\n"
          ]
        },
        {
          "output_type": "stream",
          "name": "stdout",
          "text": [
            "Saved     : ProcessedData/nodule_mask/ masks_7_149.npy\n"
          ]
        },
        {
          "output_type": "stream",
          "name": "stderr",
          "text": [
            "\r13it [01:50,  8.68s/it]"
          ]
        },
        {
          "output_type": "stream",
          "name": "stdout",
          "text": [
            "Saved     : ProcessedData/lungs_roi/ lungs_7_149.npy\n",
            "Is Done Flag = False    file: subset0/1.3.6.1.4.1.14519.5.2.1.6279.6001.154677396354641150280013275227.mhd\n"
          ]
        },
        {
          "output_type": "stream",
          "name": "stderr",
          "text": [
            "/usr/local/lib/python3.10/dist-packages/sklearn/cluster/_kmeans.py:870: FutureWarning: The default value of `n_init` will change from 10 to 'auto' in 1.4. Set the value of `n_init` explicitly to suppress the warning\n",
            "  warnings.warn(\n"
          ]
        },
        {
          "output_type": "stream",
          "name": "stdout",
          "text": [
            "Saved > 18: ProcessedData/nodule_mask/ masks_7_199_3.npy\n",
            "Saved > 18: ProcessedData/lungs_roi/ lungs_7_199_3.npy\n",
            "Saved     : ProcessedData/nodule_mask/ masks_7_199.npy\n"
          ]
        },
        {
          "output_type": "stream",
          "name": "stderr",
          "text": [
            "\r14it [02:00,  8.95s/it]"
          ]
        },
        {
          "output_type": "stream",
          "name": "stdout",
          "text": [
            "Saved     : ProcessedData/lungs_roi/ lungs_7_199.npy\n",
            "Is Done Flag = False    file: subset0/1.3.6.1.4.1.14519.5.2.1.6279.6001.187451715205085403623595258748.mhd\n"
          ]
        },
        {
          "output_type": "stream",
          "name": "stderr",
          "text": [
            "/usr/local/lib/python3.10/dist-packages/sklearn/cluster/_kmeans.py:870: FutureWarning: The default value of `n_init` will change from 10 to 'auto' in 1.4. Set the value of `n_init` explicitly to suppress the warning\n",
            "  warnings.warn(\n"
          ]
        },
        {
          "output_type": "stream",
          "name": "stdout",
          "text": [
            "Saved > 18: ProcessedData/nodule_mask/ masks_9_335_3.npy\n",
            "Saved > 18: ProcessedData/lungs_roi/ lungs_9_335_3.npy\n",
            "Saved     : ProcessedData/nodule_mask/ masks_9_335.npy\n",
            "Saved     : ProcessedData/lungs_roi/ lungs_9_335.npy\n"
          ]
        },
        {
          "output_type": "stream",
          "name": "stderr",
          "text": [
            "/usr/local/lib/python3.10/dist-packages/sklearn/cluster/_kmeans.py:870: FutureWarning: The default value of `n_init` will change from 10 to 'auto' in 1.4. Set the value of `n_init` explicitly to suppress the warning\n",
            "  warnings.warn(\n"
          ]
        },
        {
          "output_type": "stream",
          "name": "stdout",
          "text": [
            "Saved > 18: ProcessedData/nodule_mask/ masks_5_336_3.npy\n",
            "Saved > 18: ProcessedData/lungs_roi/ lungs_5_336_3.npy\n",
            "Saved     : ProcessedData/nodule_mask/ masks_5_336.npy\n"
          ]
        },
        {
          "output_type": "stream",
          "name": "stderr",
          "text": [
            "\r15it [02:12,  9.94s/it]"
          ]
        },
        {
          "output_type": "stream",
          "name": "stdout",
          "text": [
            "Saved     : ProcessedData/lungs_roi/ lungs_5_336.npy\n",
            "Is Done Flag = False    file: subset0/1.3.6.1.4.1.14519.5.2.1.6279.6001.188209889686363159853715266493.mhd\n"
          ]
        },
        {
          "output_type": "stream",
          "name": "stderr",
          "text": [
            "/usr/local/lib/python3.10/dist-packages/sklearn/cluster/_kmeans.py:870: FutureWarning: The default value of `n_init` will change from 10 to 'auto' in 1.4. Set the value of `n_init` explicitly to suppress the warning\n",
            "  warnings.warn(\n"
          ]
        },
        {
          "output_type": "stream",
          "name": "stdout",
          "text": [
            "Saved     : ProcessedData/nodule_mask/ masks_1_344.npy\n",
            "Saved     : ProcessedData/lungs_roi/ lungs_1_344.npy\n"
          ]
        },
        {
          "output_type": "stream",
          "name": "stderr",
          "text": [
            "/usr/local/lib/python3.10/dist-packages/sklearn/cluster/_kmeans.py:870: FutureWarning: The default value of `n_init` will change from 10 to 'auto' in 1.4. Set the value of `n_init` explicitly to suppress the warning\n",
            "  warnings.warn(\n"
          ]
        },
        {
          "output_type": "stream",
          "name": "stdout",
          "text": [
            "Saved     : ProcessedData/nodule_mask/ masks_3_345.npy\n"
          ]
        },
        {
          "output_type": "stream",
          "name": "stderr",
          "text": [
            "\r16it [02:18,  8.64s/it]"
          ]
        },
        {
          "output_type": "stream",
          "name": "stdout",
          "text": [
            "Saved     : ProcessedData/lungs_roi/ lungs_3_345.npy\n",
            "Is Done Flag = False    file: subset0/1.3.6.1.4.1.14519.5.2.1.6279.6001.188376349804761988217597754952.mhd\n"
          ]
        },
        {
          "output_type": "stream",
          "name": "stderr",
          "text": [
            "/usr/local/lib/python3.10/dist-packages/sklearn/cluster/_kmeans.py:870: FutureWarning: The default value of `n_init` will change from 10 to 'auto' in 1.4. Set the value of `n_init` explicitly to suppress the warning\n",
            "  warnings.warn(\n"
          ]
        },
        {
          "output_type": "stream",
          "name": "stdout",
          "text": [
            "Saved     : ProcessedData/nodule_mask/ masks_3_347.npy\n",
            "Saved     : ProcessedData/lungs_roi/ lungs_3_347.npy\n"
          ]
        },
        {
          "output_type": "stream",
          "name": "stderr",
          "text": [
            "/usr/local/lib/python3.10/dist-packages/sklearn/cluster/_kmeans.py:870: FutureWarning: The default value of `n_init` will change from 10 to 'auto' in 1.4. Set the value of `n_init` explicitly to suppress the warning\n",
            "  warnings.warn(\n"
          ]
        },
        {
          "output_type": "stream",
          "name": "stdout",
          "text": [
            "Saved     : ProcessedData/nodule_mask/ masks_5_348.npy\n",
            "Saved     : ProcessedData/lungs_roi/ lungs_5_348.npy\n"
          ]
        },
        {
          "output_type": "stream",
          "name": "stderr",
          "text": [
            "/usr/local/lib/python3.10/dist-packages/sklearn/cluster/_kmeans.py:870: FutureWarning: The default value of `n_init` will change from 10 to 'auto' in 1.4. Set the value of `n_init` explicitly to suppress the warning\n",
            "  warnings.warn(\n"
          ]
        },
        {
          "output_type": "stream",
          "name": "stdout",
          "text": [
            "Saved     : ProcessedData/nodule_mask/ masks_7_349.npy\n",
            "Saved     : ProcessedData/lungs_roi/ lungs_7_349.npy\n"
          ]
        },
        {
          "output_type": "stream",
          "name": "stderr",
          "text": [
            "/usr/local/lib/python3.10/dist-packages/sklearn/cluster/_kmeans.py:870: FutureWarning: The default value of `n_init` will change from 10 to 'auto' in 1.4. Set the value of `n_init` explicitly to suppress the warning\n",
            "  warnings.warn(\n"
          ]
        },
        {
          "output_type": "stream",
          "name": "stdout",
          "text": [
            "Saved     : ProcessedData/nodule_mask/ masks_5_350.npy\n"
          ]
        },
        {
          "output_type": "stream",
          "name": "stderr",
          "text": [
            "\r17it [02:30,  9.58s/it]"
          ]
        },
        {
          "output_type": "stream",
          "name": "stdout",
          "text": [
            "Saved     : ProcessedData/lungs_roi/ lungs_5_350.npy\n",
            "Is Done Flag = False    file: subset0/1.3.6.1.4.1.14519.5.2.1.6279.6001.194440094986948071643661798326.mhd\n"
          ]
        },
        {
          "output_type": "stream",
          "name": "stderr",
          "text": [
            "/usr/local/lib/python3.10/dist-packages/sklearn/cluster/_kmeans.py:870: FutureWarning: The default value of `n_init` will change from 10 to 'auto' in 1.4. Set the value of `n_init` explicitly to suppress the warning\n",
            "  warnings.warn(\n"
          ]
        },
        {
          "output_type": "stream",
          "name": "stdout",
          "text": [
            "Saved     : ProcessedData/nodule_mask/ masks_9_367.npy\n"
          ]
        },
        {
          "output_type": "stream",
          "name": "stderr",
          "text": [
            "\r18it [02:35,  8.28s/it]"
          ]
        },
        {
          "output_type": "stream",
          "name": "stdout",
          "text": [
            "Saved     : ProcessedData/lungs_roi/ lungs_9_367.npy\n",
            "Is Done Flag = False    file: subset0/1.3.6.1.4.1.14519.5.2.1.6279.6001.202811684116768680758082619196.mhd\n"
          ]
        },
        {
          "output_type": "stream",
          "name": "stderr",
          "text": [
            "/usr/local/lib/python3.10/dist-packages/sklearn/cluster/_kmeans.py:870: FutureWarning: The default value of `n_init` will change from 10 to 'auto' in 1.4. Set the value of `n_init` explicitly to suppress the warning\n",
            "  warnings.warn(\n"
          ]
        },
        {
          "output_type": "stream",
          "name": "stdout",
          "text": [
            "Saved > 18: ProcessedData/nodule_mask/ masks_3_420_3.npy\n",
            "Saved > 18: ProcessedData/lungs_roi/ lungs_3_420_3.npy\n",
            "Saved     : ProcessedData/nodule_mask/ masks_3_420.npy\n"
          ]
        },
        {
          "output_type": "stream",
          "name": "stderr",
          "text": [
            "\r19it [02:42,  7.88s/it]"
          ]
        },
        {
          "output_type": "stream",
          "name": "stdout",
          "text": [
            "Saved     : ProcessedData/lungs_roi/ lungs_3_420.npy\n",
            "Is Done Flag = False    file: subset0/1.3.6.1.4.1.14519.5.2.1.6279.6001.213140617640021803112060161074.mhd\n"
          ]
        },
        {
          "output_type": "stream",
          "name": "stderr",
          "text": [
            "/usr/local/lib/python3.10/dist-packages/sklearn/cluster/_kmeans.py:870: FutureWarning: The default value of `n_init` will change from 10 to 'auto' in 1.4. Set the value of `n_init` explicitly to suppress the warning\n",
            "  warnings.warn(\n"
          ]
        },
        {
          "output_type": "stream",
          "name": "stdout",
          "text": [
            "Saved > 18: ProcessedData/nodule_mask/ masks_3_454_3.npy\n",
            "Saved > 18: ProcessedData/lungs_roi/ lungs_3_454_3.npy\n",
            "Saved     : ProcessedData/nodule_mask/ masks_3_454.npy\n",
            "Saved     : ProcessedData/lungs_roi/ lungs_3_454.npy\n"
          ]
        },
        {
          "output_type": "stream",
          "name": "stderr",
          "text": [
            "/usr/local/lib/python3.10/dist-packages/sklearn/cluster/_kmeans.py:870: FutureWarning: The default value of `n_init` will change from 10 to 'auto' in 1.4. Set the value of `n_init` explicitly to suppress the warning\n",
            "  warnings.warn(\n"
          ]
        },
        {
          "output_type": "stream",
          "name": "stdout",
          "text": [
            "Saved     : ProcessedData/nodule_mask/ masks_3_455.npy\n",
            "Saved     : ProcessedData/lungs_roi/ lungs_3_455.npy\n"
          ]
        },
        {
          "output_type": "stream",
          "name": "stderr",
          "text": [
            "/usr/local/lib/python3.10/dist-packages/sklearn/cluster/_kmeans.py:870: FutureWarning: The default value of `n_init` will change from 10 to 'auto' in 1.4. Set the value of `n_init` explicitly to suppress the warning\n",
            "  warnings.warn(\n"
          ]
        },
        {
          "output_type": "stream",
          "name": "stdout",
          "text": [
            "Saved     : ProcessedData/nodule_mask/ masks_3_456.npy\n"
          ]
        },
        {
          "output_type": "stream",
          "name": "stderr",
          "text": [
            "\r20it [02:53,  8.95s/it]"
          ]
        },
        {
          "output_type": "stream",
          "name": "stdout",
          "text": [
            "Saved     : ProcessedData/lungs_roi/ lungs_3_456.npy\n",
            "Is Done Flag = False    file: subset0/1.3.6.1.4.1.14519.5.2.1.6279.6001.219087313261026510628926082729.mhd\n"
          ]
        },
        {
          "output_type": "stream",
          "name": "stderr",
          "text": [
            "/usr/local/lib/python3.10/dist-packages/sklearn/cluster/_kmeans.py:870: FutureWarning: The default value of `n_init` will change from 10 to 'auto' in 1.4. Set the value of `n_init` explicitly to suppress the warning\n",
            "  warnings.warn(\n"
          ]
        },
        {
          "output_type": "stream",
          "name": "stdout",
          "text": [
            "Saved > 18: ProcessedData/nodule_mask/ masks_3_490_3.npy\n",
            "Saved > 18: ProcessedData/lungs_roi/ lungs_3_490_3.npy\n",
            "Saved     : ProcessedData/nodule_mask/ masks_3_490.npy\n",
            "Saved     : ProcessedData/lungs_roi/ lungs_3_490.npy\n"
          ]
        },
        {
          "output_type": "stream",
          "name": "stderr",
          "text": [
            "/usr/local/lib/python3.10/dist-packages/sklearn/cluster/_kmeans.py:870: FutureWarning: The default value of `n_init` will change from 10 to 'auto' in 1.4. Set the value of `n_init` explicitly to suppress the warning\n",
            "  warnings.warn(\n"
          ]
        },
        {
          "output_type": "stream",
          "name": "stdout",
          "text": [
            "Saved     : ProcessedData/nodule_mask/ masks_5_491.npy\n"
          ]
        },
        {
          "output_type": "stream",
          "name": "stderr",
          "text": [
            "\r21it [03:03,  9.31s/it]"
          ]
        },
        {
          "output_type": "stream",
          "name": "stdout",
          "text": [
            "Saved     : ProcessedData/lungs_roi/ lungs_5_491.npy\n",
            "Is Done Flag = False    file: subset0/1.3.6.1.4.1.14519.5.2.1.6279.6001.219909753224298157409438012179.mhd\n"
          ]
        },
        {
          "output_type": "stream",
          "name": "stderr",
          "text": [
            "/usr/local/lib/python3.10/dist-packages/sklearn/cluster/_kmeans.py:870: FutureWarning: The default value of `n_init` will change from 10 to 'auto' in 1.4. Set the value of `n_init` explicitly to suppress the warning\n",
            "  warnings.warn(\n"
          ]
        },
        {
          "output_type": "stream",
          "name": "stdout",
          "text": [
            "Saved > 18: ProcessedData/nodule_mask/ masks_1_506_3.npy\n",
            "Saved > 18: ProcessedData/lungs_roi/ lungs_1_506_3.npy\n",
            "Saved     : ProcessedData/nodule_mask/ masks_1_506.npy\n",
            "Saved     : ProcessedData/lungs_roi/ lungs_1_506.npy\n"
          ]
        },
        {
          "output_type": "stream",
          "name": "stderr",
          "text": [
            "/usr/local/lib/python3.10/dist-packages/sklearn/cluster/_kmeans.py:870: FutureWarning: The default value of `n_init` will change from 10 to 'auto' in 1.4. Set the value of `n_init` explicitly to suppress the warning\n",
            "  warnings.warn(\n"
          ]
        },
        {
          "output_type": "stream",
          "name": "stdout",
          "text": [
            "Saved     : ProcessedData/nodule_mask/ masks_3_507.npy\n"
          ]
        },
        {
          "output_type": "stream",
          "name": "stderr",
          "text": [
            "\r22it [03:14,  9.70s/it]"
          ]
        },
        {
          "output_type": "stream",
          "name": "stdout",
          "text": [
            "Saved     : ProcessedData/lungs_roi/ lungs_3_507.npy\n",
            "Is Done Flag = False    file: subset0/1.3.6.1.4.1.14519.5.2.1.6279.6001.227962600322799211676960828223.mhd\n"
          ]
        },
        {
          "output_type": "stream",
          "name": "stderr",
          "text": [
            "/usr/local/lib/python3.10/dist-packages/sklearn/cluster/_kmeans.py:870: FutureWarning: The default value of `n_init` will change from 10 to 'auto' in 1.4. Set the value of `n_init` explicitly to suppress the warning\n",
            "  warnings.warn(\n"
          ]
        },
        {
          "output_type": "stream",
          "name": "stdout",
          "text": [
            "Saved > 18: ProcessedData/nodule_mask/ masks_5_536_3.npy\n",
            "Saved > 18: ProcessedData/lungs_roi/ lungs_5_536_3.npy\n",
            "Saved     : ProcessedData/nodule_mask/ masks_5_536.npy\n"
          ]
        },
        {
          "output_type": "stream",
          "name": "stderr",
          "text": [
            "\r23it [03:22,  9.15s/it]"
          ]
        },
        {
          "output_type": "stream",
          "name": "stdout",
          "text": [
            "Saved     : ProcessedData/lungs_roi/ lungs_5_536.npy\n",
            "Is Done Flag = False    file: subset0/1.3.6.1.4.1.14519.5.2.1.6279.6001.241570579760883349458693655367.mhd\n"
          ]
        },
        {
          "output_type": "stream",
          "name": "stderr",
          "text": [
            "/usr/local/lib/python3.10/dist-packages/sklearn/cluster/_kmeans.py:870: FutureWarning: The default value of `n_init` will change from 10 to 'auto' in 1.4. Set the value of `n_init` explicitly to suppress the warning\n",
            "  warnings.warn(\n"
          ]
        },
        {
          "output_type": "stream",
          "name": "stdout",
          "text": [
            "Saved     : ProcessedData/nodule_mask/ masks_3_580.npy\n"
          ]
        },
        {
          "output_type": "stream",
          "name": "stderr",
          "text": [
            "\r24it [03:29,  8.54s/it]"
          ]
        },
        {
          "output_type": "stream",
          "name": "stdout",
          "text": [
            "Saved     : ProcessedData/lungs_roi/ lungs_3_580.npy\n",
            "Is Done Flag = False    file: subset0/1.3.6.1.4.1.14519.5.2.1.6279.6001.249530219848512542668813996730.mhd\n"
          ]
        },
        {
          "output_type": "stream",
          "name": "stderr",
          "text": [
            "/usr/local/lib/python3.10/dist-packages/sklearn/cluster/_kmeans.py:870: FutureWarning: The default value of `n_init` will change from 10 to 'auto' in 1.4. Set the value of `n_init` explicitly to suppress the warning\n",
            "  warnings.warn(\n"
          ]
        },
        {
          "output_type": "stream",
          "name": "stdout",
          "text": [
            "Saved     : ProcessedData/nodule_mask/ masks_7_620.npy\n",
            "Saved     : ProcessedData/lungs_roi/ lungs_7_620.npy\n"
          ]
        },
        {
          "output_type": "stream",
          "name": "stderr",
          "text": [
            "/usr/local/lib/python3.10/dist-packages/sklearn/cluster/_kmeans.py:870: FutureWarning: The default value of `n_init` will change from 10 to 'auto' in 1.4. Set the value of `n_init` explicitly to suppress the warning\n",
            "  warnings.warn(\n"
          ]
        },
        {
          "output_type": "stream",
          "name": "stdout",
          "text": [
            "Saved     : ProcessedData/nodule_mask/ masks_5_621.npy\n",
            "Saved     : ProcessedData/lungs_roi/ lungs_5_621.npy\n"
          ]
        },
        {
          "output_type": "stream",
          "name": "stderr",
          "text": [
            "/usr/local/lib/python3.10/dist-packages/sklearn/cluster/_kmeans.py:870: FutureWarning: The default value of `n_init` will change from 10 to 'auto' in 1.4. Set the value of `n_init` explicitly to suppress the warning\n",
            "  warnings.warn(\n"
          ]
        },
        {
          "output_type": "stream",
          "name": "stdout",
          "text": [
            "Saved > 18: ProcessedData/nodule_mask/ masks_7_622_3.npy\n",
            "Saved > 18: ProcessedData/lungs_roi/ lungs_7_622_3.npy\n",
            "Saved     : ProcessedData/nodule_mask/ masks_7_622.npy\n"
          ]
        },
        {
          "output_type": "stream",
          "name": "stderr",
          "text": [
            "\r25it [03:43, 10.11s/it]"
          ]
        },
        {
          "output_type": "stream",
          "name": "stdout",
          "text": [
            "Saved     : ProcessedData/lungs_roi/ lungs_7_622.npy\n",
            "Is Done Flag = False    file: subset0/1.3.6.1.4.1.14519.5.2.1.6279.6001.250863365157630276148828903732.mhd\n"
          ]
        },
        {
          "output_type": "stream",
          "name": "stderr",
          "text": [
            "/usr/local/lib/python3.10/dist-packages/sklearn/cluster/_kmeans.py:870: FutureWarning: The default value of `n_init` will change from 10 to 'auto' in 1.4. Set the value of `n_init` explicitly to suppress the warning\n",
            "  warnings.warn(\n"
          ]
        },
        {
          "output_type": "stream",
          "name": "stdout",
          "text": [
            "Saved     : ProcessedData/nodule_mask/ masks_1_630.npy\n"
          ]
        },
        {
          "output_type": "stream",
          "name": "stderr",
          "text": [
            "\r26it [03:50,  9.38s/it]"
          ]
        },
        {
          "output_type": "stream",
          "name": "stdout",
          "text": [
            "Saved     : ProcessedData/lungs_roi/ lungs_1_630.npy\n",
            "Is Done Flag = False    file: subset0/1.3.6.1.4.1.14519.5.2.1.6279.6001.272042302501586336192628818865.mhd\n"
          ]
        },
        {
          "output_type": "stream",
          "name": "stderr",
          "text": [
            "/usr/local/lib/python3.10/dist-packages/sklearn/cluster/_kmeans.py:870: FutureWarning: The default value of `n_init` will change from 10 to 'auto' in 1.4. Set the value of `n_init` explicitly to suppress the warning\n",
            "  warnings.warn(\n"
          ]
        },
        {
          "output_type": "stream",
          "name": "stdout",
          "text": [
            "Saved     : ProcessedData/nodule_mask/ masks_5_705.npy\n"
          ]
        },
        {
          "output_type": "stream",
          "name": "stderr",
          "text": [
            "\r27it [03:56,  8.31s/it]"
          ]
        },
        {
          "output_type": "stream",
          "name": "stdout",
          "text": [
            "Saved     : ProcessedData/lungs_roi/ lungs_5_705.npy\n",
            "Is Done Flag = False    file: subset0/1.3.6.1.4.1.14519.5.2.1.6279.6001.277445975068759205899107114231.mhd\n"
          ]
        },
        {
          "output_type": "stream",
          "name": "stderr",
          "text": [
            "/usr/local/lib/python3.10/dist-packages/sklearn/cluster/_kmeans.py:870: FutureWarning: The default value of `n_init` will change from 10 to 'auto' in 1.4. Set the value of `n_init` explicitly to suppress the warning\n",
            "  warnings.warn(\n"
          ]
        },
        {
          "output_type": "stream",
          "name": "stdout",
          "text": [
            "Saved     : ProcessedData/nodule_mask/ masks_5_732.npy\n",
            "Saved     : ProcessedData/lungs_roi/ lungs_5_732.npy\n"
          ]
        },
        {
          "output_type": "stream",
          "name": "stderr",
          "text": [
            "/usr/local/lib/python3.10/dist-packages/sklearn/cluster/_kmeans.py:870: FutureWarning: The default value of `n_init` will change from 10 to 'auto' in 1.4. Set the value of `n_init` explicitly to suppress the warning\n",
            "  warnings.warn(\n"
          ]
        },
        {
          "output_type": "stream",
          "name": "stdout",
          "text": [
            "Saved     : ProcessedData/nodule_mask/ masks_3_733.npy\n"
          ]
        },
        {
          "output_type": "stream",
          "name": "stderr",
          "text": [
            "\r28it [04:03,  7.83s/it]"
          ]
        },
        {
          "output_type": "stream",
          "name": "stdout",
          "text": [
            "Saved     : ProcessedData/lungs_roi/ lungs_3_733.npy\n",
            "Is Done Flag = False    file: subset0/1.3.6.1.4.1.14519.5.2.1.6279.6001.281489753704424911132261151767.mhd\n"
          ]
        },
        {
          "output_type": "stream",
          "name": "stderr",
          "text": [
            "/usr/local/lib/python3.10/dist-packages/sklearn/cluster/_kmeans.py:870: FutureWarning: The default value of `n_init` will change from 10 to 'auto' in 1.4. Set the value of `n_init` explicitly to suppress the warning\n",
            "  warnings.warn(\n"
          ]
        },
        {
          "output_type": "stream",
          "name": "stdout",
          "text": [
            "Saved     : ProcessedData/nodule_mask/ masks_3_748.npy\n"
          ]
        },
        {
          "output_type": "stream",
          "name": "stderr",
          "text": [
            "\r29it [04:11,  8.03s/it]"
          ]
        },
        {
          "output_type": "stream",
          "name": "stdout",
          "text": [
            "Saved     : ProcessedData/lungs_roi/ lungs_3_748.npy\n",
            "Is Done Flag = False    file: subset0/1.3.6.1.4.1.14519.5.2.1.6279.6001.293757615532132808762625441831.mhd\n"
          ]
        },
        {
          "output_type": "stream",
          "name": "stderr",
          "text": [
            "/usr/local/lib/python3.10/dist-packages/sklearn/cluster/_kmeans.py:870: FutureWarning: The default value of `n_init` will change from 10 to 'auto' in 1.4. Set the value of `n_init` explicitly to suppress the warning\n",
            "  warnings.warn(\n"
          ]
        },
        {
          "output_type": "stream",
          "name": "stdout",
          "text": [
            "Saved     : ProcessedData/nodule_mask/ masks_5_783.npy\n",
            "Saved     : ProcessedData/lungs_roi/ lungs_5_783.npy\n"
          ]
        },
        {
          "output_type": "stream",
          "name": "stderr",
          "text": [
            "/usr/local/lib/python3.10/dist-packages/sklearn/cluster/_kmeans.py:870: FutureWarning: The default value of `n_init` will change from 10 to 'auto' in 1.4. Set the value of `n_init` explicitly to suppress the warning\n",
            "  warnings.warn(\n"
          ]
        },
        {
          "output_type": "stream",
          "name": "stdout",
          "text": [
            "Saved     : ProcessedData/nodule_mask/ masks_5_784.npy\n"
          ]
        },
        {
          "output_type": "stream",
          "name": "stderr",
          "text": [
            "\r30it [04:20,  8.15s/it]"
          ]
        },
        {
          "output_type": "stream",
          "name": "stdout",
          "text": [
            "Saved     : ProcessedData/lungs_roi/ lungs_5_784.npy\n",
            "Is Done Flag = False    file: subset0/1.3.6.1.4.1.14519.5.2.1.6279.6001.294188507421106424248264912111.mhd\n"
          ]
        },
        {
          "output_type": "stream",
          "name": "stderr",
          "text": [
            "/usr/local/lib/python3.10/dist-packages/sklearn/cluster/_kmeans.py:870: FutureWarning: The default value of `n_init` will change from 10 to 'auto' in 1.4. Set the value of `n_init` explicitly to suppress the warning\n",
            "  warnings.warn(\n"
          ]
        },
        {
          "output_type": "stream",
          "name": "stdout",
          "text": [
            "Saved     : ProcessedData/nodule_mask/ masks_7_789.npy\n",
            "Saved     : ProcessedData/lungs_roi/ lungs_7_789.npy\n"
          ]
        },
        {
          "output_type": "stream",
          "name": "stderr",
          "text": [
            "/usr/local/lib/python3.10/dist-packages/sklearn/cluster/_kmeans.py:870: FutureWarning: The default value of `n_init` will change from 10 to 'auto' in 1.4. Set the value of `n_init` explicitly to suppress the warning\n",
            "  warnings.warn(\n"
          ]
        },
        {
          "output_type": "stream",
          "name": "stdout",
          "text": [
            "Saved     : ProcessedData/nodule_mask/ masks_3_790.npy\n",
            "Saved     : ProcessedData/lungs_roi/ lungs_3_790.npy\n"
          ]
        },
        {
          "output_type": "stream",
          "name": "stderr",
          "text": [
            "/usr/local/lib/python3.10/dist-packages/sklearn/cluster/_kmeans.py:870: FutureWarning: The default value of `n_init` will change from 10 to 'auto' in 1.4. Set the value of `n_init` explicitly to suppress the warning\n",
            "  warnings.warn(\n"
          ]
        },
        {
          "output_type": "stream",
          "name": "stdout",
          "text": [
            "Saved     : ProcessedData/nodule_mask/ masks_3_791.npy\n"
          ]
        },
        {
          "output_type": "stream",
          "name": "stderr",
          "text": [
            "\r31it [04:29,  8.34s/it]"
          ]
        },
        {
          "output_type": "stream",
          "name": "stdout",
          "text": [
            "Saved     : ProcessedData/lungs_roi/ lungs_3_791.npy\n",
            "Is Done Flag = False    file: subset0/1.3.6.1.4.1.14519.5.2.1.6279.6001.295298571102631191572192562523.mhd\n"
          ]
        },
        {
          "output_type": "stream",
          "name": "stderr",
          "text": [
            "/usr/local/lib/python3.10/dist-packages/sklearn/cluster/_kmeans.py:870: FutureWarning: The default value of `n_init` will change from 10 to 'auto' in 1.4. Set the value of `n_init` explicitly to suppress the warning\n",
            "  warnings.warn(\n"
          ]
        },
        {
          "output_type": "stream",
          "name": "stdout",
          "text": [
            "Saved     : ProcessedData/nodule_mask/ masks_5_792.npy\n",
            "Saved     : ProcessedData/lungs_roi/ lungs_5_792.npy\n"
          ]
        },
        {
          "output_type": "stream",
          "name": "stderr",
          "text": [
            "/usr/local/lib/python3.10/dist-packages/sklearn/cluster/_kmeans.py:870: FutureWarning: The default value of `n_init` will change from 10 to 'auto' in 1.4. Set the value of `n_init` explicitly to suppress the warning\n",
            "  warnings.warn(\n"
          ]
        },
        {
          "output_type": "stream",
          "name": "stdout",
          "text": [
            "Saved     : ProcessedData/nodule_mask/ masks_5_793.npy\n"
          ]
        },
        {
          "output_type": "stream",
          "name": "stderr",
          "text": [
            "\r32it [04:36,  8.15s/it]"
          ]
        },
        {
          "output_type": "stream",
          "name": "stdout",
          "text": [
            "Saved     : ProcessedData/lungs_roi/ lungs_5_793.npy\n",
            "Is Done Flag = False    file: subset0/1.3.6.1.4.1.14519.5.2.1.6279.6001.295420274214095686326263147663.mhd\n"
          ]
        },
        {
          "output_type": "stream",
          "name": "stderr",
          "text": [
            "/usr/local/lib/python3.10/dist-packages/sklearn/cluster/_kmeans.py:870: FutureWarning: The default value of `n_init` will change from 10 to 'auto' in 1.4. Set the value of `n_init` explicitly to suppress the warning\n",
            "  warnings.warn(\n"
          ]
        },
        {
          "output_type": "stream",
          "name": "stdout",
          "text": [
            "Saved     : ProcessedData/nodule_mask/ masks_5_794.npy\n",
            "Saved     : ProcessedData/lungs_roi/ lungs_5_794.npy\n"
          ]
        },
        {
          "output_type": "stream",
          "name": "stderr",
          "text": [
            "/usr/local/lib/python3.10/dist-packages/sklearn/cluster/_kmeans.py:870: FutureWarning: The default value of `n_init` will change from 10 to 'auto' in 1.4. Set the value of `n_init` explicitly to suppress the warning\n",
            "  warnings.warn(\n"
          ]
        },
        {
          "output_type": "stream",
          "name": "stdout",
          "text": [
            "Saved     : ProcessedData/nodule_mask/ masks_5_795.npy\n",
            "Saved     : ProcessedData/lungs_roi/ lungs_5_795.npy\n"
          ]
        },
        {
          "output_type": "stream",
          "name": "stderr",
          "text": [
            "/usr/local/lib/python3.10/dist-packages/sklearn/cluster/_kmeans.py:870: FutureWarning: The default value of `n_init` will change from 10 to 'auto' in 1.4. Set the value of `n_init` explicitly to suppress the warning\n",
            "  warnings.warn(\n"
          ]
        },
        {
          "output_type": "stream",
          "name": "stdout",
          "text": [
            "Saved     : ProcessedData/nodule_mask/ masks_13_796.npy\n",
            "Saved     : ProcessedData/lungs_roi/ lungs_13_796.npy\n"
          ]
        },
        {
          "output_type": "stream",
          "name": "stderr",
          "text": [
            "/usr/local/lib/python3.10/dist-packages/sklearn/cluster/_kmeans.py:870: FutureWarning: The default value of `n_init` will change from 10 to 'auto' in 1.4. Set the value of `n_init` explicitly to suppress the warning\n",
            "  warnings.warn(\n"
          ]
        },
        {
          "output_type": "stream",
          "name": "stdout",
          "text": [
            "Saved     : ProcessedData/nodule_mask/ masks_9_798.npy\n"
          ]
        },
        {
          "output_type": "stream",
          "name": "stderr",
          "text": [
            "\r33it [04:46,  8.66s/it]"
          ]
        },
        {
          "output_type": "stream",
          "name": "stdout",
          "text": [
            "Saved     : ProcessedData/lungs_roi/ lungs_9_798.npy\n",
            "Is Done Flag = False    file: subset0/1.3.6.1.4.1.14519.5.2.1.6279.6001.303421828981831854739626597495.mhd\n"
          ]
        },
        {
          "output_type": "stream",
          "name": "stderr",
          "text": [
            "/usr/local/lib/python3.10/dist-packages/sklearn/cluster/_kmeans.py:870: FutureWarning: The default value of `n_init` will change from 10 to 'auto' in 1.4. Set the value of `n_init` explicitly to suppress the warning\n",
            "  warnings.warn(\n"
          ]
        },
        {
          "output_type": "stream",
          "name": "stdout",
          "text": [
            "Saved     : ProcessedData/nodule_mask/ masks_5_836.npy\n"
          ]
        },
        {
          "output_type": "stream",
          "name": "stderr",
          "text": [
            "\r34it [04:53,  8.12s/it]"
          ]
        },
        {
          "output_type": "stream",
          "name": "stdout",
          "text": [
            "Saved     : ProcessedData/lungs_roi/ lungs_5_836.npy\n",
            "Is Done Flag = False    file: subset0/1.3.6.1.4.1.14519.5.2.1.6279.6001.305858704835252413616501469037.mhd\n"
          ]
        },
        {
          "output_type": "stream",
          "name": "stderr",
          "text": [
            "/usr/local/lib/python3.10/dist-packages/sklearn/cluster/_kmeans.py:870: FutureWarning: The default value of `n_init` will change from 10 to 'auto' in 1.4. Set the value of `n_init` explicitly to suppress the warning\n",
            "  warnings.warn(\n"
          ]
        },
        {
          "output_type": "stream",
          "name": "stdout",
          "text": [
            "Saved     : ProcessedData/nodule_mask/ masks_9_838.npy\n",
            "Saved     : ProcessedData/lungs_roi/ lungs_9_838.npy\n"
          ]
        },
        {
          "output_type": "stream",
          "name": "stderr",
          "text": [
            "/usr/local/lib/python3.10/dist-packages/sklearn/cluster/_kmeans.py:870: FutureWarning: The default value of `n_init` will change from 10 to 'auto' in 1.4. Set the value of `n_init` explicitly to suppress the warning\n",
            "  warnings.warn(\n"
          ]
        },
        {
          "output_type": "stream",
          "name": "stdout",
          "text": [
            "Saved     : ProcessedData/nodule_mask/ masks_9_839.npy\n"
          ]
        },
        {
          "output_type": "stream",
          "name": "stderr",
          "text": [
            "\r35it [05:00,  7.73s/it]"
          ]
        },
        {
          "output_type": "stream",
          "name": "stdout",
          "text": [
            "Saved     : ProcessedData/lungs_roi/ lungs_9_839.npy\n",
            "Is Done Flag = False    file: subset0/1.3.6.1.4.1.14519.5.2.1.6279.6001.310548927038333190233889983845.mhd\n"
          ]
        },
        {
          "output_type": "stream",
          "name": "stderr",
          "text": [
            "/usr/local/lib/python3.10/dist-packages/sklearn/cluster/_kmeans.py:870: FutureWarning: The default value of `n_init` will change from 10 to 'auto' in 1.4. Set the value of `n_init` explicitly to suppress the warning\n",
            "  warnings.warn(\n"
          ]
        },
        {
          "output_type": "stream",
          "name": "stdout",
          "text": [
            "Saved     : ProcessedData/nodule_mask/ masks_3_858.npy\n"
          ]
        },
        {
          "output_type": "stream",
          "name": "stderr",
          "text": [
            "\r36it [05:05,  7.06s/it]"
          ]
        },
        {
          "output_type": "stream",
          "name": "stdout",
          "text": [
            "Saved     : ProcessedData/lungs_roi/ lungs_3_858.npy\n",
            "Is Done Flag = False    file: subset0/1.3.6.1.4.1.14519.5.2.1.6279.6001.313334055029671473836954456733.mhd\n"
          ]
        },
        {
          "output_type": "stream",
          "name": "stderr",
          "text": [
            "/usr/local/lib/python3.10/dist-packages/sklearn/cluster/_kmeans.py:870: FutureWarning: The default value of `n_init` will change from 10 to 'auto' in 1.4. Set the value of `n_init` explicitly to suppress the warning\n",
            "  warnings.warn(\n"
          ]
        },
        {
          "output_type": "stream",
          "name": "stdout",
          "text": [
            "Saved > 18: ProcessedData/nodule_mask/ masks_7_871_3.npy\n",
            "Saved > 18: ProcessedData/lungs_roi/ lungs_7_871_3.npy\n",
            "Saved     : ProcessedData/nodule_mask/ masks_7_871.npy\n"
          ]
        },
        {
          "output_type": "stream",
          "name": "stderr",
          "text": [
            "\r37it [05:13,  7.27s/it]"
          ]
        },
        {
          "output_type": "stream",
          "name": "stdout",
          "text": [
            "Saved     : ProcessedData/lungs_roi/ lungs_7_871.npy\n",
            "Is Done Flag = False    file: subset0/1.3.6.1.4.1.14519.5.2.1.6279.6001.313605260055394498989743099991.mhd\n"
          ]
        },
        {
          "output_type": "stream",
          "name": "stderr",
          "text": [
            "/usr/local/lib/python3.10/dist-packages/sklearn/cluster/_kmeans.py:870: FutureWarning: The default value of `n_init` will change from 10 to 'auto' in 1.4. Set the value of `n_init` explicitly to suppress the warning\n",
            "  warnings.warn(\n"
          ]
        },
        {
          "output_type": "stream",
          "name": "stdout",
          "text": [
            "Saved     : ProcessedData/nodule_mask/ masks_5_872.npy\n"
          ]
        },
        {
          "output_type": "stream",
          "name": "stderr",
          "text": [
            "\r38it [05:18,  6.45s/it]"
          ]
        },
        {
          "output_type": "stream",
          "name": "stdout",
          "text": [
            "Saved     : ProcessedData/lungs_roi/ lungs_5_872.npy\n",
            "Is Done Flag = False    file: subset0/1.3.6.1.4.1.14519.5.2.1.6279.6001.313835996725364342034830119490.mhd\n"
          ]
        },
        {
          "output_type": "stream",
          "name": "stderr",
          "text": [
            "/usr/local/lib/python3.10/dist-packages/sklearn/cluster/_kmeans.py:870: FutureWarning: The default value of `n_init` will change from 10 to 'auto' in 1.4. Set the value of `n_init` explicitly to suppress the warning\n",
            "  warnings.warn(\n"
          ]
        },
        {
          "output_type": "stream",
          "name": "stdout",
          "text": [
            "Saved > 18: ProcessedData/nodule_mask/ masks_3_873_3.npy\n",
            "Saved > 18: ProcessedData/lungs_roi/ lungs_3_873_3.npy\n",
            "Saved     : ProcessedData/nodule_mask/ masks_3_873.npy\n"
          ]
        },
        {
          "output_type": "stream",
          "name": "stderr",
          "text": [
            "\r39it [05:28,  7.50s/it]"
          ]
        },
        {
          "output_type": "stream",
          "name": "stdout",
          "text": [
            "Saved     : ProcessedData/lungs_roi/ lungs_3_873.npy\n",
            "Is Done Flag = False    file: subset0/1.3.6.1.4.1.14519.5.2.1.6279.6001.317087518531899043292346860596.mhd\n"
          ]
        },
        {
          "output_type": "stream",
          "name": "stderr",
          "text": [
            "/usr/local/lib/python3.10/dist-packages/sklearn/cluster/_kmeans.py:870: FutureWarning: The default value of `n_init` will change from 10 to 'auto' in 1.4. Set the value of `n_init` explicitly to suppress the warning\n",
            "  warnings.warn(\n"
          ]
        },
        {
          "output_type": "stream",
          "name": "stdout",
          "text": [
            "Saved > 18: ProcessedData/nodule_mask/ masks_5_882_3.npy\n",
            "Saved > 18: ProcessedData/lungs_roi/ lungs_5_882_3.npy\n",
            "Saved     : ProcessedData/nodule_mask/ masks_5_882.npy\n"
          ]
        },
        {
          "output_type": "stream",
          "name": "stderr",
          "text": [
            "\r40it [05:38,  8.32s/it]"
          ]
        },
        {
          "output_type": "stream",
          "name": "stdout",
          "text": [
            "Saved     : ProcessedData/lungs_roi/ lungs_5_882.npy\n",
            "Is Done Flag = False    file: subset0/1.3.6.1.4.1.14519.5.2.1.6279.6001.323302986710576400812869264321.mhd\n"
          ]
        },
        {
          "output_type": "stream",
          "name": "stderr",
          "text": [
            "/usr/local/lib/python3.10/dist-packages/sklearn/cluster/_kmeans.py:870: FutureWarning: The default value of `n_init` will change from 10 to 'auto' in 1.4. Set the value of `n_init` explicitly to suppress the warning\n",
            "  warnings.warn(\n"
          ]
        },
        {
          "output_type": "stream",
          "name": "stdout",
          "text": [
            "Saved     : ProcessedData/nodule_mask/ masks_3_889.npy\n"
          ]
        },
        {
          "output_type": "stream",
          "name": "stderr",
          "text": [
            "\r41it [05:43,  7.23s/it]"
          ]
        },
        {
          "output_type": "stream",
          "name": "stdout",
          "text": [
            "Saved     : ProcessedData/lungs_roi/ lungs_3_889.npy\n",
            "Is Done Flag = False    file: subset0/1.3.6.1.4.1.14519.5.2.1.6279.6001.323859712968543712594665815359.mhd\n"
          ]
        },
        {
          "output_type": "stream",
          "name": "stderr",
          "text": [
            "/usr/local/lib/python3.10/dist-packages/sklearn/cluster/_kmeans.py:870: FutureWarning: The default value of `n_init` will change from 10 to 'auto' in 1.4. Set the value of `n_init` explicitly to suppress the warning\n",
            "  warnings.warn(\n"
          ]
        },
        {
          "output_type": "stream",
          "name": "stdout",
          "text": [
            "Saved     : ProcessedData/nodule_mask/ masks_3_897.npy\n",
            "Saved     : ProcessedData/lungs_roi/ lungs_3_897.npy\n"
          ]
        },
        {
          "output_type": "stream",
          "name": "stderr",
          "text": [
            "/usr/local/lib/python3.10/dist-packages/sklearn/cluster/_kmeans.py:870: FutureWarning: The default value of `n_init` will change from 10 to 'auto' in 1.4. Set the value of `n_init` explicitly to suppress the warning\n",
            "  warnings.warn(\n"
          ]
        },
        {
          "output_type": "stream",
          "name": "stdout",
          "text": [
            "Saved     : ProcessedData/nodule_mask/ masks_3_898.npy\n"
          ]
        },
        {
          "output_type": "stream",
          "name": "stderr",
          "text": [
            "\r42it [05:50,  7.20s/it]"
          ]
        },
        {
          "output_type": "stream",
          "name": "stdout",
          "text": [
            "Saved     : ProcessedData/lungs_roi/ lungs_3_898.npy\n",
            "Is Done Flag = False    file: subset0/1.3.6.1.4.1.14519.5.2.1.6279.6001.333145094436144085379032922488.mhd\n"
          ]
        },
        {
          "output_type": "stream",
          "name": "stderr",
          "text": [
            "/usr/local/lib/python3.10/dist-packages/sklearn/cluster/_kmeans.py:870: FutureWarning: The default value of `n_init` will change from 10 to 'auto' in 1.4. Set the value of `n_init` explicitly to suppress the warning\n",
            "  warnings.warn(\n"
          ]
        },
        {
          "output_type": "stream",
          "name": "stdout",
          "text": [
            "Saved     : ProcessedData/nodule_mask/ masks_5_935.npy\n"
          ]
        },
        {
          "output_type": "stream",
          "name": "stderr",
          "text": [
            "\r43it [05:54,  6.24s/it]"
          ]
        },
        {
          "output_type": "stream",
          "name": "stdout",
          "text": [
            "Saved     : ProcessedData/lungs_roi/ lungs_5_935.npy\n",
            "Is Done Flag = False    file: subset0/1.3.6.1.4.1.14519.5.2.1.6279.6001.334517907433161353885866806005.mhd\n"
          ]
        },
        {
          "output_type": "stream",
          "name": "stderr",
          "text": [
            "/usr/local/lib/python3.10/dist-packages/sklearn/cluster/_kmeans.py:870: FutureWarning: The default value of `n_init` will change from 10 to 'auto' in 1.4. Set the value of `n_init` explicitly to suppress the warning\n",
            "  warnings.warn(\n"
          ]
        },
        {
          "output_type": "stream",
          "name": "stdout",
          "text": [
            "Saved > 18: ProcessedData/nodule_mask/ masks_5_937_3.npy\n",
            "Saved > 18: ProcessedData/lungs_roi/ lungs_5_937_3.npy\n",
            "Saved     : ProcessedData/nodule_mask/ masks_5_937.npy\n",
            "Saved     : ProcessedData/lungs_roi/ lungs_5_937.npy\n"
          ]
        },
        {
          "output_type": "stream",
          "name": "stderr",
          "text": [
            "/usr/local/lib/python3.10/dist-packages/sklearn/cluster/_kmeans.py:870: FutureWarning: The default value of `n_init` will change from 10 to 'auto' in 1.4. Set the value of `n_init` explicitly to suppress the warning\n",
            "  warnings.warn(\n"
          ]
        },
        {
          "output_type": "stream",
          "name": "stdout",
          "text": [
            "Saved     : ProcessedData/nodule_mask/ masks_9_938.npy\n",
            "Saved     : ProcessedData/lungs_roi/ lungs_9_938.npy\n"
          ]
        },
        {
          "output_type": "stream",
          "name": "stderr",
          "text": [
            "/usr/local/lib/python3.10/dist-packages/sklearn/cluster/_kmeans.py:870: FutureWarning: The default value of `n_init` will change from 10 to 'auto' in 1.4. Set the value of `n_init` explicitly to suppress the warning\n",
            "  warnings.warn(\n"
          ]
        },
        {
          "output_type": "stream",
          "name": "stdout",
          "text": [
            "Saved     : ProcessedData/nodule_mask/ masks_9_939.npy\n"
          ]
        },
        {
          "output_type": "stream",
          "name": "stderr",
          "text": [
            "\r44it [06:06,  8.03s/it]"
          ]
        },
        {
          "output_type": "stream",
          "name": "stdout",
          "text": [
            "Saved     : ProcessedData/lungs_roi/ lungs_9_939.npy\n",
            "Is Done Flag = False    file: subset0/1.3.6.1.4.1.14519.5.2.1.6279.6001.395623571499047043765181005112.mhd\n"
          ]
        },
        {
          "output_type": "stream",
          "name": "stderr",
          "text": [
            "/usr/local/lib/python3.10/dist-packages/sklearn/cluster/_kmeans.py:870: FutureWarning: The default value of `n_init` will change from 10 to 'auto' in 1.4. Set the value of `n_init` explicitly to suppress the warning\n",
            "  warnings.warn(\n"
          ]
        },
        {
          "output_type": "stream",
          "name": "stdout",
          "text": [
            "Saved     : ProcessedData/nodule_mask/ masks_3_966.npy\n"
          ]
        },
        {
          "output_type": "stream",
          "name": "stderr",
          "text": [
            "\r45it [06:10,  6.89s/it]"
          ]
        },
        {
          "output_type": "stream",
          "name": "stdout",
          "text": [
            "Saved     : ProcessedData/lungs_roi/ lungs_3_966.npy\n",
            "Is Done Flag = False    file: subset0/1.3.6.1.4.1.14519.5.2.1.6279.6001.404364125369979066736354549484.mhd\n"
          ]
        },
        {
          "output_type": "stream",
          "name": "stderr",
          "text": [
            "/usr/local/lib/python3.10/dist-packages/sklearn/cluster/_kmeans.py:870: FutureWarning: The default value of `n_init` will change from 10 to 'auto' in 1.4. Set the value of `n_init` explicitly to suppress the warning\n",
            "  warnings.warn(\n"
          ]
        },
        {
          "output_type": "stream",
          "name": "stdout",
          "text": [
            "Saved     : ProcessedData/nodule_mask/ masks_5_970.npy\n"
          ]
        },
        {
          "output_type": "stream",
          "name": "stderr",
          "text": [
            "\r46it [06:16,  6.43s/it]"
          ]
        },
        {
          "output_type": "stream",
          "name": "stdout",
          "text": [
            "Saved     : ProcessedData/lungs_roi/ lungs_5_970.npy\n",
            "Is Done Flag = False    file: subset0/1.3.6.1.4.1.14519.5.2.1.6279.6001.430109407146633213496148200410.mhd\n"
          ]
        },
        {
          "output_type": "stream",
          "name": "stderr",
          "text": [
            "/usr/local/lib/python3.10/dist-packages/sklearn/cluster/_kmeans.py:870: FutureWarning: The default value of `n_init` will change from 10 to 'auto' in 1.4. Set the value of `n_init` explicitly to suppress the warning\n",
            "  warnings.warn(\n"
          ]
        },
        {
          "output_type": "stream",
          "name": "stdout",
          "text": [
            "Saved > 18: ProcessedData/nodule_mask/ masks_3_978_3.npy\n",
            "Saved > 18: ProcessedData/lungs_roi/ lungs_3_978_3.npy\n",
            "Saved     : ProcessedData/nodule_mask/ masks_3_978.npy\n",
            "Saved     : ProcessedData/lungs_roi/ lungs_3_978.npy\n"
          ]
        },
        {
          "output_type": "stream",
          "name": "stderr",
          "text": [
            "/usr/local/lib/python3.10/dist-packages/sklearn/cluster/_kmeans.py:870: FutureWarning: The default value of `n_init` will change from 10 to 'auto' in 1.4. Set the value of `n_init` explicitly to suppress the warning\n",
            "  warnings.warn(\n"
          ]
        },
        {
          "output_type": "stream",
          "name": "stdout",
          "text": [
            "Saved     : ProcessedData/nodule_mask/ masks_3_979.npy\n",
            "Saved     : ProcessedData/lungs_roi/ lungs_3_979.npy\n"
          ]
        },
        {
          "output_type": "stream",
          "name": "stderr",
          "text": [
            "/usr/local/lib/python3.10/dist-packages/sklearn/cluster/_kmeans.py:870: FutureWarning: The default value of `n_init` will change from 10 to 'auto' in 1.4. Set the value of `n_init` explicitly to suppress the warning\n",
            "  warnings.warn(\n"
          ]
        },
        {
          "output_type": "stream",
          "name": "stdout",
          "text": [
            "Saved     : ProcessedData/nodule_mask/ masks_3_980.npy\n"
          ]
        },
        {
          "output_type": "stream",
          "name": "stderr",
          "text": [
            "\r47it [06:33,  9.65s/it]"
          ]
        },
        {
          "output_type": "stream",
          "name": "stdout",
          "text": [
            "Saved     : ProcessedData/lungs_roi/ lungs_3_980.npy\n",
            "Is Done Flag = False    file: subset0/1.3.6.1.4.1.14519.5.2.1.6279.6001.450501966058662668272378865145.mhd\n"
          ]
        },
        {
          "output_type": "stream",
          "name": "stderr",
          "text": [
            "/usr/local/lib/python3.10/dist-packages/sklearn/cluster/_kmeans.py:870: FutureWarning: The default value of `n_init` will change from 10 to 'auto' in 1.4. Set the value of `n_init` explicitly to suppress the warning\n",
            "  warnings.warn(\n"
          ]
        },
        {
          "output_type": "stream",
          "name": "stdout",
          "text": [
            "Saved > 18: ProcessedData/nodule_mask/ masks_3_987_3.npy\n",
            "Saved > 18: ProcessedData/lungs_roi/ lungs_3_987_3.npy\n",
            "Saved     : ProcessedData/nodule_mask/ masks_3_987.npy\n",
            "Saved     : ProcessedData/lungs_roi/ lungs_3_987.npy\n"
          ]
        },
        {
          "output_type": "stream",
          "name": "stderr",
          "text": [
            "/usr/local/lib/python3.10/dist-packages/sklearn/cluster/_kmeans.py:870: FutureWarning: The default value of `n_init` will change from 10 to 'auto' in 1.4. Set the value of `n_init` explicitly to suppress the warning\n",
            "  warnings.warn(\n"
          ]
        },
        {
          "output_type": "stream",
          "name": "stdout",
          "text": [
            "Saved     : ProcessedData/nodule_mask/ masks_11_988.npy\n"
          ]
        },
        {
          "output_type": "stream",
          "name": "stderr",
          "text": [
            "\r48it [06:42,  9.47s/it]"
          ]
        },
        {
          "output_type": "stream",
          "name": "stdout",
          "text": [
            "Saved     : ProcessedData/lungs_roi/ lungs_11_988.npy\n",
            "Is Done Flag = False    file: subset0/1.3.6.1.4.1.14519.5.2.1.6279.6001.511347030803753100045216493273.mhd\n"
          ]
        },
        {
          "output_type": "stream",
          "name": "stderr",
          "text": [
            "/usr/local/lib/python3.10/dist-packages/sklearn/cluster/_kmeans.py:870: FutureWarning: The default value of `n_init` will change from 10 to 'auto' in 1.4. Set the value of `n_init` explicitly to suppress the warning\n",
            "  warnings.warn(\n"
          ]
        },
        {
          "output_type": "stream",
          "name": "stdout",
          "text": [
            "Saved > 18: ProcessedData/nodule_mask/ masks_7_1011_3.npy\n",
            "Saved > 18: ProcessedData/lungs_roi/ lungs_7_1011_3.npy\n",
            "Saved     : ProcessedData/nodule_mask/ masks_7_1011.npy\n",
            "Saved     : ProcessedData/lungs_roi/ lungs_7_1011.npy\n"
          ]
        },
        {
          "output_type": "stream",
          "name": "stderr",
          "text": [
            "/usr/local/lib/python3.10/dist-packages/sklearn/cluster/_kmeans.py:870: FutureWarning: The default value of `n_init` will change from 10 to 'auto' in 1.4. Set the value of `n_init` explicitly to suppress the warning\n",
            "  warnings.warn(\n"
          ]
        },
        {
          "output_type": "stream",
          "name": "stdout",
          "text": [
            "Saved     : ProcessedData/nodule_mask/ masks_9_1012.npy\n",
            "Saved     : ProcessedData/lungs_roi/ lungs_9_1012.npy\n"
          ]
        },
        {
          "output_type": "stream",
          "name": "stderr",
          "text": [
            "/usr/local/lib/python3.10/dist-packages/sklearn/cluster/_kmeans.py:870: FutureWarning: The default value of `n_init` will change from 10 to 'auto' in 1.4. Set the value of `n_init` explicitly to suppress the warning\n",
            "  warnings.warn(\n"
          ]
        },
        {
          "output_type": "stream",
          "name": "stdout",
          "text": [
            "Saved > 18: ProcessedData/nodule_mask/ masks_7_1013_3.npy\n",
            "Saved > 18: ProcessedData/lungs_roi/ lungs_7_1013_3.npy\n",
            "Saved     : ProcessedData/nodule_mask/ masks_7_1013.npy\n"
          ]
        },
        {
          "output_type": "stream",
          "name": "stderr",
          "text": [
            "\r49it [06:57, 11.22s/it]"
          ]
        },
        {
          "output_type": "stream",
          "name": "stdout",
          "text": [
            "Saved     : ProcessedData/lungs_roi/ lungs_7_1013.npy\n",
            "Is Done Flag = False    file: subset0/1.3.6.1.4.1.14519.5.2.1.6279.6001.525937963993475482158828421281.mhd\n"
          ]
        },
        {
          "output_type": "stream",
          "name": "stderr",
          "text": [
            "\r50it [06:58,  8.07s/it]"
          ]
        },
        {
          "output_type": "stream",
          "name": "stdout",
          "text": [
            "An error occurred while trying to read the image in file: subset0/1.3.6.1.4.1.14519.5.2.1.6279.6001.525937963993475482158828421281.mhd\n",
            "Exception thrown in SimpleITK ImageFileReader_Execute: /tmp/SimpleITK-build/ITK/Modules/IO/Meta/src/itkMetaImageIO.cxx:483:\n",
            "ITK ERROR: MetaImageIO(0x5cda1375a7a0): File cannot be read: subset0/1.3.6.1.4.1.14519.5.2.1.6279.6001.525937963993475482158828421281.mhd for reading.\n",
            "Reason: No such file or directory\n",
            "Is Done Flag = False    file: subset0/1.3.6.1.4.1.14519.5.2.1.6279.6001.534006575256943390479252771547.mhd\n"
          ]
        },
        {
          "output_type": "stream",
          "name": "stderr",
          "text": [
            "/usr/local/lib/python3.10/dist-packages/sklearn/cluster/_kmeans.py:870: FutureWarning: The default value of `n_init` will change from 10 to 'auto' in 1.4. Set the value of `n_init` explicitly to suppress the warning\n",
            "  warnings.warn(\n"
          ]
        },
        {
          "output_type": "stream",
          "name": "stdout",
          "text": [
            "Saved > 18: ProcessedData/nodule_mask/ masks_7_1017_3.npy\n",
            "Saved > 18: ProcessedData/lungs_roi/ lungs_7_1017_3.npy\n",
            "Saved     : ProcessedData/nodule_mask/ masks_7_1017.npy\n",
            "Saved     : ProcessedData/lungs_roi/ lungs_7_1017.npy\n"
          ]
        },
        {
          "output_type": "stream",
          "name": "stderr",
          "text": [
            "/usr/local/lib/python3.10/dist-packages/sklearn/cluster/_kmeans.py:870: FutureWarning: The default value of `n_init` will change from 10 to 'auto' in 1.4. Set the value of `n_init` explicitly to suppress the warning\n",
            "  warnings.warn(\n"
          ]
        },
        {
          "output_type": "stream",
          "name": "stdout",
          "text": [
            "Saved > 18: ProcessedData/nodule_mask/ masks_5_1018_3.npy\n",
            "Saved > 18: ProcessedData/lungs_roi/ lungs_5_1018_3.npy\n",
            "Saved     : ProcessedData/nodule_mask/ masks_5_1018.npy\n",
            "Saved     : ProcessedData/lungs_roi/ lungs_5_1018.npy\n"
          ]
        },
        {
          "output_type": "stream",
          "name": "stderr",
          "text": [
            "/usr/local/lib/python3.10/dist-packages/sklearn/cluster/_kmeans.py:870: FutureWarning: The default value of `n_init` will change from 10 to 'auto' in 1.4. Set the value of `n_init` explicitly to suppress the warning\n",
            "  warnings.warn(\n"
          ]
        },
        {
          "output_type": "stream",
          "name": "stdout",
          "text": [
            "Saved     : ProcessedData/nodule_mask/ masks_7_1019.npy\n"
          ]
        },
        {
          "output_type": "stream",
          "name": "stderr",
          "text": [
            "\r51it [07:17, 11.54s/it]"
          ]
        },
        {
          "output_type": "stream",
          "name": "stdout",
          "text": [
            "Saved     : ProcessedData/lungs_roi/ lungs_7_1019.npy\n",
            "Is Done Flag = False    file: subset0/1.3.6.1.4.1.14519.5.2.1.6279.6001.534083630500464995109143618896.mhd\n"
          ]
        },
        {
          "output_type": "stream",
          "name": "stderr",
          "text": [
            "/usr/local/lib/python3.10/dist-packages/sklearn/cluster/_kmeans.py:870: FutureWarning: The default value of `n_init` will change from 10 to 'auto' in 1.4. Set the value of `n_init` explicitly to suppress the warning\n",
            "  warnings.warn(\n"
          ]
        },
        {
          "output_type": "stream",
          "name": "stdout",
          "text": [
            "Saved     : ProcessedData/nodule_mask/ masks_7_1020.npy\n",
            "Saved     : ProcessedData/lungs_roi/ lungs_7_1020.npy\n"
          ]
        },
        {
          "output_type": "stream",
          "name": "stderr",
          "text": [
            "/usr/local/lib/python3.10/dist-packages/sklearn/cluster/_kmeans.py:870: FutureWarning: The default value of `n_init` will change from 10 to 'auto' in 1.4. Set the value of `n_init` explicitly to suppress the warning\n",
            "  warnings.warn(\n"
          ]
        },
        {
          "output_type": "stream",
          "name": "stdout",
          "text": [
            "Saved     : ProcessedData/nodule_mask/ masks_3_1021.npy\n",
            "Saved     : ProcessedData/lungs_roi/ lungs_3_1021.npy\n"
          ]
        },
        {
          "output_type": "stream",
          "name": "stderr",
          "text": [
            "/usr/local/lib/python3.10/dist-packages/sklearn/cluster/_kmeans.py:870: FutureWarning: The default value of `n_init` will change from 10 to 'auto' in 1.4. Set the value of `n_init` explicitly to suppress the warning\n",
            "  warnings.warn(\n"
          ]
        },
        {
          "output_type": "stream",
          "name": "stdout",
          "text": [
            "Saved     : ProcessedData/nodule_mask/ masks_3_1022.npy\n"
          ]
        },
        {
          "output_type": "stream",
          "name": "stderr",
          "text": [
            "\r52it [07:27, 10.90s/it]"
          ]
        },
        {
          "output_type": "stream",
          "name": "stdout",
          "text": [
            "Saved     : ProcessedData/lungs_roi/ lungs_3_1022.npy\n",
            "Is Done Flag = False    file: subset0/1.3.6.1.4.1.14519.5.2.1.6279.6001.566816709786169715745131047975.mhd\n"
          ]
        },
        {
          "output_type": "stream",
          "name": "stderr",
          "text": [
            "\r53it [07:27,  7.82s/it]"
          ]
        },
        {
          "output_type": "stream",
          "name": "stdout",
          "text": [
            "An error occurred while trying to read the image in file: subset0/1.3.6.1.4.1.14519.5.2.1.6279.6001.566816709786169715745131047975.mhd\n",
            "Exception thrown in SimpleITK ImageFileReader_Execute: /tmp/SimpleITK-build/ITK/Modules/IO/Meta/src/itkMetaImageIO.cxx:483:\n",
            "ITK ERROR: MetaImageIO(0x5cda1375a7a0): File cannot be read: subset0/1.3.6.1.4.1.14519.5.2.1.6279.6001.566816709786169715745131047975.mhd for reading.\n",
            "Reason: No such file or directory\n",
            "Is Done Flag = False    file: subset0/1.3.6.1.4.1.14519.5.2.1.6279.6001.621916089407825046337959219998.mhd\n"
          ]
        },
        {
          "output_type": "stream",
          "name": "stderr",
          "text": [
            "/usr/local/lib/python3.10/dist-packages/sklearn/cluster/_kmeans.py:870: FutureWarning: The default value of `n_init` will change from 10 to 'auto' in 1.4. Set the value of `n_init` explicitly to suppress the warning\n",
            "  warnings.warn(\n"
          ]
        },
        {
          "output_type": "stream",
          "name": "stdout",
          "text": [
            "Saved     : ProcessedData/nodule_mask/ masks_9_1049.npy\n"
          ]
        },
        {
          "output_type": "stream",
          "name": "stderr",
          "text": [
            "\r54it [07:33,  7.11s/it]"
          ]
        },
        {
          "output_type": "stream",
          "name": "stdout",
          "text": [
            "Saved     : ProcessedData/lungs_roi/ lungs_9_1049.npy\n",
            "Is Done Flag = False    file: subset0/1.3.6.1.4.1.14519.5.2.1.6279.6001.640729228179368154416184318668.mhd\n"
          ]
        },
        {
          "output_type": "stream",
          "name": "stderr",
          "text": [
            "/usr/local/lib/python3.10/dist-packages/sklearn/cluster/_kmeans.py:870: FutureWarning: The default value of `n_init` will change from 10 to 'auto' in 1.4. Set the value of `n_init` explicitly to suppress the warning\n",
            "  warnings.warn(\n"
          ]
        },
        {
          "output_type": "stream",
          "name": "stdout",
          "text": [
            "Saved     : ProcessedData/nodule_mask/ masks_9_1054.npy\n"
          ]
        },
        {
          "output_type": "stream",
          "name": "stderr",
          "text": [
            "\r55it [07:39,  6.95s/it]"
          ]
        },
        {
          "output_type": "stream",
          "name": "stdout",
          "text": [
            "Saved     : ProcessedData/lungs_roi/ lungs_9_1054.npy\n",
            "Is Done Flag = False    file: subset0/1.3.6.1.4.1.14519.5.2.1.6279.6001.716498695101447665580610403574.mhd\n"
          ]
        },
        {
          "output_type": "stream",
          "name": "stderr",
          "text": [
            "/usr/local/lib/python3.10/dist-packages/sklearn/cluster/_kmeans.py:870: FutureWarning: The default value of `n_init` will change from 10 to 'auto' in 1.4. Set the value of `n_init` explicitly to suppress the warning\n",
            "  warnings.warn(\n"
          ]
        },
        {
          "output_type": "stream",
          "name": "stdout",
          "text": [
            "Saved > 18: ProcessedData/nodule_mask/ masks_3_1072_3.npy\n",
            "Saved > 18: ProcessedData/lungs_roi/ lungs_3_1072_3.npy\n",
            "Saved     : ProcessedData/nodule_mask/ masks_3_1072.npy\n"
          ]
        },
        {
          "output_type": "stream",
          "name": "stderr",
          "text": [
            "\r56it [07:50,  8.11s/it]"
          ]
        },
        {
          "output_type": "stream",
          "name": "stdout",
          "text": [
            "Saved     : ProcessedData/lungs_roi/ lungs_3_1072.npy\n",
            "Is Done Flag = False    file: subset0/1.3.6.1.4.1.14519.5.2.1.6279.6001.724251104254976962355686318345.mhd\n"
          ]
        },
        {
          "output_type": "stream",
          "name": "stderr",
          "text": [
            "/usr/local/lib/python3.10/dist-packages/sklearn/cluster/_kmeans.py:870: FutureWarning: The default value of `n_init` will change from 10 to 'auto' in 1.4. Set the value of `n_init` explicitly to suppress the warning\n",
            "  warnings.warn(\n"
          ]
        },
        {
          "output_type": "stream",
          "name": "stdout",
          "text": [
            "Saved     : ProcessedData/nodule_mask/ masks_3_1073.npy\n",
            "Saved     : ProcessedData/lungs_roi/ lungs_3_1073.npy\n"
          ]
        },
        {
          "output_type": "stream",
          "name": "stderr",
          "text": [
            "/usr/local/lib/python3.10/dist-packages/sklearn/cluster/_kmeans.py:870: FutureWarning: The default value of `n_init` will change from 10 to 'auto' in 1.4. Set the value of `n_init` explicitly to suppress the warning\n",
            "  warnings.warn(\n"
          ]
        },
        {
          "output_type": "stream",
          "name": "stdout",
          "text": [
            "Saved     : ProcessedData/nodule_mask/ masks_3_1074.npy\n"
          ]
        },
        {
          "output_type": "stream",
          "name": "stderr",
          "text": [
            "\r57it [08:00,  8.62s/it]"
          ]
        },
        {
          "output_type": "stream",
          "name": "stdout",
          "text": [
            "Saved     : ProcessedData/lungs_roi/ lungs_3_1074.npy\n",
            "Is Done Flag = False    file: subset0/1.3.6.1.4.1.14519.5.2.1.6279.6001.752756872840730509471096155114.mhd\n"
          ]
        },
        {
          "output_type": "stream",
          "name": "stderr",
          "text": [
            "/usr/local/lib/python3.10/dist-packages/sklearn/cluster/_kmeans.py:870: FutureWarning: The default value of `n_init` will change from 10 to 'auto' in 1.4. Set the value of `n_init` explicitly to suppress the warning\n",
            "  warnings.warn(\n"
          ]
        },
        {
          "output_type": "stream",
          "name": "stdout",
          "text": [
            "Saved > 18: ProcessedData/nodule_mask/ masks_3_1084_3.npy\n",
            "Saved > 18: ProcessedData/lungs_roi/ lungs_3_1084_3.npy\n",
            "Saved     : ProcessedData/nodule_mask/ masks_3_1084.npy\n"
          ]
        },
        {
          "output_type": "stream",
          "name": "stderr",
          "text": [
            "\r58it [08:08,  8.28s/it]"
          ]
        },
        {
          "output_type": "stream",
          "name": "stdout",
          "text": [
            "Saved     : ProcessedData/lungs_roi/ lungs_3_1084.npy\n",
            "Is Done Flag = False    file: subset0/1.3.6.1.4.1.14519.5.2.1.6279.6001.805925269324902055566754756843.mhd\n"
          ]
        },
        {
          "output_type": "stream",
          "name": "stderr",
          "text": [
            "/usr/local/lib/python3.10/dist-packages/sklearn/cluster/_kmeans.py:870: FutureWarning: The default value of `n_init` will change from 10 to 'auto' in 1.4. Set the value of `n_init` explicitly to suppress the warning\n",
            "  warnings.warn(\n"
          ]
        },
        {
          "output_type": "stream",
          "name": "stdout",
          "text": [
            "Saved > 18: ProcessedData/nodule_mask/ masks_7_1106_3.npy\n",
            "Saved > 18: ProcessedData/lungs_roi/ lungs_7_1106_3.npy\n",
            "Saved     : ProcessedData/nodule_mask/ masks_7_1106.npy\n"
          ]
        },
        {
          "output_type": "stream",
          "name": "stderr",
          "text": [
            "\r59it [08:15,  8.18s/it]"
          ]
        },
        {
          "output_type": "stream",
          "name": "stdout",
          "text": [
            "Saved     : ProcessedData/lungs_roi/ lungs_7_1106.npy\n",
            "Is Done Flag = False    file: subset0/1.3.6.1.4.1.14519.5.2.1.6279.6001.826812708000318290301835871780.mhd\n"
          ]
        },
        {
          "output_type": "stream",
          "name": "stderr",
          "text": [
            "/usr/local/lib/python3.10/dist-packages/sklearn/cluster/_kmeans.py:870: FutureWarning: The default value of `n_init` will change from 10 to 'auto' in 1.4. Set the value of `n_init` explicitly to suppress the warning\n",
            "  warnings.warn(\n"
          ]
        },
        {
          "output_type": "stream",
          "name": "stdout",
          "text": [
            "Saved     : ProcessedData/nodule_mask/ masks_1_1108.npy\n",
            "Saved     : ProcessedData/lungs_roi/ lungs_1_1108.npy\n"
          ]
        },
        {
          "output_type": "stream",
          "name": "stderr",
          "text": [
            "/usr/local/lib/python3.10/dist-packages/sklearn/cluster/_kmeans.py:870: FutureWarning: The default value of `n_init` will change from 10 to 'auto' in 1.4. Set the value of `n_init` explicitly to suppress the warning\n",
            "  warnings.warn(\n"
          ]
        },
        {
          "output_type": "stream",
          "name": "stdout",
          "text": [
            "Saved     : ProcessedData/nodule_mask/ masks_5_1109.npy\n"
          ]
        },
        {
          "output_type": "stream",
          "name": "stderr",
          "text": [
            "\r60it [08:25,  8.52s/it]"
          ]
        },
        {
          "output_type": "stream",
          "name": "stdout",
          "text": [
            "Saved     : ProcessedData/lungs_roi/ lungs_5_1109.npy\n",
            "Is Done Flag = False    file: subset0/1.3.6.1.4.1.14519.5.2.1.6279.6001.832260670372728970918746541371.mhd\n"
          ]
        },
        {
          "output_type": "stream",
          "name": "stderr",
          "text": [
            "/usr/local/lib/python3.10/dist-packages/sklearn/cluster/_kmeans.py:870: FutureWarning: The default value of `n_init` will change from 10 to 'auto' in 1.4. Set the value of `n_init` explicitly to suppress the warning\n",
            "  warnings.warn(\n"
          ]
        },
        {
          "output_type": "stream",
          "name": "stdout",
          "text": [
            "Saved     : ProcessedData/nodule_mask/ masks_5_1116.npy\n",
            "Saved     : ProcessedData/lungs_roi/ lungs_5_1116.npy\n"
          ]
        },
        {
          "output_type": "stream",
          "name": "stderr",
          "text": [
            "/usr/local/lib/python3.10/dist-packages/sklearn/cluster/_kmeans.py:870: FutureWarning: The default value of `n_init` will change from 10 to 'auto' in 1.4. Set the value of `n_init` explicitly to suppress the warning\n",
            "  warnings.warn(\n"
          ]
        },
        {
          "output_type": "stream",
          "name": "stdout",
          "text": [
            "Saved     : ProcessedData/nodule_mask/ masks_3_1117.npy\n"
          ]
        },
        {
          "output_type": "stream",
          "name": "stderr",
          "text": [
            "\r61it [08:31,  7.80s/it]"
          ]
        },
        {
          "output_type": "stream",
          "name": "stdout",
          "text": [
            "Saved     : ProcessedData/lungs_roi/ lungs_3_1117.npy\n",
            "Is Done Flag = False    file: subset0/1.3.6.1.4.1.14519.5.2.1.6279.6001.868211851413924881662621747734.mhd\n"
          ]
        },
        {
          "output_type": "stream",
          "name": "stderr",
          "text": [
            "/usr/local/lib/python3.10/dist-packages/sklearn/cluster/_kmeans.py:870: FutureWarning: The default value of `n_init` will change from 10 to 'auto' in 1.4. Set the value of `n_init` explicitly to suppress the warning\n",
            "  warnings.warn(\n"
          ]
        },
        {
          "output_type": "stream",
          "name": "stdout",
          "text": [
            "Saved     : ProcessedData/nodule_mask/ masks_9_1123.npy\n",
            "Saved     : ProcessedData/lungs_roi/ lungs_9_1123.npy\n"
          ]
        },
        {
          "output_type": "stream",
          "name": "stderr",
          "text": [
            "/usr/local/lib/python3.10/dist-packages/sklearn/cluster/_kmeans.py:870: FutureWarning: The default value of `n_init` will change from 10 to 'auto' in 1.4. Set the value of `n_init` explicitly to suppress the warning\n",
            "  warnings.warn(\n"
          ]
        },
        {
          "output_type": "stream",
          "name": "stdout",
          "text": [
            "Saved     : ProcessedData/nodule_mask/ masks_5_1124.npy\n",
            "Saved     : ProcessedData/lungs_roi/ lungs_5_1124.npy\n"
          ]
        },
        {
          "output_type": "stream",
          "name": "stderr",
          "text": [
            "/usr/local/lib/python3.10/dist-packages/sklearn/cluster/_kmeans.py:870: FutureWarning: The default value of `n_init` will change from 10 to 'auto' in 1.4. Set the value of `n_init` explicitly to suppress the warning\n",
            "  warnings.warn(\n"
          ]
        },
        {
          "output_type": "stream",
          "name": "stdout",
          "text": [
            "Saved     : ProcessedData/nodule_mask/ masks_5_1125.npy\n"
          ]
        },
        {
          "output_type": "stream",
          "name": "stderr",
          "text": [
            "\r62it [08:40,  8.25s/it]"
          ]
        },
        {
          "output_type": "stream",
          "name": "stdout",
          "text": [
            "Saved     : ProcessedData/lungs_roi/ lungs_5_1125.npy\n",
            "Is Done Flag = False    file: subset0/1.3.6.1.4.1.14519.5.2.1.6279.6001.898642529028521482602829374444.mhd\n"
          ]
        },
        {
          "output_type": "stream",
          "name": "stderr",
          "text": [
            "/usr/local/lib/python3.10/dist-packages/sklearn/cluster/_kmeans.py:870: FutureWarning: The default value of `n_init` will change from 10 to 'auto' in 1.4. Set the value of `n_init` explicitly to suppress the warning\n",
            "  warnings.warn(\n"
          ]
        },
        {
          "output_type": "stream",
          "name": "stdout",
          "text": [
            "Saved     : ProcessedData/nodule_mask/ masks_7_1137.npy\n",
            "Saved     : ProcessedData/lungs_roi/ lungs_7_1137.npy\n"
          ]
        },
        {
          "output_type": "stream",
          "name": "stderr",
          "text": [
            "/usr/local/lib/python3.10/dist-packages/sklearn/cluster/_kmeans.py:870: FutureWarning: The default value of `n_init` will change from 10 to 'auto' in 1.4. Set the value of `n_init` explicitly to suppress the warning\n",
            "  warnings.warn(\n"
          ]
        },
        {
          "output_type": "stream",
          "name": "stdout",
          "text": [
            "Saved     : ProcessedData/nodule_mask/ masks_9_1138.npy\n"
          ]
        },
        {
          "output_type": "stream",
          "name": "stderr",
          "text": [
            "\r63it [08:48,  8.01s/it]"
          ]
        },
        {
          "output_type": "stream",
          "name": "stdout",
          "text": [
            "Saved     : ProcessedData/lungs_roi/ lungs_9_1138.npy\n",
            "Is Done Flag = False    file: subset0/1.3.6.1.4.1.14519.5.2.1.6279.6001.905371958588660410240398317235.mhd\n"
          ]
        },
        {
          "output_type": "stream",
          "name": "stderr",
          "text": [
            "/usr/local/lib/python3.10/dist-packages/sklearn/cluster/_kmeans.py:870: FutureWarning: The default value of `n_init` will change from 10 to 'auto' in 1.4. Set the value of `n_init` explicitly to suppress the warning\n",
            "  warnings.warn(\n"
          ]
        },
        {
          "output_type": "stream",
          "name": "stdout",
          "text": [
            "Saved > 18: ProcessedData/nodule_mask/ masks_3_1141_3.npy\n",
            "Saved > 18: ProcessedData/lungs_roi/ lungs_3_1141_3.npy\n",
            "Saved     : ProcessedData/nodule_mask/ masks_3_1141.npy\n"
          ]
        },
        {
          "output_type": "stream",
          "name": "stderr",
          "text": [
            "\r64it [08:55,  7.74s/it]"
          ]
        },
        {
          "output_type": "stream",
          "name": "stdout",
          "text": [
            "Saved     : ProcessedData/lungs_roi/ lungs_3_1141.npy\n",
            "Is Done Flag = False    file: subset0/1.3.6.1.4.1.14519.5.2.1.6279.6001.979083010707182900091062408058.mhd\n"
          ]
        },
        {
          "output_type": "stream",
          "name": "stderr",
          "text": [
            "/usr/local/lib/python3.10/dist-packages/sklearn/cluster/_kmeans.py:870: FutureWarning: The default value of `n_init` will change from 10 to 'auto' in 1.4. Set the value of `n_init` explicitly to suppress the warning\n",
            "  warnings.warn(\n"
          ]
        },
        {
          "output_type": "stream",
          "name": "stdout",
          "text": [
            "Saved     : ProcessedData/nodule_mask/ masks_9_1180.npy\n"
          ]
        },
        {
          "output_type": "stream",
          "name": "stderr",
          "text": [
            "65it [09:00,  8.31s/it]"
          ]
        },
        {
          "output_type": "stream",
          "name": "stdout",
          "text": [
            "Saved     : ProcessedData/lungs_roi/ lungs_9_1180.npy\n"
          ]
        },
        {
          "output_type": "stream",
          "name": "stderr",
          "text": [
            "\n"
          ]
        }
      ],
      "source": [
        "## This iteratates over all the files gets the x y z voxal of the image to be evaluated using Annotation File\n",
        "\n",
        "\n",
        "clahe = cv2.createCLAHE(clipLimit=2.0, tileGridSize=(8,8))  # CLAHE(Contrast Limited Adaptive Histogram Equalization) filter for enhancing the contrast of an image\n",
        "\n",
        "# Iterating over all the files in the subset\n",
        "for i,file in tqdm(enumerate(np.unique(annotations_df['filename'].values))):             ### Loop over all images\n",
        "    annotations = annotations_df[annotations_df[\"filename\"]==file]\n",
        "    done_flag = is_done(file)\n",
        "\n",
        "    print('Is Done Flag =', done_flag, '   file:',file)\n",
        "    if os.path.exists(file) and not done_flag:\n",
        "        try:\n",
        "          ct, origin, space = load_mhd(file)                                             ### Loading the CT scan\n",
        "          num_z, height, width = ct.shape\n",
        "          ct_norm = cv2.normalize(ct, None, 0, 255, cv2.NORM_MINMAX)                     ### Normalizing the CT scan (improve contrast)\n",
        "          for idx, row in annotations.iterrows():\n",
        "              node_x = int(row[\"coordX\"])         # X coordinate of the nodule\n",
        "              node_y = int(row[\"coordY\"])         # Y coordinate of the nodule\n",
        "              node_z = int(row[\"coordZ\"])         # Z coordinate of the nodule\n",
        "              diam = int(row[\"diameter_mm\"])      # Diameter of the nodule\n",
        "\n",
        "              center = np.array([node_x, node_y, node_z])   # nodule center (x,y,z)\n",
        "              v_center = np.rint((center-origin)/space)   # nodule center in voxel space (still x,y,z ordering)\n",
        "\n",
        "              img_norm = ct_norm[int(v_center[2]),:,:]        # a slice of the CT scan containing the nodule\n",
        "              img_norm = cv2.resize(img_norm, (512,512))      # Resizing the slice to 512x512\n",
        "              img_norm_improved = clahe.apply(img_norm.astype(np.uint8))  # Applying CLAHE filter to the image\n",
        "\n",
        "              ################################################################################################\n",
        "              v_diam = int(diam/space[0])+5       # Diameter of the nodule in voxel space\n",
        "              mask = make_mask(img_norm, v_center, v_diam)                      ### Creating a mask of the nodule\n",
        "              if v_diam>18:          # If the nodule is too big, we will also take neighboring slices\n",
        "                  img_norm2 = ct_norm[(int(v_center[2])-1),:,:]\n",
        "                  img_norm2 = cv2.resize(img_norm2, (512,512))\n",
        "                  img_norm2_improved = clahe.apply(img_norm2.astype(np.uint8))\n",
        "                  mask2 = make_mask(img_norm2, v_center, v_diam-1)\n",
        "\n",
        "                  img_norm3 = ct_norm[(int(v_center[2])+1),:,:]\n",
        "                  img_norm3 = cv2.resize(img_norm3, (512,512))\n",
        "                  img_norm3_improved = clahe.apply(img_norm3.astype(np.uint8))\n",
        "                  mask3 = make_mask(img_norm3, v_center, v_diam-1)\n",
        "              ################################################################################################\n",
        "                                                                                ### Calcualte and extract the threshold value\n",
        "              # Calculating the threshold value for extracting the nodule mask using binary thresholding\n",
        "              centeral_area = img_norm[100:400, 100:400]\n",
        "              kmeans = KMeans(n_clusters=2).fit(np.reshape(centeral_area, [np.prod(centeral_area.shape), 1]))\n",
        "              centroids = sorted(kmeans.cluster_centers_.flatten())\n",
        "              threshold = np.mean(centroids)\n",
        "\n",
        "              ################################################################################################\n",
        "              # Extracting the nodule using binary thresholding\n",
        "              mask = cv2.bitwise_and(img_norm, img_norm, mask=mask)\n",
        "              _, mask = cv2.threshold(mask, threshold-5, 255, cv2.THRESH_BINARY)\n",
        "              if v_diam>18:\n",
        "                  mask2 = cv2.bitwise_and(img_norm2, img_norm2, mask=mask2)\n",
        "                  _, mask2 = cv2.threshold(mask2, threshold-5, 255, cv2.THRESH_BINARY)\n",
        "\n",
        "                  mask3 = cv2.bitwise_and(img_norm3, img_norm3, mask=mask3)\n",
        "                  _, mask3 = cv2.threshold(mask3, threshold-5, 255, cv2.THRESH_BINARY)\n",
        "              ################################################################################################\n",
        "\n",
        "              # Steps to segment the lungs from CT scan slices\n",
        "              ret, lung_roi = cv2.threshold(img_norm, threshold, 255, cv2.THRESH_BINARY_INV)\n",
        "              lung_roi = cv2.erode(lung_roi, kernel=np.ones([4,4]))       ### remove small outliers and separate any connected tissue\n",
        "              lung_roi = cv2.dilate(lung_roi, kernel=np.ones([13,13]))    ### Dilates the mask to regain lung shape after eroding\n",
        "              lung_roi = cv2.erode(lung_roi, kernel=np.ones([8,8]))       ### Erodes again with a medium-sized 8x8 kernel to smooth the lung shape\n",
        "\n",
        "              labels = measure.label(lung_roi)        # Labelling different regions in the image\n",
        "              regions = measure.regionprops(labels)   # Extracting the properties of the regions\n",
        "              good_labels = []\n",
        "              for prop in regions:        # Filtering the regions that are not too close to the edges\n",
        "                  B = prop.bbox           # Regions that are too close to the edges are outside regions of lungs\n",
        "                  if B[2]-B[0] < 475 and B[3]-B[1] < 475 and B[0] > 40 and B[2] < 472:\n",
        "                      good_labels.append(prop.label)\n",
        "              lung_roi_mask = np.zeros_like(labels)\n",
        "              for N in good_labels:\n",
        "                  lung_roi_mask = lung_roi_mask + np.where(labels == N, 1, 0)\n",
        "\n",
        "              # Steps to get proper segmentation of the lungs without noise and holes\n",
        "              contours, hirearchy = cv2.findContours(lung_roi_mask,cv2.RETR_CCOMP,cv2.CHAIN_APPROX_SIMPLE)\n",
        "              external_contours = np.zeros(lung_roi_mask.shape)\n",
        "              for i in range(len(contours)):\n",
        "                  if hirearchy[0][i][3] == -1:  #External Contours\n",
        "                      area = cv2.contourArea(contours[i])\n",
        "                      if area>518.0:\n",
        "                          cv2.drawContours(external_contours,contours,i,(1,1,1),-1)\n",
        "              external_contours = cv2.dilate(external_contours, kernel=np.ones([4,4]))\n",
        "\n",
        "              external_contours = cv2.bitwise_not(external_contours.astype(np.uint8))\n",
        "              external_contours = cv2.erode(external_contours, kernel=np.ones((7,7)))\n",
        "              external_contours = cv2.bitwise_not(external_contours)\n",
        "              external_contours = cv2.dilate(external_contours, kernel=np.ones((12,12)))\n",
        "              external_contours = cv2.erode(external_contours, kernel=np.ones((12,12)))\n",
        "\n",
        "              img_norm_improved = img_norm_improved.astype(np.uint8)\n",
        "              external_contours = external_contours.astype(np.uint8)      # Final segmentated lungs mask\n",
        "              extracted_lungs = cv2.bitwise_and(img_norm_improved, img_norm_improved, mask=external_contours)\n",
        "\n",
        "              #################################################################################################\n",
        "              if v_diam>18:\n",
        "                  img_norm2_improved = img_norm2_improved.astype(np.uint8)\n",
        "                  extracted_lungs2 = cv2.bitwise_and(img_norm2_improved, img_norm2_improved, mask=external_contours)\n",
        "                  mask2 = mask2.astype(np.uint8)\n",
        "                  np.save(os.path.join(target_root+\"nodule_mask/\", f\"masks_{i}_{idx}_2.npy\"), mask2)\n",
        "                  np.save(os.path.join(target_root+\"lungs_roi/\", f\"lungs_{i}_{idx}_2.npy\"), extracted_lungs2)\n",
        "\n",
        "                  img_norm3_improved = img_norm3_improved.astype(np.uint8)\n",
        "                  extracted_lungs3 = cv2.bitwise_and(img_norm3_improved, img_norm3_improved, mask=external_contours)\n",
        "                  mask3 = mask3.astype(np.uint8)\n",
        "                  np.save(os.path.join(target_root+\"nodule_mask/\", f\"masks_{i}_{idx}_3.npy\"), mask3)\n",
        "                  print(\"Saved > 18: \"+ target_root+\"nodule_mask/\", f\"masks_{i}_{idx}_3.npy\")\n",
        "                  np.save(os.path.join(target_root+\"lungs_roi/\", f\"lungs_{i}_{idx}_3.npy\"), extracted_lungs3)\n",
        "                  print(\"Saved > 18: \"+ target_root+\"lungs_roi/\", f\"lungs_{i}_{idx}_3.npy\")\n",
        "              #################################################################################################\n",
        "\n",
        "              mask = mask.astype(np.uint8)\n",
        "              np.save(os.path.join(target_root+\"nodule_mask/\", f\"masks_{i}_{idx}.npy\"), mask)            # Saving the nodule mask\n",
        "              print(\"Saved     : \"+ target_root+\"nodule_mask/\", f\"masks_{i}_{idx}.npy\")\n",
        "              np.save(os.path.join(target_root+\"lungs_roi/\", f\"lungs_{i}_{idx}.npy\"), extracted_lungs)\n",
        "              print(\"Saved     : \"+ target_root+\"lungs_roi/\", f\"lungs_{i}_{idx}.npy\")\n",
        "        except RuntimeError as error:\n",
        "          print(\"An error occurred while trying to read the image in file:\",file )\n",
        "          print(str(error))\n",
        "\n",
        "\n"
      ]
    },
    {
      "cell_type": "code",
      "execution_count": null,
      "id": "7a850314",
      "metadata": {
        "id": "7a850314"
      },
      "outputs": [],
      "source": [
        "\n",
        "lung_names = os.listdir(\"ProcessedData/lungs_roi/\")\n",
        "random.shuffle(lung_names)"
      ]
    },
    {
      "cell_type": "code",
      "execution_count": null,
      "id": "0bb005e9",
      "metadata": {
        "id": "0bb005e9",
        "outputId": "571ddd1b-24ee-450b-bd65-733ecb8eb721",
        "colab": {
          "base_uri": "https://localhost:8080/"
        }
      },
      "outputs": [
        {
          "output_type": "stream",
          "name": "stdout",
          "text": [
            "129\n",
            "33\n"
          ]
        }
      ],
      "source": [
        "n = len(lung_names)\n",
        "s = int(n*.8)\n",
        "train_lung_names = lung_names[:s]\n",
        "test_lung_names = lung_names[s:]\n",
        "print(len(train_lung_names))\n",
        "print(len(test_lung_names))"
      ]
    },
    {
      "cell_type": "code",
      "execution_count": null,
      "id": "90ed7cf4",
      "metadata": {
        "id": "90ed7cf4",
        "outputId": "b57f0a5c-e502-45e2-da76-150f8e6c0c8f",
        "colab": {
          "base_uri": "https://localhost:8080/"
        }
      },
      "outputs": [
        {
          "output_type": "stream",
          "name": "stderr",
          "text": [
            "100%|██████████| 129/129 [00:01<00:00, 121.46it/s]\n"
          ]
        }
      ],
      "source": [
        "trainX = []\n",
        "trainY = []\n",
        "\n",
        "for lname in tqdm(train_lung_names):\n",
        "  mname = lname.replace(\"lungs\",\"masks\")\n",
        "  lung = np.load(\"ProcessedData/lungs_roi/\"+lname)\n",
        "  mask = np.load(\"ProcessedData/nodule_mask/\"+mname)\n",
        "  trainX.append(lung)\n",
        "  trainY.append(mask)\n",
        "\n",
        "trainX = np.array(trainX, dtype=np.uint8)\n",
        "trainY = np.array(trainY, dtype=np.uint8)\n",
        "\n",
        "np.save(\"trainX.npy\", trainX)\n",
        "np.save(\"trainY.npy\", trainY)"
      ]
    },
    {
      "cell_type": "code",
      "execution_count": null,
      "id": "6c081469",
      "metadata": {
        "id": "6c081469",
        "outputId": "997712ea-1eb5-4634-aac1-6543f583aa60",
        "colab": {
          "base_uri": "https://localhost:8080/"
        }
      },
      "outputs": [
        {
          "output_type": "stream",
          "name": "stderr",
          "text": [
            "100%|██████████| 33/33 [00:00<00:00, 141.30it/s]\n"
          ]
        }
      ],
      "source": [
        "testX = []\n",
        "testY = []\n",
        "\n",
        "for lname in tqdm(test_lung_names):\n",
        "  mname = lname.replace(\"lungs\",\"masks\")\n",
        "  lung = np.load(\"ProcessedData/lungs_roi/\"+lname)\n",
        "  mask = np.load(\"ProcessedData/nodule_mask/\"+mname)\n",
        "  testX.append(lung)\n",
        "  testY.append(mask)\n",
        "\n",
        "testX = np.array(testX, dtype=np.uint8)\n",
        "testY = np.array(testY, dtype=np.uint8)\n",
        "\n",
        "np.save(\"testX.npy\", testX)\n",
        "np.save(\"testY.npy\", testY)"
      ]
    },
    {
      "cell_type": "markdown",
      "source": [
        "---\n",
        "Prep Training Data\n",
        "\n",
        "---\n",
        "This area preps the data varables to be used by the models for training"
      ],
      "metadata": {
        "id": "UUuPlu2Hr58D"
      },
      "id": "UUuPlu2Hr58D"
    },
    {
      "cell_type": "code",
      "execution_count": null,
      "id": "ed459523",
      "metadata": {
        "id": "ed459523"
      },
      "outputs": [],
      "source": [
        "trainX = np.load(\"trainX.npy\").astype(np.float32)\n",
        "trainY = np.load(\"trainY.npy\").astype(np.float32)\n",
        "testX = np.load(\"testX.npy\").astype(np.float32)\n",
        "testY = np.load(\"testY.npy\").astype(np.float32)"
      ]
    },
    {
      "cell_type": "code",
      "execution_count": null,
      "id": "b18c2bca",
      "metadata": {
        "id": "b18c2bca"
      },
      "outputs": [],
      "source": [
        "trainX = (trainX-127.0)/127.0\n",
        "testX = (testX-127.0)/127.0\n",
        "trainY = (trainY>127).astype(np.float32)\n",
        "testY = (testY>127).astype(np.float32)"
      ]
    },
    {
      "cell_type": "code",
      "execution_count": null,
      "id": "9195f2ca",
      "metadata": {
        "id": "9195f2ca",
        "outputId": "94801e69-5777-4808-8980-e6345ed06881",
        "colab": {
          "base_uri": "https://localhost:8080/"
        }
      },
      "outputs": [
        {
          "output_type": "stream",
          "name": "stdout",
          "text": [
            "trainX: (129, 512, 512, 1)\n",
            "trainY: (129, 512, 512, 1)\n",
            "testX: (33, 512, 512, 1)\n",
            "testY: (33, 512, 512, 1)\n"
          ]
        }
      ],
      "source": [
        "trainX = np.reshape(trainX, (len(trainX), 512, 512, 1))\n",
        "trainY = np.reshape(trainY, (len(trainY), 512, 512, 1))\n",
        "testX = np.reshape(testX, (len(testX), 512, 512, 1))\n",
        "testY = np.reshape(testY, (len(testY), 512, 512, 1))\n",
        "\n",
        "print(\"trainX:\",trainX.shape)\n",
        "print(\"trainY:\",trainY.shape)\n",
        "print(\"testX:\",testX.shape)\n",
        "print(\"testY:\",testY.shape)"
      ]
    },
    {
      "cell_type": "markdown",
      "source": [
        "---\n",
        "Build The Model\n",
        "\n",
        "---"
      ],
      "metadata": {
        "id": "W6JQRGHC449I"
      },
      "id": "W6JQRGHC449I"
    },
    {
      "cell_type": "code",
      "execution_count": null,
      "id": "be1ed308",
      "metadata": {
        "id": "be1ed308"
      },
      "outputs": [],
      "source": [
        "def dice_coef(y_true, y_pred):\n",
        "    y_true_f = K.flatten(y_true)\n",
        "    y_pred_f = K.flatten(y_pred)\n",
        "    intersection = K.sum(y_true_f * y_pred_f)\n",
        "    return (2. * intersection + 1) / (K.sum(y_true_f) + K.sum(y_pred_f) + 1)\n",
        "\n",
        "def dice_coef_loss(y_true, y_pred):\n",
        "    return -dice_coef(y_true, y_pred)"
      ]
    },
    {
      "cell_type": "markdown",
      "source": [
        "![image.png](data:image/png;base64,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)![image.png](![image.png]())"
      ],
      "metadata": {
        "id": "_-EPw39cf_p3"
      },
      "id": "_-EPw39cf_p3"
    },
    {
      "cell_type": "code",
      "execution_count": null,
      "id": "a513a77d",
      "metadata": {
        "id": "a513a77d",
        "colab": {
          "base_uri": "https://localhost:8080/"
        },
        "outputId": "7e68b831-fc23-4409-f23b-882debf9ecf2"
      },
      "outputs": [
        {
          "output_type": "stream",
          "name": "stdout",
          "text": [
            "Model: \"model\"\n",
            "__________________________________________________________________________________________________\n",
            " Layer (type)                   Output Shape         Param #     Connected to                     \n",
            "==================================================================================================\n",
            " input_1 (InputLayer)           [(None, 512, 512, 1  0           []                               \n",
            "                                )]                                                                \n",
            "                                                                                                  \n",
            " conv2d (Conv2D)                (None, 512, 512, 64  640         ['input_1[0][0]']                \n",
            "                                )                                                                 \n",
            "                                                                                                  \n",
            " conv2d_1 (Conv2D)              (None, 512, 512, 64  36928       ['conv2d[0][0]']                 \n",
            "                                )                                                                 \n",
            "                                                                                                  \n",
            " max_pooling2d (MaxPooling2D)   (None, 256, 256, 64  0           ['conv2d_1[0][0]']               \n",
            "                                )                                                                 \n",
            "                                                                                                  \n",
            " conv2d_2 (Conv2D)              (None, 256, 256, 12  73856       ['max_pooling2d[0][0]']          \n",
            "                                8)                                                                \n",
            "                                                                                                  \n",
            " conv2d_3 (Conv2D)              (None, 256, 256, 12  147584      ['conv2d_2[0][0]']               \n",
            "                                8)                                                                \n",
            "                                                                                                  \n",
            " max_pooling2d_1 (MaxPooling2D)  (None, 128, 128, 12  0          ['conv2d_3[0][0]']               \n",
            "                                8)                                                                \n",
            "                                                                                                  \n",
            " conv2d_4 (Conv2D)              (None, 128, 128, 25  295168      ['max_pooling2d_1[0][0]']        \n",
            "                                6)                                                                \n",
            "                                                                                                  \n",
            " conv2d_5 (Conv2D)              (None, 128, 128, 25  590080      ['conv2d_4[0][0]']               \n",
            "                                6)                                                                \n",
            "                                                                                                  \n",
            " max_pooling2d_2 (MaxPooling2D)  (None, 64, 64, 256)  0          ['conv2d_5[0][0]']               \n",
            "                                                                                                  \n",
            " conv2d_6 (Conv2D)              (None, 64, 64, 512)  1180160     ['max_pooling2d_2[0][0]']        \n",
            "                                                                                                  \n",
            " conv2d_7 (Conv2D)              (None, 64, 64, 512)  2359808     ['conv2d_6[0][0]']               \n",
            "                                                                                                  \n",
            " conv2d_transpose (Conv2DTransp  (None, 128, 128, 25  524544     ['conv2d_7[0][0]']               \n",
            " ose)                           6)                                                                \n",
            "                                                                                                  \n",
            " concatenate (Concatenate)      (None, 128, 128, 51  0           ['conv2d_transpose[0][0]',       \n",
            "                                2)                                'conv2d_5[0][0]']               \n",
            "                                                                                                  \n",
            " conv2d_8 (Conv2D)              (None, 128, 128, 25  1179904     ['concatenate[0][0]']            \n",
            "                                6)                                                                \n",
            "                                                                                                  \n",
            " conv2d_9 (Conv2D)              (None, 128, 128, 25  590080      ['conv2d_8[0][0]']               \n",
            "                                6)                                                                \n",
            "                                                                                                  \n",
            " conv2d_transpose_1 (Conv2DTran  (None, 256, 256, 12  131200     ['conv2d_9[0][0]']               \n",
            " spose)                         8)                                                                \n",
            "                                                                                                  \n",
            " concatenate_1 (Concatenate)    (None, 256, 256, 25  0           ['conv2d_transpose_1[0][0]',     \n",
            "                                6)                                'conv2d_3[0][0]']               \n",
            "                                                                                                  \n",
            " conv2d_10 (Conv2D)             (None, 256, 256, 12  295040      ['concatenate_1[0][0]']          \n",
            "                                8)                                                                \n",
            "                                                                                                  \n",
            " conv2d_11 (Conv2D)             (None, 256, 256, 12  147584      ['conv2d_10[0][0]']              \n",
            "                                8)                                                                \n",
            "                                                                                                  \n",
            " conv2d_transpose_2 (Conv2DTran  (None, 512, 512, 64  32832      ['conv2d_11[0][0]']              \n",
            " spose)                         )                                                                 \n",
            "                                                                                                  \n",
            " concatenate_2 (Concatenate)    (None, 512, 512, 12  0           ['conv2d_transpose_2[0][0]',     \n",
            "                                8)                                'conv2d_1[0][0]']               \n",
            "                                                                                                  \n",
            " conv2d_12 (Conv2D)             (None, 512, 512, 64  73792       ['concatenate_2[0][0]']          \n",
            "                                )                                                                 \n",
            "                                                                                                  \n",
            " conv2d_13 (Conv2D)             (None, 512, 512, 64  36928       ['conv2d_12[0][0]']              \n",
            "                                )                                                                 \n",
            "                                                                                                  \n",
            " conv2d_14 (Conv2D)             (None, 512, 512, 1)  65          ['conv2d_13[0][0]']              \n",
            "                                                                                                  \n",
            "==================================================================================================\n",
            "Total params: 7,696,193\n",
            "Trainable params: 7,696,193\n",
            "Non-trainable params: 0\n",
            "__________________________________________________________________________________________________\n"
          ]
        }
      ],
      "source": [
        "import tensorflow as tf\n",
        "from tensorflow.keras.layers import Input, Conv2D, MaxPooling2D, Dropout, concatenate, Conv2DTranspose\n",
        "\n",
        "def unet_model(input_shape=(512,512,1)):\n",
        "    inputs = Input(input_shape)\n",
        "\n",
        "    # Contracting Path                                                          ### Capertuing information from image - fetures patterns\n",
        "    conv1 = Conv2D(64, 3, activation='relu', padding='same')(inputs)\n",
        "    conv1 = Conv2D(64, 3, activation='relu', padding='same')(conv1)\n",
        "    pool1 = MaxPooling2D(pool_size=(2, 2))(conv1)                               ### Reduce by half downsample the spatial dimensions\n",
        "\n",
        "    conv2 = Conv2D(128, 3, activation='relu', padding='same')(pool1)\n",
        "    conv2 = Conv2D(128, 3, activation='relu', padding='same')(conv2)\n",
        "    pool2 = MaxPooling2D(pool_size=(2, 2))(conv2)                               ###Each downsampling doubles the number of filters\n",
        "\n",
        "    conv3 = Conv2D(256, 3, activation='relu', padding='same')(pool2)\n",
        "    conv3 = Conv2D(256, 3, activation='relu', padding='same')(conv3)\n",
        "    pool3 = MaxPooling2D(pool_size=(2, 2))(conv3)\n",
        "\n",
        "    # Bottleneck\n",
        "    conv4 = Conv2D(512, 3, activation='relu', padding='same')(pool3)\n",
        "    conv4 = Conv2D(512, 3, activation='relu', padding='same')(conv4)\n",
        "\n",
        "    # Expansive Path\n",
        "    up5 = Conv2DTranspose(256, 2, strides=(2, 2), padding='same')(conv4)        ###upsample back to the original spatial resolution.\n",
        "    up5 = concatenate([up5, conv3], axis=3)                                     ###Skip connections concatenate the corresponding contracting layers to retain spatial information that would otherwise be lost\n",
        "    conv5 = Conv2D(256, 3, activation='relu', padding='same')(up5)\n",
        "    conv5 = Conv2D(256, 3, activation='relu', padding='same')(conv5)\n",
        "\n",
        "    up6 = Conv2DTranspose(128, 2, strides=(2, 2), padding='same')(conv5)\n",
        "    up6 = concatenate([up6, conv2], axis=3)\n",
        "    conv6 = Conv2D(128, 3, activation='relu', padding='same')(up6)\n",
        "    conv6 = Conv2D(128, 3, activation='relu', padding='same')(conv6)\n",
        "\n",
        "    up7 = Conv2DTranspose(64, 2, strides=(2, 2), padding='same')(conv6)\n",
        "    up7 = concatenate([up7, conv1], axis=3)\n",
        "    conv7 = Conv2D(64, 3, activation='relu', padding='same')(up7)\n",
        "    conv7 = Conv2D(64, 3, activation='relu', padding='same')(conv7)\n",
        "\n",
        "    # Output Layer\n",
        "    outputs = Conv2D(1, (1,1), activation='sigmoid')(conv7)                     ###outputs a segmentation mask with 1 channel and sigmoid activation for pixel-wise binary classification\n",
        "\n",
        "    model = tf.keras.Model(inputs=inputs, outputs=outputs)\n",
        "\n",
        "    return model\n",
        "\n",
        "# Create the UNet model\n",
        "model = unet_model()\n",
        "model.summary()"
      ]
    },
    {
      "cell_type": "code",
      "execution_count": null,
      "id": "73bbee92",
      "metadata": {
        "id": "73bbee92"
      },
      "outputs": [],
      "source": [
        "# Compile the model\n",
        "model.compile(optimizer='adam', loss='binary_crossentropy', metrics=['accuracy'])\n",
        "\n"
      ]
    },
    {
      "cell_type": "code",
      "execution_count": null,
      "id": "1b4af772",
      "metadata": {
        "id": "1b4af772"
      },
      "outputs": [],
      "source": [
        "# Train the model\n",
        "#history = model.fit(trainX, trainY, batch_size=32, epochs=1, validation_split=(testX,testY))  # gets (ResourceExhaustedError: Graph execution error:)\n",
        "#history = model.fit(trainX, trainY, batch_size=2, epochs=1)  # worked\n",
        "#history = model.fit(trainX, trainY, batch_size=4, epochs=1)  # worked\n",
        "#history = model.fit(trainX, trainY, batch_size=8, epochs=1)  # worked\n",
        "#history = model.fit(trainX, trainY, batch_size=8, epochs=10)  # worked\n",
        "#history = model.fit(trainX, trainY, batch_size=8, epochs=10, validation_data=(testX,testY)) # worked\n",
        "#history = model.fit(trainX, trainY, batch_size=8, epochs=20, validation_data=(testX,testY)) # worked"
      ]
    },
    {
      "cell_type": "code",
      "source": [
        "history = model.fit(trainX, trainY, batch_size=8, epochs=20, validation_data=(testX,testY))\n"
      ],
      "metadata": {
        "colab": {
          "base_uri": "https://localhost:8080/"
        },
        "id": "miMZbAhyZMzU",
        "outputId": "7ee58cfa-17c6-4859-9130-b4ad033fd4ed"
      },
      "id": "miMZbAhyZMzU",
      "execution_count": null,
      "outputs": [
        {
          "output_type": "stream",
          "name": "stdout",
          "text": [
            "Epoch 1/20\n",
            "17/17 [==============================] - 80s 2s/step - loss: 0.1128 - accuracy: 0.9379 - val_loss: 0.0041 - val_accuracy: 0.9993\n",
            "Epoch 2/20\n",
            "17/17 [==============================] - 23s 1s/step - loss: 0.0043 - accuracy: 0.9993 - val_loss: 0.0039 - val_accuracy: 0.9993\n",
            "Epoch 3/20\n",
            "17/17 [==============================] - 24s 1s/step - loss: 0.0042 - accuracy: 0.9993 - val_loss: 0.0039 - val_accuracy: 0.9993\n",
            "Epoch 4/20\n",
            "17/17 [==============================] - 23s 1s/step - loss: 0.0041 - accuracy: 0.9993 - val_loss: 0.0039 - val_accuracy: 0.9993\n",
            "Epoch 5/20\n",
            "17/17 [==============================] - 23s 1s/step - loss: 0.0040 - accuracy: 0.9993 - val_loss: 0.0038 - val_accuracy: 0.9993\n",
            "Epoch 6/20\n",
            "17/17 [==============================] - 24s 1s/step - loss: 0.0040 - accuracy: 0.9993 - val_loss: 0.0038 - val_accuracy: 0.9993\n",
            "Epoch 7/20\n",
            "17/17 [==============================] - 24s 1s/step - loss: 0.0040 - accuracy: 0.9993 - val_loss: 0.0037 - val_accuracy: 0.9993\n",
            "Epoch 8/20\n",
            "17/17 [==============================] - 23s 1s/step - loss: 0.0039 - accuracy: 0.9993 - val_loss: 0.0037 - val_accuracy: 0.9993\n",
            "Epoch 9/20\n",
            "17/17 [==============================] - 24s 1s/step - loss: 0.0038 - accuracy: 0.9993 - val_loss: 0.0038 - val_accuracy: 0.9993\n",
            "Epoch 10/20\n",
            "17/17 [==============================] - 24s 1s/step - loss: 0.0037 - accuracy: 0.9993 - val_loss: 0.0036 - val_accuracy: 0.9993\n",
            "Epoch 11/20\n",
            "17/17 [==============================] - 24s 1s/step - loss: 0.0035 - accuracy: 0.9993 - val_loss: 0.0038 - val_accuracy: 0.9993\n",
            "Epoch 12/20\n",
            "17/17 [==============================] - 23s 1s/step - loss: 0.0037 - accuracy: 0.9993 - val_loss: 0.0035 - val_accuracy: 0.9993\n",
            "Epoch 13/20\n",
            "17/17 [==============================] - 24s 1s/step - loss: 0.0035 - accuracy: 0.9993 - val_loss: 0.0032 - val_accuracy: 0.9993\n",
            "Epoch 14/20\n",
            "17/17 [==============================] - 24s 1s/step - loss: 0.0036 - accuracy: 0.9993 - val_loss: 0.0036 - val_accuracy: 0.9993\n",
            "Epoch 15/20\n",
            "17/17 [==============================] - 24s 1s/step - loss: 0.0035 - accuracy: 0.9993 - val_loss: 0.0034 - val_accuracy: 0.9993\n",
            "Epoch 16/20\n",
            "17/17 [==============================] - 23s 1s/step - loss: 0.0033 - accuracy: 0.9993 - val_loss: 0.0029 - val_accuracy: 0.9993\n",
            "Epoch 17/20\n",
            "17/17 [==============================] - 24s 1s/step - loss: 0.0030 - accuracy: 0.9993 - val_loss: 0.0030 - val_accuracy: 0.9993\n",
            "Epoch 18/20\n",
            "17/17 [==============================] - 23s 1s/step - loss: 0.0029 - accuracy: 0.9993 - val_loss: 0.0027 - val_accuracy: 0.9993\n",
            "Epoch 19/20\n",
            "17/17 [==============================] - 24s 1s/step - loss: 0.0025 - accuracy: 0.9993 - val_loss: 0.0028 - val_accuracy: 0.9993\n",
            "Epoch 20/20\n",
            "17/17 [==============================] - 24s 1s/step - loss: 0.0031 - accuracy: 0.9993 - val_loss: 0.0036 - val_accuracy: 0.9993\n"
          ]
        }
      ]
    },
    {
      "cell_type": "markdown",
      "source": [
        "Notes\n",
        "\n",
        "---\n",
        "Observed Facts:\n",
        "\n",
        "* The training loss and accuracy look very good - the loss is decreasing towards 0 and the accuracy is reaching 1.0, indicating the model is fitting the training data very well.\n",
        "* However, the validation loss is not improving - it is stuck around 158-160 every epoch. This means the model is overfitting the training data and not generalizing well to new data.\n",
        "* The validation accuracy is very low, around 0.0390. So the model is performing very poorly on the validation set despite good training metrics.\n",
        "The training loss and accuracy reach perfect values like 1e-30 and 1.0 by epoch 2. This is likely caused by overfitting with a small or improperly preprocessed dataset.\n",
        "\n",
        "My conclution:\n",
        "This model is drastically overfitting the training data and not learning generalizable patterns. The very high training accuracy but poor validation metrics are a sign of overfitting. To improve it, more training data, additional regularization techniques (dropout, etc), and hyperparameter tuning would help. But the small dataset seems to be the root issue."
      ],
      "metadata": {
        "id": "0EOS9uuHrEnM"
      },
      "id": "0EOS9uuHrEnM"
    },
    {
      "cell_type": "code",
      "source": [
        "\n",
        "model.compile(optimizer=Adam(learning_rate=2e-4),\n",
        "              loss=[dice_coef_loss],\n",
        "              metrics = [dice_coef, 'binary_accuracy'])\n"
      ],
      "metadata": {
        "id": "hECXlwMaYRyE"
      },
      "id": "hECXlwMaYRyE",
      "execution_count": null,
      "outputs": []
    },
    {
      "cell_type": "code",
      "source": [
        "history = model.fit(trainX, trainY, batch_size=8, epochs=20, validation_data=(testX,testY))"
      ],
      "metadata": {
        "colab": {
          "base_uri": "https://localhost:8080/"
        },
        "id": "bBCZt14F7IwF",
        "outputId": "f6c35734-aff9-46ad-f2f3-e5525fd24999"
      },
      "id": "bBCZt14F7IwF",
      "execution_count": null,
      "outputs": [
        {
          "output_type": "stream",
          "name": "stdout",
          "text": [
            "Epoch 1/20\n",
            "17/17 [==============================] - 30s 1s/step - loss: -0.0876 - dice_coef: 0.0901 - binary_accuracy: 0.9993 - val_loss: -0.1239 - val_dice_coef: 0.1582 - val_binary_accuracy: 0.9993\n",
            "Epoch 2/20\n",
            "17/17 [==============================] - 24s 1s/step - loss: -0.2049 - dice_coef: 0.2160 - binary_accuracy: 0.9993 - val_loss: -0.2209 - val_dice_coef: 0.2274 - val_binary_accuracy: 0.9993\n",
            "Epoch 3/20\n",
            "17/17 [==============================] - 23s 1s/step - loss: -0.3772 - dice_coef: 0.3948 - binary_accuracy: 0.9993 - val_loss: -0.4970 - val_dice_coef: 0.5177 - val_binary_accuracy: 0.9996\n",
            "Epoch 4/20\n",
            "17/17 [==============================] - 23s 1s/step - loss: -0.5744 - dice_coef: 0.5619 - binary_accuracy: 0.9994 - val_loss: -0.4333 - val_dice_coef: 0.5082 - val_binary_accuracy: 0.9989\n",
            "Epoch 5/20\n",
            "17/17 [==============================] - 24s 1s/step - loss: -0.4760 - dice_coef: 0.4516 - binary_accuracy: 0.9990 - val_loss: -0.2864 - val_dice_coef: 0.3615 - val_binary_accuracy: 0.9973\n",
            "Epoch 6/20\n",
            "17/17 [==============================] - 24s 1s/step - loss: -0.4328 - dice_coef: 0.4136 - binary_accuracy: 0.9992 - val_loss: -0.4301 - val_dice_coef: 0.4754 - val_binary_accuracy: 0.9989\n",
            "Epoch 7/20\n",
            "17/17 [==============================] - 24s 1s/step - loss: -0.5649 - dice_coef: 0.5368 - binary_accuracy: 0.9994 - val_loss: -0.5732 - val_dice_coef: 0.6148 - val_binary_accuracy: 0.9996\n",
            "Epoch 8/20\n",
            "17/17 [==============================] - 23s 1s/step - loss: -0.6391 - dice_coef: 0.6545 - binary_accuracy: 0.9995 - val_loss: -0.6042 - val_dice_coef: 0.6504 - val_binary_accuracy: 0.9996\n",
            "Epoch 9/20\n",
            "17/17 [==============================] - 23s 1s/step - loss: -0.6816 - dice_coef: 0.6886 - binary_accuracy: 0.9996 - val_loss: -0.6485 - val_dice_coef: 0.6900 - val_binary_accuracy: 0.9997\n",
            "Epoch 10/20\n",
            "17/17 [==============================] - 23s 1s/step - loss: -0.7269 - dice_coef: 0.7345 - binary_accuracy: 0.9996 - val_loss: -0.5827 - val_dice_coef: 0.6111 - val_binary_accuracy: 0.9997\n",
            "Epoch 11/20\n",
            "17/17 [==============================] - 23s 1s/step - loss: -0.7231 - dice_coef: 0.6870 - binary_accuracy: 0.9996 - val_loss: -0.6197 - val_dice_coef: 0.6654 - val_binary_accuracy: 0.9997\n",
            "Epoch 12/20\n",
            "17/17 [==============================] - 24s 1s/step - loss: -0.7183 - dice_coef: 0.6818 - binary_accuracy: 0.9996 - val_loss: -0.6045 - val_dice_coef: 0.6575 - val_binary_accuracy: 0.9995\n",
            "Epoch 13/20\n",
            "17/17 [==============================] - 24s 1s/step - loss: -0.6683 - dice_coef: 0.6784 - binary_accuracy: 0.9995 - val_loss: -0.5330 - val_dice_coef: 0.5917 - val_binary_accuracy: 0.9993\n",
            "Epoch 14/20\n",
            "17/17 [==============================] - 23s 1s/step - loss: -0.5770 - dice_coef: 0.5930 - binary_accuracy: 0.9994 - val_loss: -0.6293 - val_dice_coef: 0.6780 - val_binary_accuracy: 0.9997\n",
            "Epoch 15/20\n",
            "17/17 [==============================] - 23s 1s/step - loss: -0.6357 - dice_coef: 0.6033 - binary_accuracy: 0.9995 - val_loss: -0.5367 - val_dice_coef: 0.5884 - val_binary_accuracy: 0.9997\n",
            "Epoch 16/20\n",
            "17/17 [==============================] - 23s 1s/step - loss: -0.7370 - dice_coef: 0.7469 - binary_accuracy: 0.9997 - val_loss: -0.6341 - val_dice_coef: 0.6813 - val_binary_accuracy: 0.9997\n",
            "Epoch 17/20\n",
            "17/17 [==============================] - 24s 1s/step - loss: -0.7392 - dice_coef: 0.7017 - binary_accuracy: 0.9997 - val_loss: -0.6417 - val_dice_coef: 0.6891 - val_binary_accuracy: 0.9997\n",
            "Epoch 18/20\n",
            "17/17 [==============================] - 23s 1s/step - loss: -0.7839 - dice_coef: 0.7904 - binary_accuracy: 0.9997 - val_loss: -0.6461 - val_dice_coef: 0.6882 - val_binary_accuracy: 0.9997\n",
            "Epoch 19/20\n",
            "17/17 [==============================] - 23s 1s/step - loss: -0.7910 - dice_coef: 0.7971 - binary_accuracy: 0.9997 - val_loss: -0.6538 - val_dice_coef: 0.6935 - val_binary_accuracy: 0.9997\n",
            "Epoch 20/20\n",
            "17/17 [==============================] - 24s 1s/step - loss: -0.7787 - dice_coef: 0.7879 - binary_accuracy: 0.9997 - val_loss: -0.6443 - val_dice_coef: 0.6901 - val_binary_accuracy: 0.9997\n"
          ]
        }
      ]
    },
    {
      "cell_type": "markdown",
      "source": [
        "Notes\n",
        "\n",
        "---\n",
        "Observed Facts:\n",
        "* The training loss starts negative and becomes more negative, indicating the model is optimizing the loss function.\n",
        "* The training Dice coefficient improves from 0.09 to around 0.78-0.80, meaning the model is learning to segment better on the training data.\n",
        "* The validation Dice also increases over time, starting at 0.15 and reaching around 0.69. So the model is generalizing reasonably well.\n",
        "* The validation loss is also negative and decreasing, though not as low as the training loss - this is expected.\n",
        "* The binary accuracy metrics are very high (over 0.99) throughout, indicating accurate pixel-level classification.\n",
        "\n",
        "My Conclution: This model demonstrates decent optimization and generalization for the segmentation task. There are no signs of severe overfitting, like increasing validation loss or fluctuating validation metrics. The validation Dice plateauing around 0.69 suggests the model has reached reasonable performance, but gains may be possible with more data or model tweaks.\n",
        "\n",
        "Compared to the previous overfit model, this one is learning much better and does not demonstrate problematic training vs validation metrics. The outputs indicate appropriate training behavior for a segmentation deep learning model."
      ],
      "metadata": {
        "id": "NdDla3H7qndA"
      },
      "id": "NdDla3H7qndA"
    },
    {
      "cell_type": "markdown",
      "source": [
        "---\n",
        "Save The Model\n",
        "\n",
        "---"
      ],
      "metadata": {
        "id": "01RyC8t7ZwGg"
      },
      "id": "01RyC8t7ZwGg"
    },
    {
      "cell_type": "code",
      "source": [
        "# save the model off.\n",
        "\n",
        "from datetime import datetime\n",
        "\n",
        "# Get the current date and time\n",
        "now = datetime.now()\n",
        "\n",
        "# Format the date and time\n",
        "formatted_now = now.strftime(\"%Y%m%d_%H%M%S\")\n",
        "\n",
        "# Define your filename\n",
        "filename = f\"Seg_Model_{formatted_now}.h5\"\n",
        "\n",
        "model.save(filename)\n",
        "\n",
        "\n"
      ],
      "metadata": {
        "id": "UxzjYixL3wGi"
      },
      "id": "UxzjYixL3wGi",
      "execution_count": null,
      "outputs": []
    }
  ],
  "metadata": {
    "kernelspec": {
      "display_name": "Python 3.9 (Conda 2022.05) [python/3.9-2022.05]",
      "language": "python",
      "name": "python39_202205"
    },
    "language_info": {
      "codemirror_mode": {
        "name": "ipython",
        "version": 3
      },
      "file_extension": ".py",
      "mimetype": "text/x-python",
      "name": "python",
      "nbconvert_exporter": "python",
      "pygments_lexer": "ipython3",
      "version": "3.9.12"
    },
    "colab": {
      "provenance": [],
      "gpuType": "T4",
      "include_colab_link": true
    },
    "accelerator": "GPU"
  },
  "nbformat": 4,
  "nbformat_minor": 5
}