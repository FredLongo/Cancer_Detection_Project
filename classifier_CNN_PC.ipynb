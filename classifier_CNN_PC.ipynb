{
  "cells": [
    {
      "cell_type": "markdown",
      "metadata": {
        "id": "view-in-github",
        "colab_type": "text"
      },
      "source": [
        "<a href=\"https://colab.research.google.com/github/FredLongo/Cancer_Detection_Project/blob/main/classifier_CNN_PC.ipynb\" target=\"_parent\"><img src=\"https://colab.research.google.com/assets/colab-badge.svg\" alt=\"Open In Colab\"/></a>"
      ]
    },
    {
      "cell_type": "markdown",
      "metadata": {
        "id": "e0256c70"
      },
      "source": [
        "---\n",
        "# **Classifier CNN Performs the following**\n",
        "   The purpose of the Classifier CNN is to crate and train a model to identify ROI areas (nodules) as being malignant or not.  By doing this we get a classification model that can be used by other programs.\n",
        "\n",
        "*   Preps Environment\n",
        "*   Preprocess Data\n",
        "*   Preps the data for training\n",
        "*   Builds the Model\n",
        "*   Train the model\n",
        "*   Save the best model off to be used later\n",
        "\n",
        "---"
      ],
      "id": "e0256c70"
    },
    {
      "cell_type": "markdown",
      "source": [
        "---\n",
        "By Fred Longo\n",
        "\n",
        "---"
      ],
      "metadata": {
        "id": "SbkfSLdF10fv"
      },
      "id": "SbkfSLdF10fv"
    },
    {
      "cell_type": "markdown",
      "source": [
        "---\n",
        "Prep Environment\n",
        "\n",
        "---\n",
        "\n",
        "\n"
      ],
      "metadata": {
        "id": "-B0A75Dmou7n"
      },
      "id": "-B0A75Dmou7n"
    },
    {
      "cell_type": "code",
      "source": [
        "!pip install SimpleITK"
      ],
      "metadata": {
        "colab": {
          "base_uri": "https://localhost:8080/"
        },
        "id": "pF5GrGQ0tzR-",
        "outputId": "67fbd8d0-368b-4635-f1ed-ba62d7cc5e00"
      },
      "id": "pF5GrGQ0tzR-",
      "execution_count": null,
      "outputs": [
        {
          "output_type": "stream",
          "name": "stdout",
          "text": [
            "Requirement already satisfied: SimpleITK in /usr/local/lib/python3.10/dist-packages (2.2.1)\n"
          ]
        }
      ]
    },
    {
      "cell_type": "code",
      "execution_count": null,
      "id": "88830840",
      "metadata": {
        "id": "88830840"
      },
      "outputs": [],
      "source": [
        "import os\n",
        "import cv2\n",
        "import pandas as pd\n",
        "import numpy as np\n",
        "import matplotlib.pyplot as plt\n",
        "from skimage import measure\n",
        "import SimpleITK as stk\n",
        "from glob import glob\n",
        "from tqdm import tqdm"
      ]
    },
    {
      "cell_type": "code",
      "source": [
        "from google.colab import drive\n",
        "drive.mount('/content/drive')"
      ],
      "metadata": {
        "colab": {
          "base_uri": "https://localhost:8080/"
        },
        "id": "nYK_wgVWuQ6C",
        "outputId": "5c69ecf9-e4bf-4a1f-edc3-464d5afb132c"
      },
      "id": "nYK_wgVWuQ6C",
      "execution_count": null,
      "outputs": [
        {
          "output_type": "stream",
          "name": "stdout",
          "text": [
            "Drive already mounted at /content/drive; to attempt to forcibly remount, call drive.mount(\"/content/drive\", force_remount=True).\n"
          ]
        }
      ]
    },
    {
      "cell_type": "code",
      "source": [
        "cd drive/MyDrive/PCAI_Project"
      ],
      "metadata": {
        "colab": {
          "base_uri": "https://localhost:8080/"
        },
        "id": "E3kySMTfuFL2",
        "outputId": "a09027c0-48b3-489d-a06d-1897cc6913f5"
      },
      "id": "E3kySMTfuFL2",
      "execution_count": null,
      "outputs": [
        {
          "output_type": "stream",
          "name": "stdout",
          "text": [
            "/content/drive/MyDrive/PCAI_Project\n"
          ]
        }
      ]
    },
    {
      "cell_type": "code",
      "source": [
        "pd.set_option('display.max_colwidth', 200)"
      ],
      "metadata": {
        "id": "BY9p-N04k2u3"
      },
      "id": "BY9p-N04k2u3",
      "execution_count": null,
      "outputs": []
    },
    {
      "cell_type": "markdown",
      "source": [
        "---\n",
        "Preprocess Data\n",
        "\n",
        "---"
      ],
      "metadata": {
        "id": "xJCasTqcqwdE"
      },
      "id": "xJCasTqcqwdE"
    },
    {
      "cell_type": "code",
      "execution_count": null,
      "id": "4ac454ef",
      "metadata": {
        "id": "4ac454ef"
      },
      "outputs": [],
      "source": [
        "root = \"subset0/\"\n",
        "target_root = \"FPRProcessedData/\""
      ]
    },
    {
      "cell_type": "code",
      "execution_count": null,
      "id": "5aeac62c",
      "metadata": {
        "id": "5aeac62c"
      },
      "outputs": [],
      "source": [
        "# Clean up from last run\n",
        "#!rm -r FPRProcessedData/nodule/*\n",
        "#!rm -r FPRProcessedData/non-nodule/*\n",
        "#!rm -r FPRProcessedData/non-nodule-initial/*\n",
        "\n",
        "#!rm -r FPRDataset/test/nodule/*\n",
        "#!rm -r FPRDataset/test/non-nodule/*\n",
        "#!rm -r FPRDataset/train/nodule/*\n",
        "#!rm -r FPRDataset/train/non-nodule/*\n",
        "\n"
      ]
    },
    {
      "cell_type": "code",
      "execution_count": null,
      "id": "aa9cda63",
      "metadata": {
        "id": "aa9cda63"
      },
      "outputs": [],
      "source": [
        "#os.chdir(\"../../\")\n",
        "#if os.path.exists(\"FPRDataset\"): shutil.rmtree(\"FPRDataset\")\n",
        "#os.mkdir(\"FPRDataset\")\n",
        "#if os.path.exists(\"FPRDataset/train\"): shutil.rmtree(\"FPRDataset/train\")\n",
        "#os.mkdir(\"FPRDataset/train\")\n",
        "#if os.path.exists(\"FPRDataset/train/nodule\"): shutil.rmtree(\"FPRDataset/train/nodule\")\n",
        "#os.mkdir(\"FPRDataset/train/nodule\")\n",
        "#if os.path.exists(\"FPRDataset/train/non-nodule\"): shutil.rmtree(\"FPRDataset/train/non-nodule\")\n",
        "#os.mkdir(\"FPRDataset/train/non-nodule\")\n",
        "#if os.path.exists(\"FPRDataset/test\"): shutil.rmtree(\"FPRDataset/test\")\n",
        "#os.mkdir(\"FPRDataset/test\")\n",
        "#if os.path.exists(\"FPRDataset/test/nodule\"): shutil.rmtree(\"FPRDataset/test/nodule\")\n",
        "#os.mkdir(\"FPRDataset/test/nodule\")\n",
        "#if os.path.exists(\"FPRDataset/test/non-nodule\"): shutil.rmtree(\"FPRDataset/test/non-nodule\")\n",
        "#os.mkdir(\"FPRDataset/test/non-nodule\")\n"
      ]
    },
    {
      "cell_type": "code",
      "execution_count": null,
      "id": "30117be5",
      "metadata": {
        "colab": {
          "base_uri": "https://localhost:8080/"
        },
        "id": "30117be5",
        "outputId": "ab523fc2-5589-455a-dbfc-5fda43e36b3f"
      },
      "outputs": [
        {
          "output_type": "stream",
          "name": "stdout",
          "text": [
            "Files Count: 89\n"
          ]
        }
      ],
      "source": [
        "file_list = glob(root+\"/*.mhd\")\n",
        "print(\"Files Count:\",len(file_list))"
      ]
    },
    {
      "cell_type": "code",
      "execution_count": null,
      "id": "2e3cc16f",
      "metadata": {
        "id": "2e3cc16f"
      },
      "outputs": [],
      "source": [
        "candidates_df = pd.read_csv(\"candidates.csv\")"
      ]
    },
    {
      "cell_type": "code",
      "execution_count": null,
      "id": "3033fc3f",
      "metadata": {
        "colab": {
          "base_uri": "https://localhost:8080/",
          "height": 206
        },
        "id": "3033fc3f",
        "outputId": "84b6c927-976d-464e-8c55-96a6bc84c1fa"
      },
      "outputs": [
        {
          "output_type": "execute_result",
          "data": {
            "text/plain": [
              "                                                          seriesuid  coordX  \\\n",
              "0  1.3.6.1.4.1.14519.5.2.1.6279.6001.100225287222365663678666836860  -56.08   \n",
              "1  1.3.6.1.4.1.14519.5.2.1.6279.6001.100225287222365663678666836860   53.21   \n",
              "2  1.3.6.1.4.1.14519.5.2.1.6279.6001.100225287222365663678666836860  103.66   \n",
              "3  1.3.6.1.4.1.14519.5.2.1.6279.6001.100225287222365663678666836860  -33.66   \n",
              "4  1.3.6.1.4.1.14519.5.2.1.6279.6001.100225287222365663678666836860  -32.25   \n",
              "\n",
              "   coordY  coordZ  class  \n",
              "0  -67.85 -311.92      0  \n",
              "1 -244.41 -245.17      0  \n",
              "2 -121.80 -286.62      0  \n",
              "3  -72.75 -308.41      0  \n",
              "4  -85.36 -362.51      0  "
            ],
            "text/html": [
              "\n",
              "\n",
              "  <div id=\"df-9cc8bcdf-e157-406b-aa8e-6b9da95e58c7\">\n",
              "    <div class=\"colab-df-container\">\n",
              "      <div>\n",
              "<style scoped>\n",
              "    .dataframe tbody tr th:only-of-type {\n",
              "        vertical-align: middle;\n",
              "    }\n",
              "\n",
              "    .dataframe tbody tr th {\n",
              "        vertical-align: top;\n",
              "    }\n",
              "\n",
              "    .dataframe thead th {\n",
              "        text-align: right;\n",
              "    }\n",
              "</style>\n",
              "<table border=\"1\" class=\"dataframe\">\n",
              "  <thead>\n",
              "    <tr style=\"text-align: right;\">\n",
              "      <th></th>\n",
              "      <th>seriesuid</th>\n",
              "      <th>coordX</th>\n",
              "      <th>coordY</th>\n",
              "      <th>coordZ</th>\n",
              "      <th>class</th>\n",
              "    </tr>\n",
              "  </thead>\n",
              "  <tbody>\n",
              "    <tr>\n",
              "      <th>0</th>\n",
              "      <td>1.3.6.1.4.1.14519.5.2.1.6279.6001.100225287222365663678666836860</td>\n",
              "      <td>-56.08</td>\n",
              "      <td>-67.85</td>\n",
              "      <td>-311.92</td>\n",
              "      <td>0</td>\n",
              "    </tr>\n",
              "    <tr>\n",
              "      <th>1</th>\n",
              "      <td>1.3.6.1.4.1.14519.5.2.1.6279.6001.100225287222365663678666836860</td>\n",
              "      <td>53.21</td>\n",
              "      <td>-244.41</td>\n",
              "      <td>-245.17</td>\n",
              "      <td>0</td>\n",
              "    </tr>\n",
              "    <tr>\n",
              "      <th>2</th>\n",
              "      <td>1.3.6.1.4.1.14519.5.2.1.6279.6001.100225287222365663678666836860</td>\n",
              "      <td>103.66</td>\n",
              "      <td>-121.80</td>\n",
              "      <td>-286.62</td>\n",
              "      <td>0</td>\n",
              "    </tr>\n",
              "    <tr>\n",
              "      <th>3</th>\n",
              "      <td>1.3.6.1.4.1.14519.5.2.1.6279.6001.100225287222365663678666836860</td>\n",
              "      <td>-33.66</td>\n",
              "      <td>-72.75</td>\n",
              "      <td>-308.41</td>\n",
              "      <td>0</td>\n",
              "    </tr>\n",
              "    <tr>\n",
              "      <th>4</th>\n",
              "      <td>1.3.6.1.4.1.14519.5.2.1.6279.6001.100225287222365663678666836860</td>\n",
              "      <td>-32.25</td>\n",
              "      <td>-85.36</td>\n",
              "      <td>-362.51</td>\n",
              "      <td>0</td>\n",
              "    </tr>\n",
              "  </tbody>\n",
              "</table>\n",
              "</div>\n",
              "      <button class=\"colab-df-convert\" onclick=\"convertToInteractive('df-9cc8bcdf-e157-406b-aa8e-6b9da95e58c7')\"\n",
              "              title=\"Convert this dataframe to an interactive table.\"\n",
              "              style=\"display:none;\">\n",
              "\n",
              "  <svg xmlns=\"http://www.w3.org/2000/svg\" height=\"24px\"viewBox=\"0 0 24 24\"\n",
              "       width=\"24px\">\n",
              "    <path d=\"M0 0h24v24H0V0z\" fill=\"none\"/>\n",
              "    <path d=\"M18.56 5.44l.94 2.06.94-2.06 2.06-.94-2.06-.94-.94-2.06-.94 2.06-2.06.94zm-11 1L8.5 8.5l.94-2.06 2.06-.94-2.06-.94L8.5 2.5l-.94 2.06-2.06.94zm10 10l.94 2.06.94-2.06 2.06-.94-2.06-.94-.94-2.06-.94 2.06-2.06.94z\"/><path d=\"M17.41 7.96l-1.37-1.37c-.4-.4-.92-.59-1.43-.59-.52 0-1.04.2-1.43.59L10.3 9.45l-7.72 7.72c-.78.78-.78 2.05 0 2.83L4 21.41c.39.39.9.59 1.41.59.51 0 1.02-.2 1.41-.59l7.78-7.78 2.81-2.81c.8-.78.8-2.07 0-2.86zM5.41 20L4 18.59l7.72-7.72 1.47 1.35L5.41 20z\"/>\n",
              "  </svg>\n",
              "      </button>\n",
              "\n",
              "\n",
              "\n",
              "    <div id=\"df-b40ce83a-1d4a-4bf8-8760-d102137e3dc9\">\n",
              "      <button class=\"colab-df-quickchart\" onclick=\"quickchart('df-b40ce83a-1d4a-4bf8-8760-d102137e3dc9')\"\n",
              "              title=\"Suggest charts.\"\n",
              "              style=\"display:none;\">\n",
              "\n",
              "<svg xmlns=\"http://www.w3.org/2000/svg\" height=\"24px\"viewBox=\"0 0 24 24\"\n",
              "     width=\"24px\">\n",
              "    <g>\n",
              "        <path d=\"M19 3H5c-1.1 0-2 .9-2 2v14c0 1.1.9 2 2 2h14c1.1 0 2-.9 2-2V5c0-1.1-.9-2-2-2zM9 17H7v-7h2v7zm4 0h-2V7h2v10zm4 0h-2v-4h2v4z\"/>\n",
              "    </g>\n",
              "</svg>\n",
              "      </button>\n",
              "    </div>\n",
              "\n",
              "<style>\n",
              "  .colab-df-quickchart {\n",
              "    background-color: #E8F0FE;\n",
              "    border: none;\n",
              "    border-radius: 50%;\n",
              "    cursor: pointer;\n",
              "    display: none;\n",
              "    fill: #1967D2;\n",
              "    height: 32px;\n",
              "    padding: 0 0 0 0;\n",
              "    width: 32px;\n",
              "  }\n",
              "\n",
              "  .colab-df-quickchart:hover {\n",
              "    background-color: #E2EBFA;\n",
              "    box-shadow: 0px 1px 2px rgba(60, 64, 67, 0.3), 0px 1px 3px 1px rgba(60, 64, 67, 0.15);\n",
              "    fill: #174EA6;\n",
              "  }\n",
              "\n",
              "  [theme=dark] .colab-df-quickchart {\n",
              "    background-color: #3B4455;\n",
              "    fill: #D2E3FC;\n",
              "  }\n",
              "\n",
              "  [theme=dark] .colab-df-quickchart:hover {\n",
              "    background-color: #434B5C;\n",
              "    box-shadow: 0px 1px 3px 1px rgba(0, 0, 0, 0.15);\n",
              "    filter: drop-shadow(0px 1px 2px rgba(0, 0, 0, 0.3));\n",
              "    fill: #FFFFFF;\n",
              "  }\n",
              "</style>\n",
              "\n",
              "    <script>\n",
              "      async function quickchart(key) {\n",
              "        const containerElement = document.querySelector('#' + key);\n",
              "        const charts = await google.colab.kernel.invokeFunction(\n",
              "            'suggestCharts', [key], {});\n",
              "      }\n",
              "    </script>\n",
              "\n",
              "      <script>\n",
              "\n",
              "function displayQuickchartButton(domScope) {\n",
              "  let quickchartButtonEl =\n",
              "    domScope.querySelector('#df-b40ce83a-1d4a-4bf8-8760-d102137e3dc9 button.colab-df-quickchart');\n",
              "  quickchartButtonEl.style.display =\n",
              "    google.colab.kernel.accessAllowed ? 'block' : 'none';\n",
              "}\n",
              "\n",
              "        displayQuickchartButton(document);\n",
              "      </script>\n",
              "      <style>\n",
              "    .colab-df-container {\n",
              "      display:flex;\n",
              "      flex-wrap:wrap;\n",
              "      gap: 12px;\n",
              "    }\n",
              "\n",
              "    .colab-df-convert {\n",
              "      background-color: #E8F0FE;\n",
              "      border: none;\n",
              "      border-radius: 50%;\n",
              "      cursor: pointer;\n",
              "      display: none;\n",
              "      fill: #1967D2;\n",
              "      height: 32px;\n",
              "      padding: 0 0 0 0;\n",
              "      width: 32px;\n",
              "    }\n",
              "\n",
              "    .colab-df-convert:hover {\n",
              "      background-color: #E2EBFA;\n",
              "      box-shadow: 0px 1px 2px rgba(60, 64, 67, 0.3), 0px 1px 3px 1px rgba(60, 64, 67, 0.15);\n",
              "      fill: #174EA6;\n",
              "    }\n",
              "\n",
              "    [theme=dark] .colab-df-convert {\n",
              "      background-color: #3B4455;\n",
              "      fill: #D2E3FC;\n",
              "    }\n",
              "\n",
              "    [theme=dark] .colab-df-convert:hover {\n",
              "      background-color: #434B5C;\n",
              "      box-shadow: 0px 1px 3px 1px rgba(0, 0, 0, 0.15);\n",
              "      filter: drop-shadow(0px 1px 2px rgba(0, 0, 0, 0.3));\n",
              "      fill: #FFFFFF;\n",
              "    }\n",
              "  </style>\n",
              "\n",
              "      <script>\n",
              "        const buttonEl =\n",
              "          document.querySelector('#df-9cc8bcdf-e157-406b-aa8e-6b9da95e58c7 button.colab-df-convert');\n",
              "        buttonEl.style.display =\n",
              "          google.colab.kernel.accessAllowed ? 'block' : 'none';\n",
              "\n",
              "        async function convertToInteractive(key) {\n",
              "          const element = document.querySelector('#df-9cc8bcdf-e157-406b-aa8e-6b9da95e58c7');\n",
              "          const dataTable =\n",
              "            await google.colab.kernel.invokeFunction('convertToInteractive',\n",
              "                                                     [key], {});\n",
              "          if (!dataTable) return;\n",
              "\n",
              "          const docLinkHtml = 'Like what you see? Visit the ' +\n",
              "            '<a target=\"_blank\" href=https://colab.research.google.com/notebooks/data_table.ipynb>data table notebook</a>'\n",
              "            + ' to learn more about interactive tables.';\n",
              "          element.innerHTML = '';\n",
              "          dataTable['output_type'] = 'display_data';\n",
              "          await google.colab.output.renderOutput(dataTable, element);\n",
              "          const docLink = document.createElement('div');\n",
              "          docLink.innerHTML = docLinkHtml;\n",
              "          element.appendChild(docLink);\n",
              "        }\n",
              "      </script>\n",
              "    </div>\n",
              "  </div>\n"
            ]
          },
          "metadata": {},
          "execution_count": 9
        }
      ],
      "source": [
        "candidates_df.head()"
      ]
    },
    {
      "cell_type": "code",
      "execution_count": null,
      "id": "05cdc6cd",
      "metadata": {
        "colab": {
          "base_uri": "https://localhost:8080/"
        },
        "id": "05cdc6cd",
        "outputId": "8394de06-fbec-4621-9b55-0ca0aee53f3c"
      },
      "outputs": [
        {
          "output_type": "stream",
          "name": "stdout",
          "text": [
            "Total Candidates: 551065\n",
            "Positives: 1351\n"
          ]
        }
      ],
      "source": [
        "print(\"Total Candidates:\",len(candidates_df))\n",
        "print(\"Positives:\",candidates_df['class'].sum())"
      ]
    },
    {
      "cell_type": "code",
      "execution_count": null,
      "id": "eeb7ef0e",
      "metadata": {
        "colab": {
          "base_uri": "https://localhost:8080/"
        },
        "id": "eeb7ef0e",
        "outputId": "42ded48f-a569-4a9c-88c8-57af1dc40956"
      },
      "outputs": [
        {
          "output_type": "stream",
          "name": "stdout",
          "text": [
            "<class 'pandas.core.frame.DataFrame'>\n",
            "RangeIndex: 551065 entries, 0 to 551064\n",
            "Data columns (total 5 columns):\n",
            " #   Column     Non-Null Count   Dtype  \n",
            "---  ------     --------------   -----  \n",
            " 0   seriesuid  551065 non-null  object \n",
            " 1   coordX     551065 non-null  float64\n",
            " 2   coordY     551065 non-null  float64\n",
            " 3   coordZ     551065 non-null  float64\n",
            " 4   class      551065 non-null  int64  \n",
            "dtypes: float64(3), int64(1), object(1)\n",
            "memory usage: 21.0+ MB\n"
          ]
        }
      ],
      "source": [
        "candidates_df.info()"
      ]
    },
    {
      "cell_type": "code",
      "execution_count": null,
      "id": "f9fbf735",
      "metadata": {
        "id": "f9fbf735"
      },
      "outputs": [],
      "source": [
        "def get_filename(file_list, file):\n",
        "    for f in file_list:\n",
        "        if file in f:\n",
        "            return f"
      ]
    },
    {
      "cell_type": "code",
      "execution_count": null,
      "id": "0770174b",
      "metadata": {
        "id": "0770174b"
      },
      "outputs": [],
      "source": [
        "def load_mhd(file):\n",
        "    mhdimage = stk.ReadImage(file)\n",
        "    ct_scan = stk.GetArrayFromImage(mhdimage)\n",
        "    origin = np.array(list(mhdimage.GetOrigin()))\n",
        "    space = np.array(list(mhdimage.GetSpacing()))\n",
        "    return ct_scan, origin, space"
      ]
    },
    {
      "cell_type": "code",
      "source": [
        "def mark_done(path):\n",
        "    with open(path[:-3]+'done', 'a'):\n",
        "        pass\n"
      ],
      "metadata": {
        "id": "2jnacFKbXj0-"
      },
      "id": "2jnacFKbXj0-",
      "execution_count": null,
      "outputs": []
    },
    {
      "cell_type": "code",
      "source": [
        "def is_done(path):\n",
        "    return os.path.exists(path[:-3]+'done')"
      ],
      "metadata": {
        "id": "K53QobIHYcYj"
      },
      "id": "K53QobIHYcYj",
      "execution_count": null,
      "outputs": []
    },
    {
      "cell_type": "code",
      "execution_count": null,
      "id": "842e61d2",
      "metadata": {
        "colab": {
          "base_uri": "https://localhost:8080/"
        },
        "id": "842e61d2",
        "outputId": "a213edc0-1bc5-4568-a8ec-33b734bd4641"
      },
      "outputs": [
        {
          "output_type": "stream",
          "name": "stdout",
          "text": [
            "56938\n"
          ]
        }
      ],
      "source": [
        "candidates_df[\"filename\"] = candidates_df[\"seriesuid\"].map(lambda file: get_filename(file_list, file))\n",
        "candidates_df = candidates_df.dropna()\n",
        "print(len(candidates_df))"
      ]
    },
    {
      "cell_type": "code",
      "execution_count": null,
      "id": "78466b43",
      "metadata": {
        "colab": {
          "base_uri": "https://localhost:8080/",
          "height": 270
        },
        "id": "78466b43",
        "outputId": "56b0035a-ff94-44b9-bd3d-7476afa84ee7"
      },
      "outputs": [
        {
          "output_type": "execute_result",
          "data": {
            "text/plain": [
              "                                                             seriesuid  \\\n",
              "9310  1.3.6.1.4.1.14519.5.2.1.6279.6001.105756658031515062000744821260   \n",
              "9311  1.3.6.1.4.1.14519.5.2.1.6279.6001.105756658031515062000744821260   \n",
              "9312  1.3.6.1.4.1.14519.5.2.1.6279.6001.105756658031515062000744821260   \n",
              "9313  1.3.6.1.4.1.14519.5.2.1.6279.6001.105756658031515062000744821260   \n",
              "9314  1.3.6.1.4.1.14519.5.2.1.6279.6001.105756658031515062000744821260   \n",
              "\n",
              "          coordX     coordY      coordZ  class  \\\n",
              "9310  129.568151  45.377097 -277.835758      0   \n",
              "9311  -97.260000  56.360000 -201.930000      0   \n",
              "9312   99.230491  -4.882165 -128.691305      0   \n",
              "9313  -15.287525 -59.105100 -251.303750      0   \n",
              "9314  109.344666   1.891737 -237.284699      0   \n",
              "\n",
              "                                                                          filename  \n",
              "9310  subset0/1.3.6.1.4.1.14519.5.2.1.6279.6001.105756658031515062000744821260.mhd  \n",
              "9311  subset0/1.3.6.1.4.1.14519.5.2.1.6279.6001.105756658031515062000744821260.mhd  \n",
              "9312  subset0/1.3.6.1.4.1.14519.5.2.1.6279.6001.105756658031515062000744821260.mhd  \n",
              "9313  subset0/1.3.6.1.4.1.14519.5.2.1.6279.6001.105756658031515062000744821260.mhd  \n",
              "9314  subset0/1.3.6.1.4.1.14519.5.2.1.6279.6001.105756658031515062000744821260.mhd  "
            ],
            "text/html": [
              "\n",
              "\n",
              "  <div id=\"df-889009ed-af96-4990-bb36-0210d06dc5e3\">\n",
              "    <div class=\"colab-df-container\">\n",
              "      <div>\n",
              "<style scoped>\n",
              "    .dataframe tbody tr th:only-of-type {\n",
              "        vertical-align: middle;\n",
              "    }\n",
              "\n",
              "    .dataframe tbody tr th {\n",
              "        vertical-align: top;\n",
              "    }\n",
              "\n",
              "    .dataframe thead th {\n",
              "        text-align: right;\n",
              "    }\n",
              "</style>\n",
              "<table border=\"1\" class=\"dataframe\">\n",
              "  <thead>\n",
              "    <tr style=\"text-align: right;\">\n",
              "      <th></th>\n",
              "      <th>seriesuid</th>\n",
              "      <th>coordX</th>\n",
              "      <th>coordY</th>\n",
              "      <th>coordZ</th>\n",
              "      <th>class</th>\n",
              "      <th>filename</th>\n",
              "    </tr>\n",
              "  </thead>\n",
              "  <tbody>\n",
              "    <tr>\n",
              "      <th>9310</th>\n",
              "      <td>1.3.6.1.4.1.14519.5.2.1.6279.6001.105756658031515062000744821260</td>\n",
              "      <td>129.568151</td>\n",
              "      <td>45.377097</td>\n",
              "      <td>-277.835758</td>\n",
              "      <td>0</td>\n",
              "      <td>subset0/1.3.6.1.4.1.14519.5.2.1.6279.6001.105756658031515062000744821260.mhd</td>\n",
              "    </tr>\n",
              "    <tr>\n",
              "      <th>9311</th>\n",
              "      <td>1.3.6.1.4.1.14519.5.2.1.6279.6001.105756658031515062000744821260</td>\n",
              "      <td>-97.260000</td>\n",
              "      <td>56.360000</td>\n",
              "      <td>-201.930000</td>\n",
              "      <td>0</td>\n",
              "      <td>subset0/1.3.6.1.4.1.14519.5.2.1.6279.6001.105756658031515062000744821260.mhd</td>\n",
              "    </tr>\n",
              "    <tr>\n",
              "      <th>9312</th>\n",
              "      <td>1.3.6.1.4.1.14519.5.2.1.6279.6001.105756658031515062000744821260</td>\n",
              "      <td>99.230491</td>\n",
              "      <td>-4.882165</td>\n",
              "      <td>-128.691305</td>\n",
              "      <td>0</td>\n",
              "      <td>subset0/1.3.6.1.4.1.14519.5.2.1.6279.6001.105756658031515062000744821260.mhd</td>\n",
              "    </tr>\n",
              "    <tr>\n",
              "      <th>9313</th>\n",
              "      <td>1.3.6.1.4.1.14519.5.2.1.6279.6001.105756658031515062000744821260</td>\n",
              "      <td>-15.287525</td>\n",
              "      <td>-59.105100</td>\n",
              "      <td>-251.303750</td>\n",
              "      <td>0</td>\n",
              "      <td>subset0/1.3.6.1.4.1.14519.5.2.1.6279.6001.105756658031515062000744821260.mhd</td>\n",
              "    </tr>\n",
              "    <tr>\n",
              "      <th>9314</th>\n",
              "      <td>1.3.6.1.4.1.14519.5.2.1.6279.6001.105756658031515062000744821260</td>\n",
              "      <td>109.344666</td>\n",
              "      <td>1.891737</td>\n",
              "      <td>-237.284699</td>\n",
              "      <td>0</td>\n",
              "      <td>subset0/1.3.6.1.4.1.14519.5.2.1.6279.6001.105756658031515062000744821260.mhd</td>\n",
              "    </tr>\n",
              "  </tbody>\n",
              "</table>\n",
              "</div>\n",
              "      <button class=\"colab-df-convert\" onclick=\"convertToInteractive('df-889009ed-af96-4990-bb36-0210d06dc5e3')\"\n",
              "              title=\"Convert this dataframe to an interactive table.\"\n",
              "              style=\"display:none;\">\n",
              "\n",
              "  <svg xmlns=\"http://www.w3.org/2000/svg\" height=\"24px\"viewBox=\"0 0 24 24\"\n",
              "       width=\"24px\">\n",
              "    <path d=\"M0 0h24v24H0V0z\" fill=\"none\"/>\n",
              "    <path d=\"M18.56 5.44l.94 2.06.94-2.06 2.06-.94-2.06-.94-.94-2.06-.94 2.06-2.06.94zm-11 1L8.5 8.5l.94-2.06 2.06-.94-2.06-.94L8.5 2.5l-.94 2.06-2.06.94zm10 10l.94 2.06.94-2.06 2.06-.94-2.06-.94-.94-2.06-.94 2.06-2.06.94z\"/><path d=\"M17.41 7.96l-1.37-1.37c-.4-.4-.92-.59-1.43-.59-.52 0-1.04.2-1.43.59L10.3 9.45l-7.72 7.72c-.78.78-.78 2.05 0 2.83L4 21.41c.39.39.9.59 1.41.59.51 0 1.02-.2 1.41-.59l7.78-7.78 2.81-2.81c.8-.78.8-2.07 0-2.86zM5.41 20L4 18.59l7.72-7.72 1.47 1.35L5.41 20z\"/>\n",
              "  </svg>\n",
              "      </button>\n",
              "\n",
              "\n",
              "\n",
              "    <div id=\"df-13e0bc91-73c1-45c9-a942-f1518a7ecd81\">\n",
              "      <button class=\"colab-df-quickchart\" onclick=\"quickchart('df-13e0bc91-73c1-45c9-a942-f1518a7ecd81')\"\n",
              "              title=\"Suggest charts.\"\n",
              "              style=\"display:none;\">\n",
              "\n",
              "<svg xmlns=\"http://www.w3.org/2000/svg\" height=\"24px\"viewBox=\"0 0 24 24\"\n",
              "     width=\"24px\">\n",
              "    <g>\n",
              "        <path d=\"M19 3H5c-1.1 0-2 .9-2 2v14c0 1.1.9 2 2 2h14c1.1 0 2-.9 2-2V5c0-1.1-.9-2-2-2zM9 17H7v-7h2v7zm4 0h-2V7h2v10zm4 0h-2v-4h2v4z\"/>\n",
              "    </g>\n",
              "</svg>\n",
              "      </button>\n",
              "    </div>\n",
              "\n",
              "<style>\n",
              "  .colab-df-quickchart {\n",
              "    background-color: #E8F0FE;\n",
              "    border: none;\n",
              "    border-radius: 50%;\n",
              "    cursor: pointer;\n",
              "    display: none;\n",
              "    fill: #1967D2;\n",
              "    height: 32px;\n",
              "    padding: 0 0 0 0;\n",
              "    width: 32px;\n",
              "  }\n",
              "\n",
              "  .colab-df-quickchart:hover {\n",
              "    background-color: #E2EBFA;\n",
              "    box-shadow: 0px 1px 2px rgba(60, 64, 67, 0.3), 0px 1px 3px 1px rgba(60, 64, 67, 0.15);\n",
              "    fill: #174EA6;\n",
              "  }\n",
              "\n",
              "  [theme=dark] .colab-df-quickchart {\n",
              "    background-color: #3B4455;\n",
              "    fill: #D2E3FC;\n",
              "  }\n",
              "\n",
              "  [theme=dark] .colab-df-quickchart:hover {\n",
              "    background-color: #434B5C;\n",
              "    box-shadow: 0px 1px 3px 1px rgba(0, 0, 0, 0.15);\n",
              "    filter: drop-shadow(0px 1px 2px rgba(0, 0, 0, 0.3));\n",
              "    fill: #FFFFFF;\n",
              "  }\n",
              "</style>\n",
              "\n",
              "    <script>\n",
              "      async function quickchart(key) {\n",
              "        const containerElement = document.querySelector('#' + key);\n",
              "        const charts = await google.colab.kernel.invokeFunction(\n",
              "            'suggestCharts', [key], {});\n",
              "      }\n",
              "    </script>\n",
              "\n",
              "      <script>\n",
              "\n",
              "function displayQuickchartButton(domScope) {\n",
              "  let quickchartButtonEl =\n",
              "    domScope.querySelector('#df-13e0bc91-73c1-45c9-a942-f1518a7ecd81 button.colab-df-quickchart');\n",
              "  quickchartButtonEl.style.display =\n",
              "    google.colab.kernel.accessAllowed ? 'block' : 'none';\n",
              "}\n",
              "\n",
              "        displayQuickchartButton(document);\n",
              "      </script>\n",
              "      <style>\n",
              "    .colab-df-container {\n",
              "      display:flex;\n",
              "      flex-wrap:wrap;\n",
              "      gap: 12px;\n",
              "    }\n",
              "\n",
              "    .colab-df-convert {\n",
              "      background-color: #E8F0FE;\n",
              "      border: none;\n",
              "      border-radius: 50%;\n",
              "      cursor: pointer;\n",
              "      display: none;\n",
              "      fill: #1967D2;\n",
              "      height: 32px;\n",
              "      padding: 0 0 0 0;\n",
              "      width: 32px;\n",
              "    }\n",
              "\n",
              "    .colab-df-convert:hover {\n",
              "      background-color: #E2EBFA;\n",
              "      box-shadow: 0px 1px 2px rgba(60, 64, 67, 0.3), 0px 1px 3px 1px rgba(60, 64, 67, 0.15);\n",
              "      fill: #174EA6;\n",
              "    }\n",
              "\n",
              "    [theme=dark] .colab-df-convert {\n",
              "      background-color: #3B4455;\n",
              "      fill: #D2E3FC;\n",
              "    }\n",
              "\n",
              "    [theme=dark] .colab-df-convert:hover {\n",
              "      background-color: #434B5C;\n",
              "      box-shadow: 0px 1px 3px 1px rgba(0, 0, 0, 0.15);\n",
              "      filter: drop-shadow(0px 1px 2px rgba(0, 0, 0, 0.3));\n",
              "      fill: #FFFFFF;\n",
              "    }\n",
              "  </style>\n",
              "\n",
              "      <script>\n",
              "        const buttonEl =\n",
              "          document.querySelector('#df-889009ed-af96-4990-bb36-0210d06dc5e3 button.colab-df-convert');\n",
              "        buttonEl.style.display =\n",
              "          google.colab.kernel.accessAllowed ? 'block' : 'none';\n",
              "\n",
              "        async function convertToInteractive(key) {\n",
              "          const element = document.querySelector('#df-889009ed-af96-4990-bb36-0210d06dc5e3');\n",
              "          const dataTable =\n",
              "            await google.colab.kernel.invokeFunction('convertToInteractive',\n",
              "                                                     [key], {});\n",
              "          if (!dataTable) return;\n",
              "\n",
              "          const docLinkHtml = 'Like what you see? Visit the ' +\n",
              "            '<a target=\"_blank\" href=https://colab.research.google.com/notebooks/data_table.ipynb>data table notebook</a>'\n",
              "            + ' to learn more about interactive tables.';\n",
              "          element.innerHTML = '';\n",
              "          dataTable['output_type'] = 'display_data';\n",
              "          await google.colab.output.renderOutput(dataTable, element);\n",
              "          const docLink = document.createElement('div');\n",
              "          docLink.innerHTML = docLinkHtml;\n",
              "          element.appendChild(docLink);\n",
              "        }\n",
              "      </script>\n",
              "    </div>\n",
              "  </div>\n"
            ]
          },
          "metadata": {},
          "execution_count": 17
        }
      ],
      "source": [
        "candidates_df.head()"
      ]
    },
    {
      "cell_type": "code",
      "execution_count": null,
      "id": "5f51d43b",
      "metadata": {
        "id": "5f51d43b"
      },
      "outputs": [],
      "source": [
        "subset = 0"
      ]
    },
    {
      "cell_type": "code",
      "source": [
        "#rm 'subset0/'*.'done'         # Run this only if you want to delete the marking of the files that have allready been processed because you want to reprocess them."
      ],
      "metadata": {
        "id": "sNL5gCmYdJ1V"
      },
      "id": "sNL5gCmYdJ1V",
      "execution_count": null,
      "outputs": []
    },
    {
      "cell_type": "code",
      "execution_count": null,
      "id": "e981a80a",
      "metadata": {
        "colab": {
          "base_uri": "https://localhost:8080/"
        },
        "id": "e981a80a",
        "outputId": "fefb5152-97e2-45f3-a226-d695b9e83d0b"
      },
      "outputs": [
        {
          "output_type": "stream",
          "name": "stderr",
          "text": [
            "\r0it [00:00, ?it/s]"
          ]
        },
        {
          "output_type": "stream",
          "name": "stdout",
          "text": [
            "Is Done: True file: subset0/1.3.6.1.4.1.14519.5.2.1.6279.6001.105756658031515062000744821260.mhd\n",
            "Is Done: True file: subset0/1.3.6.1.4.1.14519.5.2.1.6279.6001.108197895896446896160048741492.mhd\n",
            "Is Done: True file: subset0/1.3.6.1.4.1.14519.5.2.1.6279.6001.109002525524522225658609808059.mhd\n",
            "Is Done: True file: subset0/1.3.6.1.4.1.14519.5.2.1.6279.6001.111172165674661221381920536987.mhd\n",
            "Is Done: False file: subset0/1.3.6.1.4.1.14519.5.2.1.6279.6001.122763913896761494371822656720.mhd\n"
          ]
        },
        {
          "output_type": "stream",
          "name": "stderr",
          "text": [
            "\r5it [00:12,  2.49s/it]"
          ]
        },
        {
          "output_type": "stream",
          "name": "stdout",
          "text": [
            "Is Done: False file: subset0/1.3.6.1.4.1.14519.5.2.1.6279.6001.124154461048929153767743874565.mhd\n"
          ]
        },
        {
          "output_type": "stream",
          "name": "stderr",
          "text": [
            "\r6it [00:25,  4.88s/it]"
          ]
        },
        {
          "output_type": "stream",
          "name": "stdout",
          "text": [
            "Is Done: False file: subset0/1.3.6.1.4.1.14519.5.2.1.6279.6001.126121460017257137098781143514.mhd\n"
          ]
        },
        {
          "output_type": "stream",
          "name": "stderr",
          "text": [
            "\r7it [00:33,  5.54s/it]"
          ]
        },
        {
          "output_type": "stream",
          "name": "stdout",
          "text": [
            "Is Done: False file: subset0/1.3.6.1.4.1.14519.5.2.1.6279.6001.126264578931778258890371755354.mhd\n"
          ]
        },
        {
          "output_type": "stream",
          "name": "stderr",
          "text": [
            "\r8it [00:44,  7.11s/it]"
          ]
        },
        {
          "output_type": "stream",
          "name": "stdout",
          "text": [
            "Is Done: False file: subset0/1.3.6.1.4.1.14519.5.2.1.6279.6001.128023902651233986592378348912.mhd\n"
          ]
        },
        {
          "output_type": "stream",
          "name": "stderr",
          "text": [
            "\r9it [00:54,  7.64s/it]"
          ]
        },
        {
          "output_type": "stream",
          "name": "stdout",
          "text": [
            "Is Done: False file: subset0/1.3.6.1.4.1.14519.5.2.1.6279.6001.129055977637338639741695800950.mhd\n"
          ]
        },
        {
          "output_type": "stream",
          "name": "stderr",
          "text": [
            "\r10it [01:02,  7.84s/it]"
          ]
        },
        {
          "output_type": "stream",
          "name": "stdout",
          "text": [
            "Is Done: False file: subset0/1.3.6.1.4.1.14519.5.2.1.6279.6001.130438550890816550994739120843.mhd\n"
          ]
        },
        {
          "output_type": "stream",
          "name": "stderr",
          "text": [
            "\r11it [01:13,  8.63s/it]"
          ]
        },
        {
          "output_type": "stream",
          "name": "stdout",
          "text": [
            "Is Done: False file: subset0/1.3.6.1.4.1.14519.5.2.1.6279.6001.134996872583497382954024478441.mhd\n"
          ]
        },
        {
          "output_type": "stream",
          "name": "stderr",
          "text": [
            "\r12it [01:20,  8.37s/it]"
          ]
        },
        {
          "output_type": "stream",
          "name": "stdout",
          "text": [
            "Is Done: False file: subset0/1.3.6.1.4.1.14519.5.2.1.6279.6001.137763212752154081977261297097.mhd\n"
          ]
        },
        {
          "output_type": "stream",
          "name": "stderr",
          "text": [
            "\r13it [01:26,  7.67s/it]"
          ]
        },
        {
          "output_type": "stream",
          "name": "stdout",
          "text": [
            "Is Done: False file: subset0/1.3.6.1.4.1.14519.5.2.1.6279.6001.138080888843357047811238713686.mhd\n"
          ]
        },
        {
          "output_type": "stream",
          "name": "stderr",
          "text": [
            "\r14it [01:36,  8.32s/it]"
          ]
        },
        {
          "output_type": "stream",
          "name": "stdout",
          "text": [
            "Is Done: False file: subset0/1.3.6.1.4.1.14519.5.2.1.6279.6001.139258777898746693365877042411.mhd\n"
          ]
        },
        {
          "output_type": "stream",
          "name": "stderr",
          "text": [
            "\r15it [01:44,  8.30s/it]"
          ]
        },
        {
          "output_type": "stream",
          "name": "stdout",
          "text": [
            "Is Done: False file: subset0/1.3.6.1.4.1.14519.5.2.1.6279.6001.139713436241461669335487719526.mhd\n"
          ]
        },
        {
          "output_type": "stream",
          "name": "stderr",
          "text": [
            "\r16it [01:58,  9.86s/it]"
          ]
        },
        {
          "output_type": "stream",
          "name": "stdout",
          "text": [
            "Is Done: False file: subset0/1.3.6.1.4.1.14519.5.2.1.6279.6001.141069661700670042960678408762.mhd\n"
          ]
        },
        {
          "output_type": "stream",
          "name": "stderr",
          "text": [
            "\r17it [02:10, 10.58s/it]"
          ]
        },
        {
          "output_type": "stream",
          "name": "stdout",
          "text": [
            "Is Done: False file: subset0/1.3.6.1.4.1.14519.5.2.1.6279.6001.144438612068946916340281098509.mhd\n"
          ]
        },
        {
          "output_type": "stream",
          "name": "stderr",
          "text": [
            "\r18it [02:19, 10.13s/it]"
          ]
        },
        {
          "output_type": "stream",
          "name": "stdout",
          "text": [
            "Is Done: False file: subset0/1.3.6.1.4.1.14519.5.2.1.6279.6001.146429221666426688999739595820.mhd\n"
          ]
        },
        {
          "output_type": "stream",
          "name": "stderr",
          "text": [
            "\r19it [02:27,  9.36s/it]"
          ]
        },
        {
          "output_type": "stream",
          "name": "stdout",
          "text": [
            "Is Done: False file: subset0/1.3.6.1.4.1.14519.5.2.1.6279.6001.154677396354641150280013275227.mhd\n"
          ]
        },
        {
          "output_type": "stream",
          "name": "stderr",
          "text": [
            "\r20it [02:32,  8.21s/it]"
          ]
        },
        {
          "output_type": "stream",
          "name": "stdout",
          "text": [
            "Is Done: False file: subset0/1.3.6.1.4.1.14519.5.2.1.6279.6001.187451715205085403623595258748.mhd\n"
          ]
        },
        {
          "output_type": "stream",
          "name": "stderr",
          "text": [
            "\r21it [02:37,  6.99s/it]"
          ]
        },
        {
          "output_type": "stream",
          "name": "stdout",
          "text": [
            "Is Done: False file: subset0/1.3.6.1.4.1.14519.5.2.1.6279.6001.188209889686363159853715266493.mhd\n"
          ]
        },
        {
          "output_type": "stream",
          "name": "stderr",
          "text": [
            "\r22it [02:41,  6.20s/it]"
          ]
        },
        {
          "output_type": "stream",
          "name": "stdout",
          "text": [
            "Is Done: False file: subset0/1.3.6.1.4.1.14519.5.2.1.6279.6001.188376349804761988217597754952.mhd\n"
          ]
        },
        {
          "output_type": "stream",
          "name": "stderr",
          "text": [
            "\r23it [02:49,  6.91s/it]"
          ]
        },
        {
          "output_type": "stream",
          "name": "stdout",
          "text": [
            "Is Done: False file: subset0/1.3.6.1.4.1.14519.5.2.1.6279.6001.194440094986948071643661798326.mhd\n"
          ]
        },
        {
          "output_type": "stream",
          "name": "stderr",
          "text": [
            "\r24it [02:56,  6.71s/it]"
          ]
        },
        {
          "output_type": "stream",
          "name": "stdout",
          "text": [
            "Is Done: False file: subset0/1.3.6.1.4.1.14519.5.2.1.6279.6001.194465340552956447447896167830.mhd\n"
          ]
        },
        {
          "output_type": "stream",
          "name": "stderr",
          "text": [
            "\r25it [03:03,  6.77s/it]"
          ]
        },
        {
          "output_type": "stream",
          "name": "stdout",
          "text": [
            "Is Done: False file: subset0/1.3.6.1.4.1.14519.5.2.1.6279.6001.202811684116768680758082619196.mhd\n"
          ]
        },
        {
          "output_type": "stream",
          "name": "stderr",
          "text": [
            "\r26it [03:12,  7.50s/it]"
          ]
        },
        {
          "output_type": "stream",
          "name": "stdout",
          "text": [
            "Is Done: False file: subset0/1.3.6.1.4.1.14519.5.2.1.6279.6001.210837812047373739447725050963.mhd\n"
          ]
        },
        {
          "output_type": "stream",
          "name": "stderr",
          "text": [
            "\r27it [03:19,  7.40s/it]"
          ]
        },
        {
          "output_type": "stream",
          "name": "stdout",
          "text": [
            "Is Done: False file: subset0/1.3.6.1.4.1.14519.5.2.1.6279.6001.213140617640021803112060161074.mhd\n"
          ]
        },
        {
          "output_type": "stream",
          "name": "stderr",
          "text": [
            "\r28it [03:28,  7.82s/it]"
          ]
        },
        {
          "output_type": "stream",
          "name": "stdout",
          "text": [
            "Is Done: False file: subset0/1.3.6.1.4.1.14519.5.2.1.6279.6001.216882370221919561230873289517.mhd\n"
          ]
        },
        {
          "output_type": "stream",
          "name": "stderr",
          "text": [
            "\r29it [03:33,  7.02s/it]"
          ]
        },
        {
          "output_type": "stream",
          "name": "stdout",
          "text": [
            "Is Done: False file: subset0/1.3.6.1.4.1.14519.5.2.1.6279.6001.219087313261026510628926082729.mhd\n"
          ]
        },
        {
          "output_type": "stream",
          "name": "stderr",
          "text": [
            "\r30it [03:45,  8.48s/it]"
          ]
        },
        {
          "output_type": "stream",
          "name": "stdout",
          "text": [
            "Is Done: False file: subset0/1.3.6.1.4.1.14519.5.2.1.6279.6001.219909753224298157409438012179.mhd\n"
          ]
        },
        {
          "output_type": "stream",
          "name": "stderr",
          "text": [
            "\r31it [03:56,  9.31s/it]"
          ]
        },
        {
          "output_type": "stream",
          "name": "stdout",
          "text": [
            "Is Done: False file: subset0/1.3.6.1.4.1.14519.5.2.1.6279.6001.227962600322799211676960828223.mhd\n"
          ]
        },
        {
          "output_type": "stream",
          "name": "stderr",
          "text": [
            "\r32it [04:01,  8.04s/it]"
          ]
        },
        {
          "output_type": "stream",
          "name": "stdout",
          "text": [
            "Is Done: False file: subset0/1.3.6.1.4.1.14519.5.2.1.6279.6001.231645134739451754302647733304.mhd\n"
          ]
        },
        {
          "output_type": "stream",
          "name": "stderr",
          "text": [
            "\r33it [04:10,  8.27s/it]"
          ]
        },
        {
          "output_type": "stream",
          "name": "stdout",
          "text": [
            "Is Done: False file: subset0/1.3.6.1.4.1.14519.5.2.1.6279.6001.238522526736091851696274044574.mhd\n"
          ]
        },
        {
          "output_type": "stream",
          "name": "stderr",
          "text": [
            "\r34it [04:15,  7.35s/it]"
          ]
        },
        {
          "output_type": "stream",
          "name": "stdout",
          "text": [
            "Is Done: False file: subset0/1.3.6.1.4.1.14519.5.2.1.6279.6001.241570579760883349458693655367.mhd\n"
          ]
        },
        {
          "output_type": "stream",
          "name": "stderr",
          "text": [
            "\r35it [04:30,  9.73s/it]"
          ]
        },
        {
          "output_type": "stream",
          "name": "stdout",
          "text": [
            "Is Done: False file: subset0/1.3.6.1.4.1.14519.5.2.1.6279.6001.249530219848512542668813996730.mhd\n"
          ]
        },
        {
          "output_type": "stream",
          "name": "stderr",
          "text": [
            "\r36it [04:39,  9.48s/it]"
          ]
        },
        {
          "output_type": "stream",
          "name": "stdout",
          "text": [
            "Is Done: False file: subset0/1.3.6.1.4.1.14519.5.2.1.6279.6001.250438451287314206124484591986.mhd\n"
          ]
        },
        {
          "output_type": "stream",
          "name": "stderr",
          "text": [
            "\r37it [04:45,  8.45s/it]"
          ]
        },
        {
          "output_type": "stream",
          "name": "stdout",
          "text": [
            "Is Done: False file: subset0/1.3.6.1.4.1.14519.5.2.1.6279.6001.250863365157630276148828903732.mhd\n"
          ]
        },
        {
          "output_type": "stream",
          "name": "stderr",
          "text": [
            "\r38it [04:59,  9.94s/it]"
          ]
        },
        {
          "output_type": "stream",
          "name": "stdout",
          "text": [
            "Is Done: False file: subset0/1.3.6.1.4.1.14519.5.2.1.6279.6001.269689294231892620436462818860.mhd\n"
          ]
        },
        {
          "output_type": "stream",
          "name": "stderr",
          "text": [
            "\r39it [05:07,  9.56s/it]"
          ]
        },
        {
          "output_type": "stream",
          "name": "stdout",
          "text": [
            "Is Done: False file: subset0/1.3.6.1.4.1.14519.5.2.1.6279.6001.272042302501586336192628818865.mhd\n"
          ]
        },
        {
          "output_type": "stream",
          "name": "stderr",
          "text": [
            "\r40it [05:14,  8.60s/it]"
          ]
        },
        {
          "output_type": "stream",
          "name": "stdout",
          "text": [
            "Is Done: False file: subset0/1.3.6.1.4.1.14519.5.2.1.6279.6001.277445975068759205899107114231.mhd\n"
          ]
        },
        {
          "output_type": "stream",
          "name": "stderr",
          "text": [
            "\r41it [05:20,  7.97s/it]"
          ]
        },
        {
          "output_type": "stream",
          "name": "stdout",
          "text": [
            "Is Done: False file: subset0/1.3.6.1.4.1.14519.5.2.1.6279.6001.278660284797073139172446973682.mhd\n"
          ]
        },
        {
          "output_type": "stream",
          "name": "stderr",
          "text": [
            "\r42it [05:27,  7.58s/it]"
          ]
        },
        {
          "output_type": "stream",
          "name": "stdout",
          "text": [
            "Is Done: False file: subset0/1.3.6.1.4.1.14519.5.2.1.6279.6001.280972147860943609388015648430.mhd\n"
          ]
        },
        {
          "output_type": "stream",
          "name": "stderr",
          "text": [
            "\r43it [05:36,  8.00s/it]"
          ]
        },
        {
          "output_type": "stream",
          "name": "stdout",
          "text": [
            "Is Done: False file: subset0/1.3.6.1.4.1.14519.5.2.1.6279.6001.281489753704424911132261151767.mhd\n"
          ]
        },
        {
          "output_type": "stream",
          "name": "stderr",
          "text": [
            "\r44it [05:46,  8.75s/it]"
          ]
        },
        {
          "output_type": "stream",
          "name": "stdout",
          "text": [
            "Is Done: False file: subset0/1.3.6.1.4.1.14519.5.2.1.6279.6001.293757615532132808762625441831.mhd\n"
          ]
        },
        {
          "output_type": "stream",
          "name": "stderr",
          "text": [
            "\r45it [05:56,  9.12s/it]"
          ]
        },
        {
          "output_type": "stream",
          "name": "stdout",
          "text": [
            "Is Done: False file: subset0/1.3.6.1.4.1.14519.5.2.1.6279.6001.294188507421106424248264912111.mhd\n"
          ]
        },
        {
          "output_type": "stream",
          "name": "stderr",
          "text": [
            "\r46it [06:05,  9.01s/it]"
          ]
        },
        {
          "output_type": "stream",
          "name": "stdout",
          "text": [
            "Is Done: False file: subset0/1.3.6.1.4.1.14519.5.2.1.6279.6001.295298571102631191572192562523.mhd\n"
          ]
        },
        {
          "output_type": "stream",
          "name": "stderr",
          "text": [
            "\r47it [06:13,  8.71s/it]"
          ]
        },
        {
          "output_type": "stream",
          "name": "stdout",
          "text": [
            "Is Done: False file: subset0/1.3.6.1.4.1.14519.5.2.1.6279.6001.295420274214095686326263147663.mhd\n"
          ]
        },
        {
          "output_type": "stream",
          "name": "stderr",
          "text": [
            "\r48it [06:29, 10.73s/it]"
          ]
        },
        {
          "output_type": "stream",
          "name": "stdout",
          "text": [
            "Is Done: False file: subset0/1.3.6.1.4.1.14519.5.2.1.6279.6001.302134342469412607966016057827.mhd\n"
          ]
        },
        {
          "output_type": "stream",
          "name": "stderr",
          "text": [
            "\r49it [06:38, 10.36s/it]"
          ]
        },
        {
          "output_type": "stream",
          "name": "stdout",
          "text": [
            "Is Done: False file: subset0/1.3.6.1.4.1.14519.5.2.1.6279.6001.303421828981831854739626597495.mhd\n"
          ]
        },
        {
          "output_type": "stream",
          "name": "stderr",
          "text": [
            "\r50it [06:45,  9.39s/it]"
          ]
        },
        {
          "output_type": "stream",
          "name": "stdout",
          "text": [
            "Is Done: False file: subset0/1.3.6.1.4.1.14519.5.2.1.6279.6001.305858704835252413616501469037.mhd\n"
          ]
        },
        {
          "output_type": "stream",
          "name": "stderr",
          "text": [
            "\r51it [06:57, 10.20s/it]"
          ]
        },
        {
          "output_type": "stream",
          "name": "stdout",
          "text": [
            "Is Done: False file: subset0/1.3.6.1.4.1.14519.5.2.1.6279.6001.310548927038333190233889983845.mhd\n"
          ]
        },
        {
          "output_type": "stream",
          "name": "stderr",
          "text": [
            "\r52it [07:07, 10.03s/it]"
          ]
        },
        {
          "output_type": "stream",
          "name": "stdout",
          "text": [
            "Is Done: False file: subset0/1.3.6.1.4.1.14519.5.2.1.6279.6001.310626494937915759224334597176.mhd\n"
          ]
        },
        {
          "output_type": "stream",
          "name": "stderr",
          "text": [
            "\r53it [07:14,  9.02s/it]"
          ]
        },
        {
          "output_type": "stream",
          "name": "stdout",
          "text": [
            "Is Done: False file: subset0/1.3.6.1.4.1.14519.5.2.1.6279.6001.311981398931043315779172047718.mhd\n"
          ]
        },
        {
          "output_type": "stream",
          "name": "stderr",
          "text": [
            "\r54it [07:27, 10.18s/it]"
          ]
        },
        {
          "output_type": "stream",
          "name": "stdout",
          "text": [
            "Is Done: False file: subset0/1.3.6.1.4.1.14519.5.2.1.6279.6001.313334055029671473836954456733.mhd\n"
          ]
        },
        {
          "output_type": "stream",
          "name": "stderr",
          "text": [
            "\r55it [07:38, 10.59s/it]"
          ]
        },
        {
          "output_type": "stream",
          "name": "stdout",
          "text": [
            "Is Done: False file: subset0/1.3.6.1.4.1.14519.5.2.1.6279.6001.313605260055394498989743099991.mhd\n"
          ]
        },
        {
          "output_type": "stream",
          "name": "stderr",
          "text": [
            "\r56it [07:48, 10.28s/it]"
          ]
        },
        {
          "output_type": "stream",
          "name": "stdout",
          "text": [
            "Is Done: False file: subset0/1.3.6.1.4.1.14519.5.2.1.6279.6001.313835996725364342034830119490.mhd\n"
          ]
        },
        {
          "output_type": "stream",
          "name": "stderr",
          "text": [
            "\r57it [08:00, 11.05s/it]"
          ]
        },
        {
          "output_type": "stream",
          "name": "stdout",
          "text": [
            "Is Done: False file: subset0/1.3.6.1.4.1.14519.5.2.1.6279.6001.317087518531899043292346860596.mhd\n"
          ]
        },
        {
          "output_type": "stream",
          "name": "stderr",
          "text": [
            "\r58it [08:12, 11.33s/it]"
          ]
        },
        {
          "output_type": "stream",
          "name": "stdout",
          "text": [
            "Is Done: False file: subset0/1.3.6.1.4.1.14519.5.2.1.6279.6001.323302986710576400812869264321.mhd\n"
          ]
        },
        {
          "output_type": "stream",
          "name": "stderr",
          "text": [
            "\r59it [08:21, 10.35s/it]"
          ]
        },
        {
          "output_type": "stream",
          "name": "stdout",
          "text": [
            "Is Done: False file: subset0/1.3.6.1.4.1.14519.5.2.1.6279.6001.323859712968543712594665815359.mhd\n"
          ]
        },
        {
          "output_type": "stream",
          "name": "stderr",
          "text": [
            "\r60it [08:27,  9.20s/it]"
          ]
        },
        {
          "output_type": "stream",
          "name": "stdout",
          "text": [
            "Is Done: False file: subset0/1.3.6.1.4.1.14519.5.2.1.6279.6001.332453873575389860371315979768.mhd\n"
          ]
        },
        {
          "output_type": "stream",
          "name": "stderr",
          "text": [
            "\r61it [08:37,  9.38s/it]"
          ]
        },
        {
          "output_type": "stream",
          "name": "stdout",
          "text": [
            "Is Done: False file: subset0/1.3.6.1.4.1.14519.5.2.1.6279.6001.333145094436144085379032922488.mhd\n"
          ]
        },
        {
          "output_type": "stream",
          "name": "stderr",
          "text": [
            "\r62it [08:48, 10.06s/it]"
          ]
        },
        {
          "output_type": "stream",
          "name": "stdout",
          "text": [
            "Is Done: False file: subset0/1.3.6.1.4.1.14519.5.2.1.6279.6001.334517907433161353885866806005.mhd\n"
          ]
        },
        {
          "output_type": "stream",
          "name": "stderr",
          "text": [
            "\r63it [09:02, 11.23s/it]"
          ]
        },
        {
          "output_type": "stream",
          "name": "stdout",
          "text": [
            "Is Done: False file: subset0/1.3.6.1.4.1.14519.5.2.1.6279.6001.395623571499047043765181005112.mhd\n"
          ]
        },
        {
          "output_type": "stream",
          "name": "stderr",
          "text": [
            "\r64it [09:12, 10.77s/it]"
          ]
        },
        {
          "output_type": "stream",
          "name": "stdout",
          "text": [
            "Is Done: False file: subset0/1.3.6.1.4.1.14519.5.2.1.6279.6001.397062004302272014259317520874.mhd\n"
          ]
        },
        {
          "output_type": "stream",
          "name": "stderr",
          "text": [
            "\r65it [09:21, 10.13s/it]"
          ]
        },
        {
          "output_type": "stream",
          "name": "stdout",
          "text": [
            "Is Done: False file: subset0/1.3.6.1.4.1.14519.5.2.1.6279.6001.404364125369979066736354549484.mhd\n"
          ]
        },
        {
          "output_type": "stream",
          "name": "stderr",
          "text": [
            "\r66it [09:26,  8.69s/it]"
          ]
        },
        {
          "output_type": "stream",
          "name": "stdout",
          "text": [
            "Is Done: False file: subset0/1.3.6.1.4.1.14519.5.2.1.6279.6001.417815314896088956784723476543.mhd\n"
          ]
        },
        {
          "output_type": "stream",
          "name": "stderr",
          "text": [
            "\r67it [09:38,  9.58s/it]"
          ]
        },
        {
          "output_type": "stream",
          "name": "stdout",
          "text": [
            "Is Done: False file: subset0/1.3.6.1.4.1.14519.5.2.1.6279.6001.430109407146633213496148200410.mhd\n"
          ]
        },
        {
          "output_type": "stream",
          "name": "stderr",
          "text": [
            "\r68it [09:48,  9.87s/it]"
          ]
        },
        {
          "output_type": "stream",
          "name": "stdout",
          "text": [
            "Is Done: False file: subset0/1.3.6.1.4.1.14519.5.2.1.6279.6001.450501966058662668272378865145.mhd\n"
          ]
        },
        {
          "output_type": "stream",
          "name": "stderr",
          "text": [
            "\r69it [10:00, 10.33s/it]"
          ]
        },
        {
          "output_type": "stream",
          "name": "stdout",
          "text": [
            "Is Done: False file: subset0/1.3.6.1.4.1.14519.5.2.1.6279.6001.511347030803753100045216493273.mhd\n"
          ]
        },
        {
          "output_type": "stream",
          "name": "stderr",
          "text": [
            "71it [10:20,  9.28s/it]"
          ]
        },
        {
          "output_type": "stream",
          "name": "stdout",
          "text": [
            "Is Done: False file: subset0/1.3.6.1.4.1.14519.5.2.1.6279.6001.525937963993475482158828421281.mhd\n",
            "An error occurred while trying to read the image in file: subset0/1.3.6.1.4.1.14519.5.2.1.6279.6001.525937963993475482158828421281.mhd\n",
            "Exception thrown in SimpleITK ImageFileReader_Execute: /tmp/SimpleITK-build/ITK/Modules/IO/Meta/src/itkMetaImageIO.cxx:483:\n",
            "ITK ERROR: MetaImageIO(0x5caaa2bd3cd0): File cannot be read: subset0/1.3.6.1.4.1.14519.5.2.1.6279.6001.525937963993475482158828421281.mhd for reading.\n",
            "Reason: No such file or directory\n",
            "Is Done: False file: subset0/1.3.6.1.4.1.14519.5.2.1.6279.6001.534006575256943390479252771547.mhd\n"
          ]
        },
        {
          "output_type": "stream",
          "name": "stderr",
          "text": [
            "\r72it [10:33, 10.44s/it]"
          ]
        },
        {
          "output_type": "stream",
          "name": "stdout",
          "text": [
            "Is Done: False file: subset0/1.3.6.1.4.1.14519.5.2.1.6279.6001.534083630500464995109143618896.mhd\n"
          ]
        },
        {
          "output_type": "stream",
          "name": "stderr",
          "text": [
            "\r73it [10:39,  9.04s/it]"
          ]
        },
        {
          "output_type": "stream",
          "name": "stdout",
          "text": [
            "Is Done: False file: subset0/1.3.6.1.4.1.14519.5.2.1.6279.6001.564534197011295112247542153557.mhd\n"
          ]
        },
        {
          "output_type": "stream",
          "name": "stderr",
          "text": [
            "\r74it [10:50,  9.73s/it]"
          ]
        },
        {
          "output_type": "stream",
          "name": "stdout",
          "text": [
            "Is Done: False file: subset0/1.3.6.1.4.1.14519.5.2.1.6279.6001.566816709786169715745131047975.mhd\n"
          ]
        },
        {
          "output_type": "stream",
          "name": "stderr",
          "text": [
            "\r75it [10:50,  6.89s/it]"
          ]
        },
        {
          "output_type": "stream",
          "name": "stdout",
          "text": [
            "An error occurred while trying to read the image in file: subset0/1.3.6.1.4.1.14519.5.2.1.6279.6001.566816709786169715745131047975.mhd\n",
            "Exception thrown in SimpleITK ImageFileReader_Execute: /tmp/SimpleITK-build/ITK/Modules/IO/Meta/src/itkMetaImageIO.cxx:483:\n",
            "ITK ERROR: MetaImageIO(0x5caaa2bd3cd0): File cannot be read: subset0/1.3.6.1.4.1.14519.5.2.1.6279.6001.566816709786169715745131047975.mhd for reading.\n",
            "Reason: No such file or directory\n",
            "Is Done: False file: subset0/1.3.6.1.4.1.14519.5.2.1.6279.6001.621916089407825046337959219998.mhd\n"
          ]
        },
        {
          "output_type": "stream",
          "name": "stderr",
          "text": [
            "\r76it [11:00,  7.77s/it]"
          ]
        },
        {
          "output_type": "stream",
          "name": "stdout",
          "text": [
            "Is Done: False file: subset0/1.3.6.1.4.1.14519.5.2.1.6279.6001.640729228179368154416184318668.mhd\n"
          ]
        },
        {
          "output_type": "stream",
          "name": "stderr",
          "text": [
            "\r77it [11:09,  8.09s/it]"
          ]
        },
        {
          "output_type": "stream",
          "name": "stdout",
          "text": [
            "Is Done: False file: subset0/1.3.6.1.4.1.14519.5.2.1.6279.6001.657775098760536289051744981056.mhd\n"
          ]
        },
        {
          "output_type": "stream",
          "name": "stderr",
          "text": [
            "\r78it [11:18,  8.26s/it]"
          ]
        },
        {
          "output_type": "stream",
          "name": "stdout",
          "text": [
            "Is Done: False file: subset0/1.3.6.1.4.1.14519.5.2.1.6279.6001.716498695101447665580610403574.mhd\n"
          ]
        },
        {
          "output_type": "stream",
          "name": "stderr",
          "text": [
            "\r79it [11:27,  8.72s/it]"
          ]
        },
        {
          "output_type": "stream",
          "name": "stdout",
          "text": [
            "Is Done: False file: subset0/1.3.6.1.4.1.14519.5.2.1.6279.6001.724251104254976962355686318345.mhd\n"
          ]
        },
        {
          "output_type": "stream",
          "name": "stderr",
          "text": [
            "\r80it [11:39,  9.47s/it]"
          ]
        },
        {
          "output_type": "stream",
          "name": "stdout",
          "text": [
            "Is Done: False file: subset0/1.3.6.1.4.1.14519.5.2.1.6279.6001.752756872840730509471096155114.mhd\n"
          ]
        },
        {
          "output_type": "stream",
          "name": "stderr",
          "text": [
            "\r81it [11:50, 10.02s/it]"
          ]
        },
        {
          "output_type": "stream",
          "name": "stdout",
          "text": [
            "Is Done: False file: subset0/1.3.6.1.4.1.14519.5.2.1.6279.6001.805925269324902055566754756843.mhd\n"
          ]
        },
        {
          "output_type": "stream",
          "name": "stderr",
          "text": [
            "\r82it [11:58,  9.33s/it]"
          ]
        },
        {
          "output_type": "stream",
          "name": "stdout",
          "text": [
            "Is Done: False file: subset0/1.3.6.1.4.1.14519.5.2.1.6279.6001.826812708000318290301835871780.mhd\n"
          ]
        },
        {
          "output_type": "stream",
          "name": "stderr",
          "text": [
            "\r83it [12:07,  9.34s/it]"
          ]
        },
        {
          "output_type": "stream",
          "name": "stdout",
          "text": [
            "Is Done: False file: subset0/1.3.6.1.4.1.14519.5.2.1.6279.6001.832260670372728970918746541371.mhd\n"
          ]
        },
        {
          "output_type": "stream",
          "name": "stderr",
          "text": [
            "\r84it [12:13,  8.21s/it]"
          ]
        },
        {
          "output_type": "stream",
          "name": "stdout",
          "text": [
            "Is Done: False file: subset0/1.3.6.1.4.1.14519.5.2.1.6279.6001.868211851413924881662621747734.mhd\n"
          ]
        },
        {
          "output_type": "stream",
          "name": "stderr",
          "text": [
            "\r85it [12:22,  8.70s/it]"
          ]
        },
        {
          "output_type": "stream",
          "name": "stdout",
          "text": [
            "Is Done: False file: subset0/1.3.6.1.4.1.14519.5.2.1.6279.6001.898642529028521482602829374444.mhd\n"
          ]
        },
        {
          "output_type": "stream",
          "name": "stderr",
          "text": [
            "\r86it [12:32,  8.90s/it]"
          ]
        },
        {
          "output_type": "stream",
          "name": "stdout",
          "text": [
            "Is Done: False file: subset0/1.3.6.1.4.1.14519.5.2.1.6279.6001.905371958588660410240398317235.mhd\n"
          ]
        },
        {
          "output_type": "stream",
          "name": "stderr",
          "text": [
            "\r87it [12:44,  9.97s/it]"
          ]
        },
        {
          "output_type": "stream",
          "name": "stdout",
          "text": [
            "Is Done: False file: subset0/1.3.6.1.4.1.14519.5.2.1.6279.6001.975254950136384517744116790879.mhd\n"
          ]
        },
        {
          "output_type": "stream",
          "name": "stderr",
          "text": [
            "\r88it [12:56, 10.55s/it]"
          ]
        },
        {
          "output_type": "stream",
          "name": "stdout",
          "text": [
            "Is Done: False file: subset0/1.3.6.1.4.1.14519.5.2.1.6279.6001.979083010707182900091062408058.mhd\n"
          ]
        },
        {
          "output_type": "stream",
          "name": "stderr",
          "text": [
            "89it [13:07,  8.85s/it]\n"
          ]
        }
      ],
      "source": [
        "##Loads the *.mhd files and Classifies them based on the Candidates file info\n",
        "##Slices out the candidate section into a 512X512 image\n",
        "## If its a candidate applies image transformations and saves to files to nodual directory\n",
        "## if not a candidate writes it to the non-nodule-initial directory.\n",
        "\n",
        "clahe = cv2.createCLAHE(clipLimit=2.0, tileGridSize=(8,8))  # CLAHE(Contrast Limited Adaptive Histogram Equalization) filter for enhancing the contrast of an image\n",
        "for i,file in tqdm(enumerate(np.unique(candidates_df['filename'].values))):\n",
        "    candidates = candidates_df[candidates_df[\"filename\"]==file]\n",
        "    done_flag = is_done(file)\n",
        "\n",
        "    print('Is Done:', done_flag, 'file:',file)\n",
        "    if os.path.exists(file) and not done_flag:\n",
        "        try:\n",
        "          ct, origin, space = load_mhd(file)\n",
        "          num_z, height, width = ct.shape\n",
        "          ct_norm = cv2.normalize(ct, None, 0, 255, cv2.NORM_MINMAX)\n",
        "          for idx, row in candidates.iterrows():\n",
        "              node_x = int(row[\"coordX\"])     # x-coordinate of the candidate\n",
        "              node_y = int(row[\"coordY\"])     # y-coordinate of the candidate\n",
        "              node_z = int(row[\"coordZ\"])     # z-coordinate of the candidate\n",
        "              c = int(row[\"class\"])           # class of the candidate (1: nodule, 0: non-nodule)\n",
        "\n",
        "              center = np.array([node_x, node_y, node_z])   # nodule center\n",
        "              v_center = np.rint((center-origin)/space)   # nodule center in voxel space (still x,y,z ordering)\n",
        "\n",
        "              img_norm = ct_norm[int(v_center[2]),:,:]    # a slice of the CT scan containing the candidate\n",
        "              img_norm = cv2.resize(img_norm, (512,512))  # resize the image to 512x512\n",
        "              img_norm_improved = clahe.apply(img_norm.astype(np.uint8))  # apply CLAHE filter to the image\n",
        "\n",
        "              x=abs(int(v_center[0]))\n",
        "              y=abs(int(v_center[1]))\n",
        "              box = img_norm_improved[max(0,y-25):min(y+25,512),max(0,x-25):min(x+25,512)]    # extract a box of size 25x25 around the candidate\n",
        "              if box.shape != (50,50):\n",
        "                  box = cv2.resize(box, (50,50))\n",
        "\n",
        "              if c:  # if the candidate is a nodule\n",
        "                  # applying different image transformations to increase the number of nodule candidates\n",
        "                  cv2.imwrite(os.path.join(target_root+\"nodule/\", f\"candidate_{subset}_{c}_{idx}.jpg\"),box)\n",
        "                  cv2.imwrite(os.path.join(target_root+\"nodule/\", f\"candidate_{subset}_{c}_{idx}_1.jpg\"),cv2.rotate(box,cv2.ROTATE_90_CLOCKWISE))\n",
        "                  cv2.imwrite(os.path.join(target_root+\"nodule/\", f\"candidate_{subset}_{c}_{idx}_2.jpg\"),cv2.rotate(box, cv2.ROTATE_90_COUNTERCLOCKWISE))\n",
        "                  cv2.imwrite(os.path.join(target_root+\"nodule/\", f\"candidate_{subset}_{c}_{idx}_3.jpg\"),cv2.rotate(box, cv2.ROTATE_180))\n",
        "                  cv2.imwrite(os.path.join(target_root+\"nodule/\", f\"candidate_{subset}_{c}_{idx}_4.jpg\"),cv2.flip(box, 1))\n",
        "              else:  # if the candidate is not a nodule\n",
        "                  cv2.imwrite(os.path.join(target_root+\"non-nodule-initial/\", f\"candidate_{subset}_{c}_{idx}.jpg\"),box)\n",
        "          mark_done(file)\n",
        "        except RuntimeError as error:\n",
        "          print(\"An error occurred while trying to read the image in file:\",file )\n",
        "          print(str(error))\n"
      ]
    },
    {
      "cell_type": "code",
      "execution_count": null,
      "id": "b8e1e4ea",
      "metadata": {
        "id": "b8e1e4ea"
      },
      "outputs": [],
      "source": [
        "import random\n",
        "import os\n",
        "import shutil\n",
        "from tqdm import tqdm"
      ]
    },
    {
      "cell_type": "code",
      "execution_count": null,
      "id": "37bc3ab2",
      "metadata": {
        "id": "37bc3ab2"
      },
      "outputs": [],
      "source": [
        "root = \"FPRProcessedData/non-nodule-initial/\"\n",
        "target = \"FPRProcessedData/non-nodule/\""
      ]
    },
    {
      "cell_type": "code",
      "execution_count": null,
      "id": "fc0fe4ac",
      "metadata": {
        "id": "fc0fe4ac"
      },
      "outputs": [],
      "source": [
        "# sometimes this fails with error, Not sure why but just run it again if it does.\n",
        "filelist = os.listdir(root)\n"
      ]
    },
    {
      "cell_type": "code",
      "execution_count": null,
      "id": "d7001ec4",
      "metadata": {
        "id": "d7001ec4"
      },
      "outputs": [],
      "source": [
        "filelist_count = len(filelist)"
      ]
    },
    {
      "cell_type": "code",
      "execution_count": null,
      "id": "84b5442a",
      "metadata": {
        "id": "84b5442a"
      },
      "outputs": [],
      "source": [
        "filelist_count"
      ]
    },
    {
      "cell_type": "code",
      "execution_count": null,
      "id": "dcd6eeea",
      "metadata": {
        "id": "dcd6eeea"
      },
      "outputs": [],
      "source": [
        "# Number of non nodule images is too high compared to the number of nodule images.\n",
        "# Therefore, we will use only filelist_limit non nodule images.(original 10000)\n",
        "filelist_limit = 10000\n",
        "finalfiles = filelist[:filelist_limit]\n",
        "for file in tqdm(finalfiles, total=filelist_limit):\n",
        "    s = root+file\n",
        "    d = target+file\n",
        "    shutil.copy(s,d)\n"
      ]
    },
    {
      "cell_type": "code",
      "execution_count": null,
      "id": "5095e7c5",
      "metadata": {
        "scrolled": true,
        "id": "5095e7c5"
      },
      "outputs": [],
      "source": [
        "\n",
        "nodule_files = os.listdir(\"FPRProcessedData/nodule/\")\n",
        "non_nodule_files = os.listdir(\"FPRProcessedData/non-nodule/\")\n"
      ]
    },
    {
      "cell_type": "code",
      "source": [],
      "metadata": {
        "colab": {
          "base_uri": "https://localhost:8080/"
        },
        "id": "ZJXC652oFSDR",
        "outputId": "22bbe5fa-fb6f-42b3-f35e-e82ff2dc3e15"
      },
      "id": "ZJXC652oFSDR",
      "execution_count": null,
      "outputs": [
        {
          "output_type": "execute_result",
          "data": {
            "text/plain": [
              "20000"
            ]
          },
          "metadata": {},
          "execution_count": 13
        }
      ]
    },
    {
      "cell_type": "code",
      "execution_count": null,
      "id": "3add8109",
      "metadata": {
        "id": "3add8109"
      },
      "outputs": [],
      "source": [
        "random.shuffle(nodule_files)\n",
        "random.shuffle(non_nodule_files)\n"
      ]
    },
    {
      "cell_type": "code",
      "execution_count": null,
      "id": "2d6cb64f",
      "metadata": {
        "id": "2d6cb64f"
      },
      "outputs": [],
      "source": [
        "n = len(nodule_files)\n",
        "split = int(0.75*n)\n",
        "for i in nodule_files[:split]:\n",
        "    shutil.copy(f\"FPRProcessedData/nodule/{i}\", f\"FPRDataset/train/nodule/{i}\")\n",
        "for i in nodule_files[split:]:\n",
        "    shutil.copy(f\"FPRProcessedData/nodule/{i}\", f\"FPRDataset/test/nodule/{i}\")\n"
      ]
    },
    {
      "cell_type": "code",
      "execution_count": null,
      "id": "66842c75",
      "metadata": {
        "id": "66842c75"
      },
      "outputs": [],
      "source": [
        "n = len(non_nodule_files)\n",
        "split = int(0.75*n)\n",
        "for i in non_nodule_files[:split]:\n",
        "    shutil.copy(f\"FPRProcessedData/non-nodule/{i}\", f\"FPRDataset/train/non-nodule/{i}\")\n",
        "for i in non_nodule_files[split:]:\n",
        "    shutil.copy(f\"FPRProcessedData/non-nodule/{i}\", f\"FPRDataset/test/non-nodule/{i}\")\n"
      ]
    },
    {
      "cell_type": "markdown",
      "source": [
        "---\n",
        "Prep Training Data\n",
        "\n",
        "---\n",
        "This area preps the data varables to be used by the models for training"
      ],
      "metadata": {
        "id": "taClpvBcE1ji"
      },
      "id": "taClpvBcE1ji"
    },
    {
      "cell_type": "code",
      "execution_count": null,
      "id": "d349da06",
      "metadata": {
        "id": "d349da06"
      },
      "outputs": [],
      "source": [
        "import os\n",
        "import numpy as np\n",
        "import tensorflow as tf\n",
        "import matplotlib.pyplot as plt\n",
        "from keras.layers import Conv2D, MaxPool2D, Dense, Dropout, Input, Flatten\n",
        "from keras.models import Model\n",
        "from keras.callbacks import ModelCheckpoint\n",
        "from keras.preprocessing.image import ImageDataGenerator\n",
        "from IPython.display import clear_output\n"
      ]
    },
    {
      "cell_type": "code",
      "execution_count": null,
      "id": "36a89d26",
      "metadata": {
        "id": "36a89d26",
        "colab": {
          "base_uri": "https://localhost:8080/"
        },
        "outputId": "734704c0-58c9-4ee0-ac80-4d21d00b6abe"
      },
      "outputs": [
        {
          "output_type": "stream",
          "name": "stdout",
          "text": [
            "Found 560 images belonging to 2 classes.\n",
            "Found 9091 images belonging to 2 classes.\n"
          ]
        }
      ],
      "source": [
        "BATCH_SIZE = 10\n",
        "generator = ImageDataGenerator(rescale=1./255)\n",
        "trainData = generator.flow_from_directory(\n",
        "    \"FPRDataset/train\",\n",
        "    target_size=(50,50),\n",
        "    batch_size=BATCH_SIZE,\n",
        "    color_mode='grayscale',\n",
        "    class_mode='binary'\n",
        ")\n",
        "testData = generator.flow_from_directory(\n",
        "    \"FPRDataset/test\",\n",
        "    target_size=(50,50),\n",
        "    batch_size=BATCH_SIZE,\n",
        "    color_mode='grayscale',\n",
        "    class_mode='binary'\n",
        ")"
      ]
    },
    {
      "cell_type": "markdown",
      "source": [
        "---\n",
        "Build the Models\n",
        "\n",
        "---"
      ],
      "metadata": {
        "id": "BSCm67CVc8N8"
      },
      "id": "BSCm67CVc8N8"
    },
    {
      "cell_type": "code",
      "execution_count": null,
      "id": "6f1e7ccd",
      "metadata": {
        "id": "6f1e7ccd"
      },
      "outputs": [],
      "source": [
        "#weight_path=\"CNN-checkpoint-{epoch:03d}-{val_loss:.3f}.hdf5\"\n",
        "weight_path=\"CNN-checkpoint.hdf5\"\n",
        "modelcheckpoint = ModelCheckpoint(weight_path, monitor='val_loss', verbose=1, save_best_only=True, save_weights_only=True, mode='min')"
      ]
    },
    {
      "cell_type": "raw",
      "id": "36e54323",
      "metadata": {
        "id": "36e54323"
      },
      "source": [
        "def get_model():\n",
        "  input = Input(shape=(50,50,1))\n",
        "  x = Conv2D(50, (3,3), activation='relu')(input)\n",
        "  x = MaxPool2D((2,2))(x)\n",
        "  x = Conv2D(64, (3,3), activation='relu')(x)\n",
        "  x = Conv2D(64, (3,3), activation='relu')(x)\n",
        "  x = MaxPool2D((2,2))(x)\n",
        "  x = Flatten()(x)\n",
        "  x = Dense(512, activation='relu')(x)\n",
        "  x = Dropout(0.4)(x)\n",
        "  x = Dense(1, activation='sigmoid')(x)\n",
        "\n",
        "  model = Model(inputs=[input], outputs=[x])\n",
        "  return model\n",
        "\n",
        "model = get_model()\n",
        "model.compile(optimizer='adam', loss='binary_crossentropy', metrics=['accuracy'])\n",
        "\n",
        "model.summary()"
      ]
    },
    {
      "cell_type": "code",
      "execution_count": null,
      "id": "7d5a0306",
      "metadata": {
        "id": "7d5a0306"
      },
      "outputs": [],
      "source": [
        "import numpy as np\n",
        "from keras import models\n",
        "from keras.models import Sequential\n",
        "from keras.layers import Dense , MaxPooling2D\n",
        "\n",
        "\n",
        "def get_model():\n",
        "    model = Sequential()\n",
        "    # Add Convolutional layers\n",
        "    model.add(Conv2D(50, (3, 3), activation='relu', input_shape=(50,50,1)))\n",
        "    model.add(MaxPooling2D((2, 2)))\n",
        "    model.add(Conv2D(64, (3, 3), activation='relu'))\n",
        "    model.add(MaxPooling2D((2, 2)))\n",
        "    model.add(Conv2D(64, (3, 3), activation='relu'))\n",
        "\n",
        "    # Flatten the output of the Convolutional layers\n",
        "    model.add(Flatten())\n",
        "\n",
        "    # Add Dense layers\n",
        "    model.add(Dense(512, activation='relu'))\n",
        "    model.add(Dropout(0.4))\n",
        "    model.add(Dense(1, activation='sigmoid'))\n",
        "    return model\n",
        "\n"
      ]
    },
    {
      "cell_type": "code",
      "source": [
        "\n",
        "model = get_model()\n",
        "\n",
        "# Compile the model\n",
        "model.compile(optimizer='adam', loss='binary_crossentropy', metrics=['accuracy'])\n",
        "#model.compile(optimizer='adam', loss='sparse_categorical_crossentropy', metrics=['accuracy'])\n",
        "\n",
        "# Print the model summary\n",
        "model.summary()"
      ],
      "metadata": {
        "id": "P0_VSmWcvq5h",
        "outputId": "7f4a591b-c8f7-4014-975a-87041e0b859b",
        "colab": {
          "base_uri": "https://localhost:8080/"
        }
      },
      "id": "P0_VSmWcvq5h",
      "execution_count": null,
      "outputs": [
        {
          "output_type": "stream",
          "name": "stdout",
          "text": [
            "Model: \"sequential\"\n",
            "_________________________________________________________________\n",
            " Layer (type)                Output Shape              Param #   \n",
            "=================================================================\n",
            " conv2d (Conv2D)             (None, 48, 48, 50)        500       \n",
            "                                                                 \n",
            " max_pooling2d (MaxPooling2D  (None, 24, 24, 50)       0         \n",
            " )                                                               \n",
            "                                                                 \n",
            " conv2d_1 (Conv2D)           (None, 22, 22, 64)        28864     \n",
            "                                                                 \n",
            " max_pooling2d_1 (MaxPooling  (None, 11, 11, 64)       0         \n",
            " 2D)                                                             \n",
            "                                                                 \n",
            " conv2d_2 (Conv2D)           (None, 9, 9, 64)          36928     \n",
            "                                                                 \n",
            " flatten (Flatten)           (None, 5184)              0         \n",
            "                                                                 \n",
            " dense (Dense)               (None, 512)               2654720   \n",
            "                                                                 \n",
            " dropout (Dropout)           (None, 512)               0         \n",
            "                                                                 \n",
            " dense_1 (Dense)             (None, 1)                 513       \n",
            "                                                                 \n",
            "=================================================================\n",
            "Total params: 2,721,525\n",
            "Trainable params: 2,721,525\n",
            "Non-trainable params: 0\n",
            "_________________________________________________________________\n"
          ]
        }
      ]
    },
    {
      "cell_type": "code",
      "source": [
        "history = model.fit(\n",
        "      trainData,\n",
        "      validation_data=testData,\n",
        "      epochs=10,\n",
        "      verbose=1,  callbacks=[modelcheckpoint])"
      ],
      "metadata": {
        "colab": {
          "base_uri": "https://localhost:8080/"
        },
        "id": "Uz5DmFHEH-Sg",
        "outputId": "17a0ab97-1956-43dc-d994-cd2911d45688"
      },
      "id": "Uz5DmFHEH-Sg",
      "execution_count": null,
      "outputs": [
        {
          "output_type": "stream",
          "name": "stdout",
          "text": [
            "Epoch 1/10\n",
            "56/56 [==============================] - ETA: 0s - loss: 0.0211 - accuracy: 0.9857\n",
            "Epoch 1: val_loss improved from inf to 250.44296, saving model to CNN-checkpoint.hdf5\n",
            "56/56 [==============================] - 2596s 47s/step - loss: 0.0211 - accuracy: 0.9857 - val_loss: 250.4430 - val_accuracy: 0.0390\n",
            "Epoch 2/10\n",
            "56/56 [==============================] - ETA: 0s - loss: 0.0000e+00 - accuracy: 1.0000\n",
            "Epoch 2: val_loss did not improve from 250.44296\n",
            "56/56 [==============================] - 49s 885ms/step - loss: 0.0000e+00 - accuracy: 1.0000 - val_loss: 254.0122 - val_accuracy: 0.0390\n",
            "Epoch 3/10\n",
            "56/56 [==============================] - ETA: 0s - loss: 0.0000e+00 - accuracy: 1.0000\n",
            "Epoch 3: val_loss did not improve from 250.44296\n",
            "56/56 [==============================] - 47s 848ms/step - loss: 0.0000e+00 - accuracy: 1.0000 - val_loss: 254.0246 - val_accuracy: 0.0390\n",
            "Epoch 4/10\n",
            "56/56 [==============================] - ETA: 0s - loss: 0.0000e+00 - accuracy: 1.0000\n",
            "Epoch 4: val_loss did not improve from 250.44296\n",
            "56/56 [==============================] - 47s 851ms/step - loss: 0.0000e+00 - accuracy: 1.0000 - val_loss: 254.0249 - val_accuracy: 0.0390\n",
            "Epoch 5/10\n",
            "56/56 [==============================] - ETA: 0s - loss: 0.0000e+00 - accuracy: 1.0000\n",
            "Epoch 5: val_loss did not improve from 250.44296\n",
            "56/56 [==============================] - 47s 859ms/step - loss: 0.0000e+00 - accuracy: 1.0000 - val_loss: 254.0246 - val_accuracy: 0.0390\n",
            "Epoch 6/10\n",
            "56/56 [==============================] - ETA: 0s - loss: 0.0000e+00 - accuracy: 1.0000\n",
            "Epoch 6: val_loss did not improve from 250.44296\n",
            "56/56 [==============================] - 39s 699ms/step - loss: 0.0000e+00 - accuracy: 1.0000 - val_loss: 254.0246 - val_accuracy: 0.0390\n",
            "Epoch 7/10\n",
            "56/56 [==============================] - ETA: 0s - loss: 0.0000e+00 - accuracy: 1.0000\n",
            "Epoch 7: val_loss did not improve from 250.44296\n",
            "56/56 [==============================] - 41s 744ms/step - loss: 0.0000e+00 - accuracy: 1.0000 - val_loss: 254.0248 - val_accuracy: 0.0390\n",
            "Epoch 8/10\n",
            "56/56 [==============================] - ETA: 0s - loss: 0.0000e+00 - accuracy: 1.0000\n",
            "Epoch 8: val_loss did not improve from 250.44296\n",
            "56/56 [==============================] - 47s 853ms/step - loss: 0.0000e+00 - accuracy: 1.0000 - val_loss: 254.0249 - val_accuracy: 0.0390\n",
            "Epoch 9/10\n",
            "56/56 [==============================] - ETA: 0s - loss: 0.0000e+00 - accuracy: 1.0000\n",
            "Epoch 9: val_loss did not improve from 250.44296\n",
            "56/56 [==============================] - 47s 857ms/step - loss: 0.0000e+00 - accuracy: 1.0000 - val_loss: 254.0247 - val_accuracy: 0.0390\n",
            "Epoch 10/10\n",
            "56/56 [==============================] - ETA: 0s - loss: 0.0000e+00 - accuracy: 1.0000\n",
            "Epoch 10: val_loss did not improve from 250.44296\n",
            "56/56 [==============================] - 36s 652ms/step - loss: 0.0000e+00 - accuracy: 1.0000 - val_loss: 254.0249 - val_accuracy: 0.0390\n"
          ]
        }
      ]
    },
    {
      "cell_type": "code",
      "source": [
        "history = model.fit(\n",
        "      trainData,\n",
        "      epochs=10,\n",
        "      verbose=1)\n"
      ],
      "metadata": {
        "id": "yLfFfI7Typ9o"
      },
      "id": "yLfFfI7Typ9o",
      "execution_count": null,
      "outputs": []
    },
    {
      "cell_type": "code",
      "execution_count": null,
      "id": "bbc31cef",
      "metadata": {
        "id": "bbc31cef",
        "colab": {
          "base_uri": "https://localhost:8080/",
          "height": 398
        },
        "outputId": "97d3ca55-8aa7-49de-ca07-7c7588e2e298"
      },
      "outputs": [
        {
          "output_type": "display_data",
          "data": {
            "text/plain": [
              "<Figure size 2000x600 with 2 Axes>"
            ],
            "image/png": "[encoded data removed]"
          },
          "metadata": {}
        }
      ],
      "source": [
        "plt.figure(figsize=(20,6))\n",
        "for i, met in enumerate(['accuracy', 'loss']):\n",
        "  plt.subplot(1,2,i+1)\n",
        "  #plt.plot(history.history[met], color=\"b\")\n",
        "  plt.plot(history.history[met], color=\"g\")\n",
        "  plt.title('Model '+met.capitalize())\n",
        "  plt.xlabel('epochs')\n",
        "  plt.ylabel(met)\n",
        "  plt.legend(['train', 'val'])"
      ]
    },
    {
      "cell_type": "code",
      "source": [
        "history.history"
      ],
      "metadata": {
        "id": "762zrj671mhf",
        "outputId": "b9a41862-227c-4eb5-8daf-1bc4d1a87033",
        "colab": {
          "base_uri": "https://localhost:8080/"
        }
      },
      "id": "762zrj671mhf",
      "execution_count": null,
      "outputs": [
        {
          "output_type": "execute_result",
          "data": {
            "text/plain": [
              "{'loss': [0.01922946609556675,\n",
              "  6.326799179988678e-32,\n",
              "  1.4981465087741257e-31,\n",
              "  1.4929616382915188e-31,\n",
              "  6.586853795221093e-32,\n",
              "  6.34207649231914e-32,\n",
              "  6.540724458158949e-32,\n",
              "  4.92343075887107e-29,\n",
              "  1.1340198244526063e-32,\n",
              "  1.3849775063704622e-30],\n",
              " 'accuracy': [0.9928571581840515, 1.0, 1.0, 1.0, 1.0, 1.0, 1.0, 1.0, 1.0, 1.0],\n",
              " 'val_loss': [158.40029907226562,\n",
              "  160.44964599609375,\n",
              "  160.45697021484375,\n",
              "  160.4570770263672,\n",
              "  160.4568634033203,\n",
              "  160.4568328857422,\n",
              "  160.45687866210938,\n",
              "  160.4569854736328,\n",
              "  160.45687866210938,\n",
              "  160.4569549560547],\n",
              " 'val_accuracy': [0.03904961049556732,\n",
              "  0.03904961049556732,\n",
              "  0.03904961049556732,\n",
              "  0.03904961049556732,\n",
              "  0.03904961049556732,\n",
              "  0.03904961049556732,\n",
              "  0.03904961049556732,\n",
              "  0.03904961049556732,\n",
              "  0.03904961049556732,\n",
              "  0.03904961049556732]}"
            ]
          },
          "metadata": {},
          "execution_count": 14
        }
      ]
    },
    {
      "cell_type": "markdown",
      "source": [
        "---\n",
        "Save the Model\n",
        "\n",
        "----"
      ],
      "metadata": {
        "id": "qObFVpkudSdF"
      },
      "id": "qObFVpkudSdF"
    },
    {
      "cell_type": "code",
      "execution_count": null,
      "id": "00a2b0e5",
      "metadata": {
        "id": "00a2b0e5"
      },
      "outputs": [],
      "source": [
        "from datetime import datetime\n",
        "\n",
        "# Get the current date and time\n",
        "now = datetime.now()\n",
        "\n",
        "# Format the date and time\n",
        "formatted_now = now.strftime(\"%Y%m%d_%H%M%S\")\n",
        "\n",
        "# Define your filename\n",
        "filename = f\"CNN_model_{formatted_now}.h5\"\n",
        "\n",
        "model.save(filename)"
      ]
    },
    {
      "cell_type": "markdown",
      "source": [
        "---\n",
        "Example Of how to pull from one of the checkpoints.\n",
        "\n",
        "---"
      ],
      "metadata": {
        "id": "D3ul3Y0H0zhy"
      },
      "id": "D3ul3Y0H0zhy"
    },
    {
      "cell_type": "code",
      "execution_count": null,
      "id": "5c48fdd1",
      "metadata": {
        "id": "5c48fdd1"
      },
      "outputs": [],
      "source": [
        "# Pulling  up a checkpoint model weights and recreating it at that point and saving it.\n",
        "\n",
        "model2 = get_model()\n",
        "model2.compile(optimizer='adam', loss='binary_crossentropy', metrics=['accuracy'])\n",
        "model2.load_weights(\"checkpoint-003-0.189.hdf5\")\n",
        "model2.save(\"checkpoint_model.h5\")\n",
        "#model2.save(\"FPR_classifier_model.h5\")\n",
        "\n"
      ]
    },
    {
      "cell_type": "code",
      "execution_count": null,
      "id": "479833e2",
      "metadata": {
        "id": "479833e2"
      },
      "outputs": [],
      "source": []
    }
  ],
  "metadata": {
    "kernelspec": {
      "display_name": "Python 3.9 (Conda 2022.05) [python/3.9-2022.05]",
      "language": "python",
      "name": "python39_202205"
    },
    "language_info": {
      "codemirror_mode": {
        "name": "ipython",
        "version": 3
      },
      "file_extension": ".py",
      "mimetype": "text/x-python",
      "name": "python",
      "nbconvert_exporter": "python",
      "pygments_lexer": "ipython3",
      "version": "3.9.12"
    },
    "colab": {
      "provenance": [],
      "gpuType": "T4",
      "include_colab_link": true
    },
    "accelerator": "GPU"
  },
  "nbformat": 4,
  "nbformat_minor": 5
}